{
 "cells": [
  {
   "cell_type": "code",
   "execution_count": 10,
   "id": "5bb2a47e-10a4-49d0-b942-7f350193dc63",
   "metadata": {},
   "outputs": [],
   "source": [
    "import pandas as pd\n",
    "import numpy as np"
   ]
  },
  {
   "cell_type": "code",
   "execution_count": 11,
   "id": "2d533c97-93e5-46cb-aaad-694e2572caa7",
   "metadata": {},
   "outputs": [
    {
     "data": {
      "text/html": [
       "<div>\n",
       "<style scoped>\n",
       "    .dataframe tbody tr th:only-of-type {\n",
       "        vertical-align: middle;\n",
       "    }\n",
       "\n",
       "    .dataframe tbody tr th {\n",
       "        vertical-align: top;\n",
       "    }\n",
       "\n",
       "    .dataframe thead th {\n",
       "        text-align: right;\n",
       "    }\n",
       "</style>\n",
       "<table border=\"1\" class=\"dataframe\">\n",
       "  <thead>\n",
       "    <tr style=\"text-align: right;\">\n",
       "      <th></th>\n",
       "      <th>title</th>\n",
       "      <th>magnitude</th>\n",
       "      <th>date_time</th>\n",
       "      <th>cdi</th>\n",
       "      <th>mmi</th>\n",
       "      <th>alert</th>\n",
       "      <th>tsunami</th>\n",
       "      <th>sig</th>\n",
       "      <th>net</th>\n",
       "      <th>nst</th>\n",
       "      <th>dmin</th>\n",
       "      <th>gap</th>\n",
       "      <th>magType</th>\n",
       "      <th>depth</th>\n",
       "      <th>latitude</th>\n",
       "      <th>longitude</th>\n",
       "      <th>location</th>\n",
       "      <th>continent</th>\n",
       "      <th>country</th>\n",
       "    </tr>\n",
       "  </thead>\n",
       "  <tbody>\n",
       "    <tr>\n",
       "      <th>0</th>\n",
       "      <td>M 7.0 - 18 km SW of Malango, Solomon Islands</td>\n",
       "      <td>7.0</td>\n",
       "      <td>22-11-2022 02:03</td>\n",
       "      <td>8</td>\n",
       "      <td>7</td>\n",
       "      <td>green</td>\n",
       "      <td>1</td>\n",
       "      <td>768</td>\n",
       "      <td>us</td>\n",
       "      <td>117</td>\n",
       "      <td>0.509</td>\n",
       "      <td>17.0</td>\n",
       "      <td>mww</td>\n",
       "      <td>14.000</td>\n",
       "      <td>-9.7963</td>\n",
       "      <td>159.596</td>\n",
       "      <td>Malango, Solomon Islands</td>\n",
       "      <td>Oceania</td>\n",
       "      <td>Solomon Islands</td>\n",
       "    </tr>\n",
       "    <tr>\n",
       "      <th>1</th>\n",
       "      <td>M 6.9 - 204 km SW of Bengkulu, Indonesia</td>\n",
       "      <td>6.9</td>\n",
       "      <td>18-11-2022 13:37</td>\n",
       "      <td>4</td>\n",
       "      <td>4</td>\n",
       "      <td>green</td>\n",
       "      <td>0</td>\n",
       "      <td>735</td>\n",
       "      <td>us</td>\n",
       "      <td>99</td>\n",
       "      <td>2.229</td>\n",
       "      <td>34.0</td>\n",
       "      <td>mww</td>\n",
       "      <td>25.000</td>\n",
       "      <td>-4.9559</td>\n",
       "      <td>100.738</td>\n",
       "      <td>Bengkulu, Indonesia</td>\n",
       "      <td>NaN</td>\n",
       "      <td>NaN</td>\n",
       "    </tr>\n",
       "    <tr>\n",
       "      <th>2</th>\n",
       "      <td>M 7.0 -</td>\n",
       "      <td>7.0</td>\n",
       "      <td>12-11-2022 07:09</td>\n",
       "      <td>3</td>\n",
       "      <td>3</td>\n",
       "      <td>green</td>\n",
       "      <td>1</td>\n",
       "      <td>755</td>\n",
       "      <td>us</td>\n",
       "      <td>147</td>\n",
       "      <td>3.125</td>\n",
       "      <td>18.0</td>\n",
       "      <td>mww</td>\n",
       "      <td>579.000</td>\n",
       "      <td>-20.0508</td>\n",
       "      <td>-178.346</td>\n",
       "      <td>NaN</td>\n",
       "      <td>Oceania</td>\n",
       "      <td>Fiji</td>\n",
       "    </tr>\n",
       "    <tr>\n",
       "      <th>3</th>\n",
       "      <td>M 7.3 - 205 km ESE of Neiafu, Tonga</td>\n",
       "      <td>7.3</td>\n",
       "      <td>11-11-2022 10:48</td>\n",
       "      <td>5</td>\n",
       "      <td>5</td>\n",
       "      <td>green</td>\n",
       "      <td>1</td>\n",
       "      <td>833</td>\n",
       "      <td>us</td>\n",
       "      <td>149</td>\n",
       "      <td>1.865</td>\n",
       "      <td>21.0</td>\n",
       "      <td>mww</td>\n",
       "      <td>37.000</td>\n",
       "      <td>-19.2918</td>\n",
       "      <td>-172.129</td>\n",
       "      <td>Neiafu, Tonga</td>\n",
       "      <td>NaN</td>\n",
       "      <td>NaN</td>\n",
       "    </tr>\n",
       "    <tr>\n",
       "      <th>4</th>\n",
       "      <td>M 6.6 -</td>\n",
       "      <td>6.6</td>\n",
       "      <td>09-11-2022 10:14</td>\n",
       "      <td>0</td>\n",
       "      <td>2</td>\n",
       "      <td>green</td>\n",
       "      <td>1</td>\n",
       "      <td>670</td>\n",
       "      <td>us</td>\n",
       "      <td>131</td>\n",
       "      <td>4.998</td>\n",
       "      <td>27.0</td>\n",
       "      <td>mww</td>\n",
       "      <td>624.464</td>\n",
       "      <td>-25.5948</td>\n",
       "      <td>178.278</td>\n",
       "      <td>NaN</td>\n",
       "      <td>NaN</td>\n",
       "      <td>NaN</td>\n",
       "    </tr>\n",
       "  </tbody>\n",
       "</table>\n",
       "</div>"
      ],
      "text/plain": [
       "                                          title  magnitude         date_time  \\\n",
       "0  M 7.0 - 18 km SW of Malango, Solomon Islands        7.0  22-11-2022 02:03   \n",
       "1      M 6.9 - 204 km SW of Bengkulu, Indonesia        6.9  18-11-2022 13:37   \n",
       "2                                      M 7.0 -         7.0  12-11-2022 07:09   \n",
       "3           M 7.3 - 205 km ESE of Neiafu, Tonga        7.3  11-11-2022 10:48   \n",
       "4                                      M 6.6 -         6.6  09-11-2022 10:14   \n",
       "\n",
       "   cdi  mmi  alert  tsunami  sig net  nst   dmin   gap magType    depth  \\\n",
       "0    8    7  green        1  768  us  117  0.509  17.0     mww   14.000   \n",
       "1    4    4  green        0  735  us   99  2.229  34.0     mww   25.000   \n",
       "2    3    3  green        1  755  us  147  3.125  18.0     mww  579.000   \n",
       "3    5    5  green        1  833  us  149  1.865  21.0     mww   37.000   \n",
       "4    0    2  green        1  670  us  131  4.998  27.0     mww  624.464   \n",
       "\n",
       "   latitude  longitude                  location continent          country  \n",
       "0   -9.7963    159.596  Malango, Solomon Islands   Oceania  Solomon Islands  \n",
       "1   -4.9559    100.738       Bengkulu, Indonesia       NaN              NaN  \n",
       "2  -20.0508   -178.346                       NaN   Oceania             Fiji  \n",
       "3  -19.2918   -172.129             Neiafu, Tonga       NaN              NaN  \n",
       "4  -25.5948    178.278                       NaN       NaN              NaN  "
      ]
     },
     "execution_count": 11,
     "metadata": {},
     "output_type": "execute_result"
    }
   ],
   "source": [
    "url = 'https://raw.githubusercontent.com/eladavnet/my_project/main/earthquake_data.csv'\n",
    "earthquake_df = pd.read_csv(url, encoding =\"latin-1\")\n",
    "earthquake_df.head()"
   ]
  },
  {
   "cell_type": "code",
   "execution_count": 12,
   "id": "67bbbe2e-48c5-4963-88c8-b6c621c6e391",
   "metadata": {},
   "outputs": [
    {
     "data": {
      "application/vnd.plotly.v1+json": {
       "config": {
        "plotlyServerURL": "https://plot.ly"
       },
       "data": [
        {
         "customdata": [
          [
           7,
           "Malango, Solomon Islands",
           768
          ],
          [
           6.9,
           "Bengkulu, Indonesia",
           735
          ],
          [
           7,
           null,
           755
          ],
          [
           7.3,
           "Neiafu, Tonga",
           833
          ],
          [
           6.6,
           null,
           670
          ],
          [
           7,
           "the Fiji Islands",
           755
          ],
          [
           6.8,
           "the Fiji Islands",
           711
          ],
          [
           6.7,
           "Boca Chica, Panama",
           797
          ],
          [
           6.8,
           "Aguililla, Mexico",
           1179
          ],
          [
           7.6,
           "Aguililla, Mexico",
           1799
          ],
          [
           6.9,
           "Yujing, Taiwan",
           887
          ],
          [
           6.5,
           "Lugu, Taiwan",
           756
          ],
          [
           7,
           "Isangel, Vanuatu",
           761
          ],
          [
           7.6,
           "Kainantu, Papua New Guinea",
           965
          ],
          [
           6.6,
           "Kangding, China",
           1043
          ],
          [
           6.6,
           "the Kermadec Islands",
           672
          ],
          [
           7,
           "Bantay, Philippines",
           1351
          ],
          [
           6.5,
           "TarauacÃ¡, Brazil",
           653
          ],
          [
           7.2,
           "AzÃ¡ngaro, Peru",
           876
          ],
          [
           6.9,
           null,
           733
          ],
          [
           6.8,
           "San Antonio de los Cobres, Argentina",
           762
          ],
          [
           6.6,
           "Masachapa, Nicaragua",
           762
          ],
          [
           7,
           "the Loyalty Islands",
           763
          ],
          [
           6.9,
           "Tadine, New Caledonia",
           738
          ],
          [
           6.7,
           "Hualien City, Taiwan",
           806
          ],
          [
           7.3,
           "Namie, Japan",
           2397
          ],
          [
           6.7,
           "Pariaman, Indonesia",
           708
          ],
          [
           6.6,
           "Kermadec Islands, New Zealand",
           670
          ],
          [
           6.8,
           "the Fiji Islands",
           712
          ],
          [
           6.5,
           "Barranca, Peru",
           690
          ],
          [
           6.5,
           "Kermadec Islands region",
           651
          ],
          [
           6.6,
           "Labuan, Indonesia",
           785
          ],
          [
           6.5,
           "Nikolski, Alaska",
           650
          ],
          [
           6.5,
           "Nikolski, Alaska",
           650
          ],
          [
           6.6,
           "Nikolski, Alaska",
           674
          ],
          [
           6.7,
           "Nikolski, Alaska",
           691
          ],
          [
           6.7,
           "Nikolski, Alaska",
           691
          ],
          [
           6.8,
           "Nikolski, Alaska",
           730
          ],
          [
           6.6,
           "PÃ³lis, Cyprus",
           976
          ],
          [
           6.6,
           "northern Qinghai, China",
           1012
          ],
          [
           7.3,
           "Lospalos, Timor Leste",
           921
          ],
          [
           7.3,
           "Flores Sea",
           854
          ],
          [
           7.5,
           "Barranca, Peru",
           1094
          ],
          [
           6.6,
           "Hirara, Japan",
           688
          ],
          [
           6.9,
           "Chignik, Alaska",
           995
          ],
          [
           6.9,
           "Vanuatu region",
           740
          ],
          [
           7.3,
           "Vanuatu region",
           826
          ],
          [
           6.5,
           "Jiquilillo, Nicaragua",
           684
          ],
          [
           7,
           "Acapulco, Mexico",
           2504
          ],
          [
           7.1,
           "South Sandwich Islands region",
           776
          ],
          [
           6.6,
           "South Sandwich Islands region",
           670
          ],
          [
           6.9,
           "Port-Olry, Vanuatu",
           741
          ],
          [
           6.9,
           "South Sandwich Islands region",
           734
          ],
          [
           7.2,
           "Nippes, Haiti",
           2331
          ],
          [
           6.9,
           "Perryville, Alaska",
           738
          ],
          [
           6.9,
           "Perryville, Alaska",
           738
          ],
          [
           8.1,
           "South Sandwich Islands region",
           1009
          ],
          [
           7.5,
           "South Sandwich Islands region",
           868
          ],
          [
           7.1,
           "Pondaguitan, Philippines",
           846
          ],
          [
           8.2,
           "Perryville, Alaska",
           1237
          ],
          [
           8.2,
           "Perryville, Alaska",
           1252
          ],
          [
           6.7,
           "Hukay, Philippines",
           935
          ],
          [
           6.7,
           "Burica, Panama",
           830
          ],
          [
           6.5,
           "Kermadec Islands, New Zealand",
           650
          ],
          [
           6.5,
           "Alo, Wallis and Futuna",
           652
          ],
          [
           7.3,
           "Southern Qinghai, China",
           1025
          ],
          [
           6.7,
           "Sinabang, Indonesia",
           698
          ],
          [
           6.7,
           "Mauritius - Reunion region",
           694
          ],
          [
           6.9,
           null,
           919
          ],
          [
           6.5,
           "Haveluloto, Tonga",
           651
          ],
          [
           6.5,
           "Pangai, Tonga",
           652
          ],
          [
           7,
           "Ishinomaki, Japan",
           1052
          ],
          [
           6.6,
           "Ustâ-Kamchatsk Staryy, Russia",
           672
          ],
          [
           6.5,
           "Kermadec Islands region",
           650
          ],
          [
           8.1,
           "Kermadec Islands, New Zealand",
           1021
          ],
          [
           7.4,
           "Kermadec Islands, New Zealand",
           843
          ],
          [
           7.3,
           "Gisborne, New Zealand",
           932
          ],
          [
           7.1,
           "Namie, Japan",
           1612
          ],
          [
           7.7,
           "the Loyalty Islands",
           918
          ],
          [
           6.9,
           "South Shetland Islands",
           739
          ],
          [
           7,
           "Pondaguitan, Philippines",
           802
          ],
          [
           6.7,
           "Turt, Mongolia",
           776
          ],
          [
           6.7,
           "Corral, Chile",
           776
          ],
          [
           7,
           "NÃ©on KarlovÃ¡sion, Greece",
           1527
          ],
          [
           7.6,
           "Sand Point, Alaska",
           1165
          ],
          [
           6.9,
           "central Mid-Atlantic Ridge",
           732
          ],
          [
           6.5,
           "Vallenar, Chile",
           674
          ],
          [
           6.8,
           "Vallenar, Chile",
           824
          ],
          [
           6.5,
           "central Mid-Atlantic Ridge",
           651
          ],
          [
           6.9,
           "Katabu, Indonesia",
           749
          ],
          [
           6.9,
           "Bengkulu, Indonesia",
           735
          ],
          [
           6.8,
           "Bengkulu, Indonesia",
           716
          ],
          [
           6.6,
           "San Pedro, Philippines",
           784
          ],
          [
           7.8,
           "Perryville, Alaska",
           1111
          ],
          [
           7,
           "Popondetta, Papua New Guinea",
           820
          ],
          [
           6.6,
           "Batang, Indonesia",
           684
          ],
          [
           7.4,
           "Santa MarÃ­a Xadani, Mexico",
           1494
          ],
          [
           7.4,
           "the Kermadec Islands",
           873
          ],
          [
           6.6,
           "Naze, Japan",
           734
          ],
          [
           6.8,
           "San Pedro de Atacama, Chile",
           835
          ],
          [
           6.5,
           "Monte Cristo Range, NV Earthquake",
           1320
          ],
          [
           6.6,
           "Lata, Solomon Islands",
           671
          ],
          [
           6.8,
           "Banda Sea",
           738
          ],
          [
           6.5,
           "NÃ©a AnatolÃ­, Greece",
           678
          ],
          [
           6.5,
           "Stanley, Idaho",
           1410
          ],
          [
           7.5,
           "Severo-Kurilâsk, Russia",
           879
          ],
          [
           7,
           "Kurilâsk, Russia",
           770
          ],
          [
           7.7,
           "Lucea, Jamaica",
           1812
          ],
          [
           6.7,
           "Do?anyol, Turkey",
           1247
          ],
          [
           6.8,
           "Magsaysay, Philippines",
           825
          ],
          [
           7.1,
           "Bitung, Indonesia",
           799
          ],
          [
           6.5,
           "Ndoi Island, Fiji",
           650
          ],
          [
           6.6,
           "Neiafu, Tonga",
           673
          ],
          [
           6.5,
           "Kisante, Philippines",
           733
          ],
          [
           6.6,
           "Columbio, Philippines",
           780
          ],
          [
           6.7,
           "ConstituciÃ³n, Chile",
           844
          ],
          [
           6.5,
           "Kairatu, Indonesia",
           656
          ],
          [
           6.6,
           "Ndoi Island, Fiji",
           671
          ],
          [
           6.6,
           "Bristol Island, South Sandwich Islands",
           670
          ],
          [
           6.9,
           "Labuan, Indonesia",
           875
          ],
          [
           6.8,
           "San Antonio, Chile",
           947
          ],
          [
           6.6,
           "Lakatoro, Vanuatu",
           670
          ],
          [
           7.2,
           "Laiwui, Indonesia",
           809
          ],
          [
           6.6,
           "Broome, Australia",
           791
          ],
          [
           6.9,
           "Kota Ternate, Indonesia",
           747
          ],
          [
           7.1,
           "Searles Valley, CA",
           1646
          ],
          [
           7.3,
           "Saumlaki, Indonesia",
           952
          ],
          [
           7.3,
           "L'Esperance Rock, New Zealand",
           830
          ],
          [
           6.6,
           "La Libertad, El Salvador",
           886
          ],
          [
           8,
           "Navarro, Peru",
           1890
          ],
          [
           7.6,
           "Namatanai, Papua New Guinea",
           929
          ],
          [
           7.1,
           "Bulolo, Papua New Guinea",
           826
          ],
          [
           6.8,
           "Luwuk, Indonesia",
           717
          ],
          [
           6.5,
           "Bristol Island, South Sandwich Islands",
           650
          ],
          [
           7,
           "AzÃ¡ngaro, Peru",
           869
          ],
          [
           7.5,
           "Palora, Ecuador",
           1145
          ],
          [
           6.7,
           "Puerto Madero, Mexico",
           909
          ],
          [
           6.7,
           "Prince Edward Islands region",
           691
          ],
          [
           6.7,
           "Coquimbo, Chile",
           1600
          ],
          [
           6.6,
           "Sola, Vanuatu",
           671
          ],
          [
           6.6,
           "Molucca Sea",
           672
          ],
          [
           6.8,
           "Tarauaca, Brazil",
           715
          ],
          [
           7,
           "Pondaguitan, Philippines",
           803
          ],
          [
           7.3,
           "Ustâ-Kamchatsk Staryy, Russia",
           822
          ],
          [
           7.1,
           "South Sandwich Islands region",
           776
          ],
          [
           6.6,
           "Tadine, New Caledonia",
           670
          ],
          [
           7.5,
           "Tadine, New Caledonia",
           871
          ],
          [
           7.1,
           "Point MacKenzie, Alaska",
           1790
          ],
          [
           6.8,
           "Levuka, Fiji",
           711
          ],
          [
           6.7,
           "Olonkinbyen, Svalbard and Jan Mayen",
           693
          ],
          [
           6.8,
           "LithakiÃ¡, Greece",
           954
          ],
          [
           6.5,
           "Port McNeill, Canada",
           655
          ],
          [
           6.8,
           "Port McNeill, Canada",
           776
          ],
          [
           6.5,
           "Port McNeill, Canada",
           669
          ],
          [
           6.5,
           "Tadine, New Caledonia",
           650
          ],
          [
           6.7,
           "Ozernovskiy, Russia",
           691
          ],
          [
           6.5,
           "Severo-Kurilâsk, Russia",
           650
          ],
          [
           7,
           "Kimbe, Papua New Guinea",
           758
          ],
          [
           6.7,
           "Levuka, Fiji",
           691
          ],
          [
           7.5,
           "Palu, Indonesia",
           2026
          ],
          [
           6.5,
           "the Fiji Islands",
           651
          ],
          [
           6.9,
           "Kermadec Islands region",
           735
          ],
          [
           6.5,
           "Kirakira, Solomon Islands",
           651
          ],
          [
           7.9,
           "Levuka, Fiji",
           979
          ],
          [
           6.6,
           "Chitose, Japan",
           1075
          ],
          [
           7.1,
           "Tadine, New Caledonia",
           776
          ],
          [
           7.1,
           "IÃ±apari, Peru",
           776
          ],
          [
           6.5,
           "Lakatoro, Vanuatu",
           652
          ],
          [
           7.3,
           "CarÃºpano, Venezuela",
           1570
          ],
          [
           6.9,
           "Labuan Lombok, Indonesia",
           1206
          ],
          [
           8.2,
           "Levuka, Fiji",
           1050
          ],
          [
           6.5,
           "Labuan Bajo, Indonesia",
           743
          ],
          [
           6.5,
           "Adak, Alaska",
           655
          ],
          [
           6.9,
           "Labuan Lombok, Indonesia",
           1704
          ],
          [
           6.9,
           "Leilani Estates, Hawaii",
           1392
          ],
          [
           6.8,
           "Boyuibe, Bolivia",
           733
          ],
          [
           6.9,
           "Kimbe, Papua New Guinea",
           741
          ],
          [
           6.7,
           "Kimbe, Papua New Guinea",
           696
          ],
          [
           6.8,
           "Kokopo, Papua New Guinea",
           719
          ],
          [
           6.7,
           "Tari, Papua New Guinea",
           697
          ],
          [
           7.5,
           "Tari, Papua New Guinea",
           943
          ],
          [
           7.2,
           "Pinotepa de Don Luis, Mexico",
           1384
          ],
          [
           7.9,
           "Chiniak, Alaska",
           1870
          ],
          [
           7.1,
           "Atiquipa, Peru",
           1075
          ],
          [
           7.5,
           "Barra Patuca, Honduras",
           1623
          ],
          [
           6.5,
           "Kawalu, Indonesia",
           998
          ],
          [
           6.5,
           "Bouvet Island region",
           651
          ],
          [
           7,
           "Tadine, New Caledonia",
           771
          ],
          [
           6.6,
           "Tadine, New Caledonia",
           676
          ],
          [
           6.5,
           "Parrita, Costa Rica",
           1153
          ],
          [
           7.3,
           "?alabja, Iraq",
           2790
          ],
          [
           6.5,
           "Angoram, Papua New Guinea",
           661
          ],
          [
           6.8,
           "Hihifo, Tonga",
           727
          ],
          [
           6.6,
           "Tadine, New Caledonia",
           674
          ],
          [
           6.7,
           "Tadine, New Caledonia",
           691
          ],
          [
           6.7,
           "Maumere, Indonesia",
           694
          ],
          [
           6.5,
           "Attu Station, Alaska",
           651
          ],
          [
           7.1,
           "Matzaco, Mexico",
           1686
          ],
          [
           8.2,
           "Chiapas, Mexico",
           2910
          ],
          [
           6.5,
           "Mawu, China",
           707
          ],
          [
           6.6,
           "Kos, Greece",
           1064
          ],
          [
           7.7,
           "Komandorskiye Ostrova, Russia region",
           918
          ],
          [
           6.6,
           "Auckland Islands, New Zealand region",
           704
          ],
          [
           6.5,
           "Lim-oo, Philippines",
           740
          ],
          [
           6.8,
           "Puerto San JosÃ©, Guatemala",
           1034
          ],
          [
           6.9,
           "San Pablo, Guatemala",
           1188
          ],
          [
           6.8,
           "Attu Station, Alaska",
           711
          ],
          [
           6.6,
           "Poso, Indonesia",
           678
          ],
          [
           6.5,
           "South Sandwich Islands region",
           650
          ],
          [
           6.8,
           "Port-Olry, Vanuatu",
           713
          ],
          [
           6.9,
           "Burias, Philippines",
           814
          ],
          [
           6.9,
           "ValparaÃ­so, Chile",
           1642
          ],
          [
           6.5,
           "Moijabana, Botswana",
           1297
          ],
          [
           6.6,
           "Ustâ-Kamchatsk Staryy, Russia",
           671
          ],
          [
           6.9,
           "the Fiji Islands",
           733
          ],
          [
           6.5,
           "Padilla, Bolivia",
           653
          ],
          [
           6.5,
           "Mabua, Philippines",
           718
          ],
          [
           7.9,
           "Panguna, Papua New Guinea",
           987
          ],
          [
           6.5,
           "Kirakira, Solomon Islands",
           654
          ],
          [
           7.3,
           "Tabiauan, Philippines",
           849
          ],
          [
           6.9,
           "Nadi, Fiji",
           742
          ],
          [
           7.6,
           "QuellÃ³n, Chile",
           1152
          ],
          [
           6.7,
           "Lospalos, Timor Leste",
           726
          ],
          [
           7.9,
           "Kokopo, Papua New Guinea",
           972
          ],
          [
           6.9,
           "Kirakira, Solomon Islands",
           737
          ],
          [
           6.5,
           "Kirakira, Solomon Islands",
           650
          ],
          [
           7.8,
           "Kirakira, Solomon Islands",
           961
          ],
          [
           6.6,
           "Ferndale, California",
           1120
          ],
          [
           6.5,
           "Reuleuet, Indonesia",
           731
          ],
          [
           6.6,
           "Murghob, Tajikistan",
           693
          ],
          [
           6.9,
           "Puerto El Triunfo, El Salvador",
           855
          ],
          [
           6.9,
           "Namie, Japan",
           1144
          ],
          [
           6.5,
           "Amberley, New Zealand",
           664
          ],
          [
           6.5,
           "Blenheim, New Zealand",
           656
          ],
          [
           7.8,
           "Amberley, New Zealand",
           1545
          ],
          [
           6.6,
           "Preci, Italy",
           2840
          ],
          [
           6.6,
           "Pamanukan, Indonesia",
           677
          ],
          [
           6.8,
           "Kandrian, Papua New Guinea",
           716
          ],
          [
           6.9,
           "Fiji region",
           733
          ],
          [
           7,
           "Gisborne, New Zealand",
           897
          ],
          [
           6.8,
           "Rabaul, Papua New Guinea",
           713
          ],
          [
           6.8,
           "Chauk, Myanmar",
           981
          ],
          [
           7.2,
           "the Loyalty Islands",
           799
          ],
          [
           7.7,
           "Pagan region, Northern Mariana Islands",
           971
          ],
          [
           6.6,
           "Sungai Penuh, Indonesia",
           671
          ],
          [
           7.2,
           "South Sandwich Islands region",
           798
          ],
          [
           6.9,
           null,
           733
          ],
          [
           6.9,
           "Rosa Zarate, Ecuador",
           780
          ],
          [
           6.7,
           "Muisne, Ecuador",
           744
          ],
          [
           7,
           "Norsup, Vanuatu",
           755
          ],
          [
           7.8,
           "Muisne, Ecuador",
           1163
          ],
          [
           7,
           "Kumamoto, Japan",
           2074
          ],
          [
           6.9,
           "Mawlaik, Myanmar",
           903
          ],
          [
           6.6,
           "Ashk?sham, Afghanistan",
           738
          ],
          [
           6.7,
           "Sola, Vanuatu",
           692
          ],
          [
           6.7,
           "Sola, Vanuatu",
           691
          ],
          [
           6.9,
           "Port-Olry, Vanuatu",
           734
          ],
          [
           7.8,
           "Sumatra, Indonesia",
           948
          ],
          [
           7.2,
           "Milâkovo, Russia",
           799
          ],
          [
           7.1,
           "Pedro Bay, Alaska",
           1496
          ],
          [
           6.6,
           "La Cruz de Loreto, Mexico",
           673
          ],
          [
           6.7,
           "Shizunai-furukawach?, Japan",
           717
          ],
          [
           6.5,
           "Sarangani, Philippines",
           651
          ],
          [
           6.7,
           "Imph?l, India",
           1515
          ],
          [
           6.6,
           "Manuel Ãvila Camacho (Ponte Duro), Mexico",
           765
          ],
          [
           6.9,
           "Amahai, Indonesia",
           738
          ],
          [
           7.2,
           "Murghob, Tajikistan",
           827
          ],
          [
           6.7,
           "TarauacÃ¡, Brazil",
           691
          ],
          [
           7.6,
           "IÃ±apari, Peru",
           896
          ],
          [
           7.6,
           "IÃ±apari, Peru",
           957
          ],
          [
           6.8,
           "Buala, Solomon Islands",
           715
          ],
          [
           6.5,
           "LefkÃ¡da, Greece",
           1018
          ],
          [
           6.7,
           "Makurazaki, Japan",
           702
          ],
          [
           6.9,
           "Coquimbo, Chile",
           744
          ],
          [
           6.9,
           "Coquimbo, Chile",
           761
          ],
          [
           6.6,
           "Nicobar Islands, India region",
           675
          ],
          [
           6.8,
           "Ovalle, Chile",
           841
          ],
          [
           6.5,
           "Maubara, Timor Leste",
           657
          ],
          [
           7.5,
           "Hindu Kush region, Afghanistan",
           1448
          ],
          [
           7.1,
           "Port-Olry, Vanuatu",
           780
          ],
          [
           6.6,
           "Sorong, Indonesia",
           671
          ],
          [
           6.6,
           "Illapel, Chile",
           820
          ],
          [
           6.7,
           "Illapel, Chile",
           718
          ],
          [
           6.5,
           "Illapel, Chile",
           657
          ],
          [
           7,
           "Illapel, Chile",
           799
          ],
          [
           8.3,
           "Illapel, Chile",
           1960
          ],
          [
           6.7,
           "Topolobampo, Mexico",
           708
          ],
          [
           6.5,
           "Gizo, Solomon Islands",
           650
          ],
          [
           6.6,
           "Malango, Solomon Islands",
           671
          ],
          [
           7,
           "Abepura, Indonesia",
           762
          ],
          [
           6.9,
           "Fox Islands, Aleutian Islands, Alaska",
           734
          ],
          [
           7,
           "Lata, Solomon Islands",
           759
          ],
          [
           6.5,
           "Bathsheba, Barbados",
           686
          ],
          [
           6.7,
           "Malango, Solomon Islands",
           691
          ],
          [
           6.5,
           "Bonin Islands, Japan region",
           652
          ],
          [
           7.8,
           "Bonin Islands, Japan region",
           1151
          ],
          [
           6.8,
           "Ugashik, Alaska",
           762
          ],
          [
           6.8,
           "Kirakira, Solomon Islands",
           711
          ],
          [
           6.9,
           "Kirakira, Solomon Islands",
           732
          ],
          [
           6.8,
           "Lata, Solomon Islands",
           711
          ],
          [
           6.8,
           "?funato, Japan",
           831
          ],
          [
           7.3,
           "Nepal",
           1563
          ],
          [
           7.1,
           "Panguna, Papua New Guinea",
           776
          ],
          [
           7.5,
           "Kokopo, Papua New Guinea",
           869
          ],
          [
           6.8,
           "Kokopo, Papua New Guinea",
           714
          ],
          [
           6.7,
           "Kokopo, Papua New Guinea",
           692
          ],
          [
           6.7,
           "Kod?ri??, Nepal",
           1016
          ],
          [
           6.6,
           "Bharatpur, Nepal",
           733
          ],
          [
           7.8,
           "Bharatpur, Nepal",
           2820
          ],
          [
           6.5,
           "Alo, Wallis and Futuna",
           650
          ],
          [
           6.5,
           "Hihifo, Tonga",
           650
          ],
          [
           7.5,
           "Kokopo, Papua New Guinea",
           872
          ],
          [
           7,
           "Maumere, Indonesia",
           760
          ],
          [
           6.7,
           "Miyako, Japan",
           714
          ],
          [
           6.7,
           "El Aguilar, Argentina",
           700
          ],
          [
           6.8,
           "Port-Vila, Vanuatu",
           711
          ],
          [
           6.5,
           "Punta de Burica, Panama",
           650
          ],
          [
           6.6,
           "Punta de Burica, Panama",
           709
          ],
          [
           6.6,
           "Panguna, Papua New Guinea",
           670
          ],
          [
           6.6,
           "Sangay, Philippines",
           670
          ],
          [
           6.8,
           "Ternate, Indonesia",
           713
          ],
          [
           6.5,
           "Tobelo, Indonesia",
           652
          ],
          [
           6.7,
           "Gisborne, New Zealand",
           698
          ],
          [
           7.1,
           "Ternate, Indonesia",
           779
          ],
          [
           6.6,
           "Finschhafen, Papua New Guinea",
           671
          ],
          [
           7.1,
           "Fiji region",
           776
          ],
          [
           7.3,
           "IntipucÃ¡, El Salvador",
           982
          ],
          [
           6.7,
           "Piti Village, Guam",
           724
          ],
          [
           6.8,
           "Aniso, Peru",
           741
          ],
          [
           6.9,
           "Micronesia region",
           732
          ],
          [
           6.9,
           "Fiji region",
           732
          ],
          [
           6.5,
           "Namie, Japan",
           706
          ],
          [
           6.9,
           "Puerto Madero, Mexico",
           1079
          ],
          [
           6.5,
           "Kokopo, Papua New Guinea",
           650
          ],
          [
           6.7,
           "Mata-Utu, Wallis and Futuna",
           691
          ],
          [
           6.9,
           "South Sandwich Islands region",
           732
          ],
          [
           7.9,
           "Rat Islands, Aleutian Islands, Alaska",
           963
          ],
          [
           6.7,
           "Kermadec Islands, New Zealand",
           691
          ],
          [
           6.5,
           "Kermadec Islands, New Zealand",
           650
          ],
          [
           6.9,
           "Kermadec Islands, New Zealand",
           732
          ],
          [
           6.9,
           "KamariÃ³tissa, Greece",
           951
          ],
          [
           6.5,
           "Punta de Burica, Panama",
           694
          ],
          [
           6.6,
           "Isangel, Vanuatu",
           670
          ],
          [
           6.5,
           "Vernon, Canada",
           838
          ],
          [
           7.5,
           "Panguna, Papua New Guinea",
           865
          ],
          [
           6.6,
           "Panguna, Papua New Guinea",
           670
          ],
          [
           7.2,
           "Coyuquilla Norte, Mexico",
           1017
          ],
          [
           6.6,
           "Kirakira, Solomon Islands",
           670
          ],
          [
           7.4,
           "Kirakira, Solomon Islands",
           842
          ],
          [
           7.6,
           "Kirakira, Solomon Islands",
           889
          ],
          [
           6.6,
           "BelÃ©n, Nicaragua",
           677
          ],
          [
           6.5,
           "Panguna, Papua New Guinea",
           650
          ],
          [
           7.1,
           "Panguna, Papua New Guinea",
           776
          ],
          [
           7.7,
           "Iquique, Chile",
           1057
          ],
          [
           6.5,
           "Iquique, Chile",
           670
          ],
          [
           6.9,
           "Iquique, Chile",
           732
          ],
          [
           8.2,
           "Iquique, Chile",
           1332
          ],
          [
           6.7,
           "Iquique, Chile",
           718
          ],
          [
           6.8,
           "Indianola, California",
           1211
          ],
          [
           6.5,
           "Nago, Japan",
           668
          ],
          [
           6.5,
           "Greenland, Barbados",
           681
          ],
          [
           6.9,
           "Hotan, China",
           733
          ],
          [
           6.5,
           "Port-Olry, Vanuatu",
           650
          ],
          [
           6.5,
           "the Kermadec Islands",
           650
          ],
          [
           6.5,
           "Sola, Vanuatu",
           650
          ],
          [
           6.5,
           "Fiji region",
           651
          ],
          [
           7.7,
           "Scotia Sea",
           912
          ],
          [
           6.9,
           "Scotia Sea",
           732
          ],
          [
           6.6,
           "Coquimbo, Chile",
           723
          ],
          [
           7.1,
           "off the east coast of Honshu, Japan",
           872
          ],
          [
           6.6,
           "Etchoropo, Mexico",
           692
          ],
          [
           6.8,
           "Panguna, Papua New Guinea",
           711
          ],
          [
           7.1,
           "Sagbayan, Philippines",
           1092
          ],
          [
           6.6,
           "KÃ­ssamos, Greece",
           691
          ],
          [
           6.7,
           "Okhotsk",
           691
          ],
          [
           6.5,
           "Kermadec Islands, New Zealand",
           650
          ],
          [
           6.8,
           "Khuzdar, Pakistan",
           1005
          ],
          [
           7.1,
           "Atiquipa, Peru",
           843
          ],
          [
           7.7,
           "Bela, Pakistan",
           2015
          ],
          [
           6.5,
           "Atka, Alaska",
           650
          ],
          [
           6.5,
           "Izu Islands, Japan region",
           739
          ],
          [
           6.5,
           "Lospalos, Timor Leste",
           668
          ],
          [
           7,
           "Atka, Alaska",
           758
          ],
          [
           6.5,
           "Blenheim, New Zealand",
           690
          ],
          [
           6.7,
           "BahÃ­a Solano, Colombia",
           715
          ],
          [
           6.5,
           "Blenheim, New Zealand",
           693
          ],
          [
           7.3,
           "South Sandwich Islands region",
           820
          ],
          [
           6.6,
           "Kandrian, Papua New Guinea",
           674
          ],
          [
           7.3,
           "Kokopo, Papua New Guinea",
           820
          ],
          [
           6.6,
           "northern Mid-Atlantic Ridge",
           670
          ],
          [
           6.5,
           "Masachapa, Nicaragua",
           679
          ],
          [
           6.7,
           "Java, Indonesia",
           710
          ],
          [
           6.7,
           "Okhotsk",
           691
          ],
          [
           8.3,
           "Okhotsk",
           1115
          ],
          [
           7.4,
           "Vaini, Tonga",
           842
          ],
          [
           6.8,
           "Pagan region, Northern Mariana Islands",
           711
          ],
          [
           6.5,
           "Rabaul, Papua New Guinea",
           650
          ],
          [
           6.6,
           "Linqiong, China",
           2083
          ],
          [
           7.2,
           "Kurilâsk, Russia",
           804
          ],
          [
           6.6,
           "Aitape, Papua New Guinea",
           672
          ],
          [
           7.7,
           "Kh?sh, Iran",
           1421
          ],
          [
           6.6,
           "Panguna, Papua New Guinea",
           670
          ],
          [
           7,
           "Abepura, Indonesia",
           755
          ],
          [
           6.5,
           "Finschhafen, Papua New Guinea",
           650
          ],
          [
           6.5,
           "Ozernovskiy, Russia",
           651
          ],
          [
           6.9,
           "Ozernovskiy, Russia",
           736
          ],
          [
           6.6,
           "Belaya Gora, Russia",
           670
          ],
          [
           6.6,
           "Lata, Solomon Islands",
           670
          ],
          [
           6.9,
           "Yacuanquer, Colombia",
           904
          ],
          [
           7.1,
           "Lata, Solomon Islands",
           780
          ],
          [
           6.8,
           "Lata, Solomon Islands",
           711
          ],
          [
           6.7,
           "Lata, Solomon Islands",
           691
          ],
          [
           7,
           "Lata, Solomon Islands",
           754
          ],
          [
           7.1,
           "Lata, Solomon Islands",
           776
          ],
          [
           8,
           "Lata, Solomon Islands",
           993
          ],
          [
           6.9,
           "Obihiro, Japan",
           814
          ],
          [
           6.8,
           "Vallenar, Chile",
           771
          ],
          [
           7.5,
           "Edna Bay, Alaska",
           1425
          ],
          [
           6.7,
           "Sola, Vanuatu",
           691
          ],
          [
           7.1,
           "Banda Sea",
           843
          ],
          [
           7.3,
           "?funato, Japan",
           1014
          ],
          [
           6.5,
           "Champerico, Guatemala",
           708
          ],
          [
           6.8,
           "Shwebo, Myanmar",
           795
          ],
          [
           7.4,
           "Champerico, Guatemala",
           1455
          ],
          [
           7.8,
           "Prince Rupert, Canada",
           1726
          ],
          [
           6.5,
           "Costa Rica",
           745
          ],
          [
           6.6,
           "Tual, Indonesia",
           675
          ],
          [
           7.3,
           "San AgustÃ­n, Colombia",
           1221
          ],
          [
           7.6,
           "Hojancha, Costa Rica",
           1555
          ],
          [
           7.6,
           "Sulangan, Philippines",
           1115
          ],
          [
           7.3,
           "Puerto El Triunfo, El Salvador",
           994
          ],
          [
           6.6,
           "Tobelo, Indonesia",
           678
          ],
          [
           7.7,
           "Poronaysk, Russia",
           941
          ],
          [
           6.5,
           "Kokopo, Papua New Guinea",
           653
          ],
          [
           6.6,
           "Neiafu, Tonga",
           675
          ],
          [
           6.7,
           "Manokwari, Indonesia",
           691
          ],
          [
           6.8,
           "Lae, Papua New Guinea",
           732
          ],
          [
           6.7,
           "Hacienda La Calera, Chile",
           691
          ],
          [
           7,
           "San Luis, Mexico",
           1000
          ],
          [
           6.5,
           "El Habillal, Mexico",
           1171
          ],
          [
           8.2,
           "off the west coast of northern Sumatra",
           1213
          ],
          [
           8.6,
           "off the west coast of northern Sumatra",
           2048
          ],
          [
           7.1,
           "ConstituciÃ³n, Chile",
           1496
          ],
          [
           6.6,
           "Kainantu, Papua New Guinea",
           709
          ],
          [
           7.4,
           "Santiago Llano Grande, Mexico",
           1752
          ],
          [
           6.7,
           "Saryg-Sep, Russia",
           833
          ],
          [
           6.7,
           "Jimalalud, Philippines",
           1551
          ],
          [
           7.1,
           "Port-Vila, Vanuatu",
           793
          ],
          [
           7.2,
           "off the west coast of northern Sumatra",
           838
          ],
          [
           6.6,
           "Saryg-Sep, Russia",
           670
          ],
          [
           7.1,
           "Wau, Papua New Guinea",
           834
          ],
          [
           6.5,
           "Nuevo Balsas, Mexico",
           1400
          ],
          [
           6.9,
           "Santiago, Peru",
           847
          ],
          [
           7.1,
           "Van, Turkey",
           1096
          ],
          [
           6.5,
           "Finschhafen, Papua New Guinea",
           655
          ],
          [
           6.9,
           "Mangan, India",
           1562
          ],
          [
           6.7,
           "Miyako, Japan",
           712
          ],
          [
           6.7,
           "Kabanjahe, Indonesia",
           915
          ],
          [
           7,
           "Isangel, Vanuatu",
           761
          ],
          [
           7,
           "Contamana, Peru",
           913
          ],
          [
           7.1,
           "Port-Vila, Vanuatu",
           787
          ],
          [
           6.5,
           "Port-Vila, Vanuatu",
           650
          ],
          [
           7.2,
           "Port-Vila, Vanuatu",
           813
          ],
          [
           6.6,
           "Angoram, Papua New Guinea",
           674
          ],
          [
           7.6,
           "Kermadec Islands region",
           893
          ],
          [
           6.7,
           "Miyako, Japan",
           749
          ],
          [
           6.8,
           "WÃ©, New Caledonia",
           734
          ],
          [
           6.8,
           "Kirakira, Solomon Islands",
           719
          ],
          [
           6.6,
           "Ishikawa, Japan",
           822
          ],
          [
           7.1,
           "Ishinomaki, Japan",
           1114
          ],
          [
           6.6,
           "Helio GarcÃ­a Alfaro, Mexico",
           897
          ],
          [
           6.9,
           "Tachilek, Myanmar",
           1154
          ],
          [
           6.6,
           "?tsuchi, Japan",
           673
          ],
          [
           6.5,
           "Hasaki, Japan",
           650
          ],
          [
           7.7,
           "Kamaishi, Japan",
           931
          ],
          [
           7.9,
           "?arai, Japan",
           1140
          ],
          [
           9.1,
           "2011 Great Tohoku Earthquake, Japan",
           2184
          ],
          [
           7.3,
           "?funato, Japan",
           972
          ],
          [
           6.7,
           "ConstituciÃ³n, Chile",
           731
          ],
          [
           6.9,
           "TomÃ©, Chile",
           988
          ],
          [
           7.2,
           "Dalbandin, Pakistan",
           1449
          ],
          [
           7,
           "Tadine, New Caledonia",
           755
          ],
          [
           7.2,
           "Carahue, Chile",
           1054
          ],
          [
           7.3,
           "Isangel, Vanuatu",
           820
          ],
          [
           6.7,
           "Bam, Iran",
           708
          ],
          [
           6.6,
           "Kandrian, Papua New Guinea",
           670
          ],
          [
           7.8,
           "Sungai Penuh, Indonesia",
           946
          ],
          [
           6.7,
           "El Huitusi, Mexico",
           776
          ],
          [
           7,
           "Papua, Indonesia",
           772
          ],
          [
           7,
           "Methven, New Zealand",
           1245
          ],
          [
           7.1,
           "Ecuador",
           945
          ],
          [
           7.3,
           "Port-Vila, Vanuatu",
           850
          ],
          [
           7,
           "Kimbe, Papua New Guinea",
           757
          ],
          [
           6.5,
           "Madang, Papua New Guinea",
           659
          ],
          [
           7.6,
           "Bantogon, Philippines",
           902
          ],
          [
           7.3,
           "New Britain region, Papua New Guinea",
           831
          ],
          [
           6.9,
           "Kimbe, Papua New Guinea",
           737
          ],
          [
           6.6,
           "CaÃ±ete, Chile",
           753
          ],
          [
           6.7,
           "Kirakira, Solomon Islands",
           696
          ],
          [
           6.6,
           "Biak, Indonesia",
           670
          ],
          [
           7,
           "Biak, Indonesia",
           755
          ],
          [
           7.5,
           "Nicobar Islands, India region",
           1144
          ],
          [
           7.2,
           "Sola, Vanuatu",
           804
          ],
          [
           7.2,
           "Meulaboh, Indonesia",
           918
          ],
          [
           6.9,
           "Qamdo, China",
           773
          ],
          [
           6.9,
           "Kirakira, Solomon Islands",
           740
          ],
          [
           7.8,
           "Sinabang, Indonesia",
           936
          ],
          [
           7.2,
           "Delta, B.C., MX",
           2910
          ],
          [
           6.6,
           "Bamboo Flat, India",
           701
          ],
          [
           6.7,
           "TomÃ©, Chile",
           856
          ],
          [
           6.5,
           "Namie, Japan",
           810
          ],
          [
           7,
           "Santa Cruz, Chile",
           874
          ],
          [
           6.9,
           "Santa Cruz, Chile",
           1280
          ],
          [
           6.8,
           "Bengkulu, Indonesia",
           717
          ],
          [
           6.6,
           "Talcahuano, Chile",
           736
          ],
          [
           6.5,
           "Sola, Vanuatu",
           650
          ],
          [
           7.4,
           "Lebu, Chile",
           842
          ],
          [
           8.8,
           "Quirihue, Chile",
           1991
          ],
          [
           7,
           "Katsuren-haebaru, Japan",
           1180
          ],
          [
           7,
           "LÃ©ogÃ¢ne, Haiti",
           1623
          ],
          [
           6.5,
           "Ferndale, California",
           1360
          ],
          [
           6.8,
           "Gizo, Solomon Islands",
           713
          ],
          [
           7.1,
           "Gizo, Solomon Islands",
           780
          ],
          [
           6.6,
           "Gizo, Solomon Islands",
           672
          ],
          [
           6.5,
           "Iquique, Chile",
           698
          ],
          [
           7.3,
           "Ba, Fiji",
           820
          ],
          [
           6.6,
           "Bima, Indonesia",
           677
          ],
          [
           6.8,
           "Naze, Japan",
           711
          ],
          [
           6.9,
           "Tual, Indonesia",
           972
          ],
          [
           6.8,
           "Sola, Vanuatu",
           711
          ],
          [
           7.4,
           "Sola, Vanuatu",
           842
          ],
          [
           7.8,
           "Sola, Vanuatu",
           936
          ],
          [
           7.7,
           "Sola, Vanuatu",
           916
          ],
          [
           6.6,
           "Sungai Penuh, Indonesia",
           787
          ],
          [
           7.6,
           "Pariaman, Indonesia",
           1639
          ],
          [
           8.1,
           "Matavai, Samoa",
           1055
          ],
          [
           7,
           "Banjar, Indonesia",
           1175
          ],
          [
           6.7,
           "Padang, Indonesia",
           753
          ],
          [
           6.6,
           "Tateyama, Japan",
           703
          ],
          [
           7.5,
           "Bamboo Flat, India",
           1248
          ],
          [
           7.1,
           "?yama, Japan",
           1005
          ],
          [
           6.9,
           "BahÃ­a de Kino, Mexico",
           1202
          ],
          [
           7.8,
           "Te Anau, New Zealand",
           1165
          ],
          [
           6.7,
           "Kokopo, Papua New Guinea",
           693
          ],
          [
           7.3,
           "Guanaja, Honduras",
           1560
          ],
          [
           7.6,
           "âOhonua, Tonga",
           916
          ],
          [
           7.2,
           "Sarangani, Philippines",
           802
          ],
          [
           7.4,
           "Manokwari, Indonesia",
           846
          ],
          [
           6.6,
           "Jurm, Afghanistan",
           765
          ],
          [
           7.7,
           "Manokwari, Indonesia",
           918
          ],
          [
           7.4,
           "Gorontalo, Indonesia",
           848
          ],
          [
           6.7,
           "Brisas Barra de Suchiate, Mexico",
           731
          ],
          [
           6.7,
           "Nookat, Kyrgyzstan",
           691
          ],
          [
           6.8,
           "Obihiro, Japan",
           711
          ],
          [
           6.6,
           "Tobelo, Indonesia",
           670
          ],
          [
           6.9,
           "Sola, Vanuatu",
           732
          ],
          [
           6.7,
           "Jumla, Nepal",
           692
          ],
          [
           6.8,
           "Morioka, Japan",
           1046
          ],
          [
           7,
           "Namie, Japan",
           840
          ],
          [
           6.9,
           "Namie, Japan",
           825
          ],
          [
           6.6,
           "Bamboo Flat, India",
           680
          ],
          [
           6.9,
           "Mizusawa, Japan",
           888
          ],
          [
           7.9,
           "Tianpeng, China",
           1870
          ],
          [
           6.9,
           "Hasaki, Japan",
           910
          ],
          [
           7.3,
           "Isangel, Vanuatu",
           820
          ],
          [
           7.2,
           "Hotan, China",
           798
          ],
          [
           6.9,
           "Philippine Islands region",
           740
          ],
          [
           6.7,
           "Padang, Indonesia",
           696
          ],
          [
           6.6,
           "Padang, Indonesia",
           674
          ],
          [
           7.2,
           "Sungai Penuh, Indonesia",
           832
          ],
          [
           6.5,
           "Sungai Penuh, Indonesia",
           654
          ],
          [
           7.4,
           "Sinabang, Indonesia",
           914
          ],
          [
           6.5,
           "KorÃ³ni, Greece",
           692
          ],
          [
           6.9,
           "MethÃ³ni, Greece",
           941
          ],
          [
           6.5,
           "General Pascual Fentes, Mexico",
           723
          ],
          [
           6.6,
           "Gisborne, New Zealand",
           808
          ],
          [
           6.7,
           "Ant",
           704
          ],
          [
           7.4,
           "Basse-Pointe, Martinique",
           1542
          ],
          [
           6.6,
           "Kirakira, Solomon Islands",
           672
          ],
          [
           6.5,
           "Dompu, Indonesia",
           653
          ],
          [
           6.5,
           "Dompu, Indonesia",
           657
          ],
          [
           6.8,
           "Lae, Papua New Guinea",
           722
          ],
          [
           6.8,
           "Macas, Ecuador",
           790
          ],
          [
           6.8,
           "Ant",
           716
          ],
          [
           7.7,
           "Tocopilla, Chile",
           995
          ],
          [
           6.8,
           "Bengkulu, Indonesia",
           713
          ],
          [
           6.8,
           "Te Anau, New Zealand",
           744
          ],
          [
           6.8,
           "Kokopo, Papua New Guinea",
           713
          ],
          [
           6.7,
           "Padang, Indonesia",
           696
          ],
          [
           7,
           "Padang, Indonesia",
           768
          ],
          [
           6.5,
           "Kepulauan Mentawai region, Indonesia",
           650
          ],
          [
           7.9,
           "Sungai Penuh, Indonesia",
           1133
          ],
          [
           7.8,
           "Sungai Penuh, Indonesia",
           1152
          ],
          [
           8.4,
           "Bengkulu, Indonesia",
           1086
          ],
          [
           6.8,
           "TimbiquÃ­, Colombia",
           747
          ],
          [
           7.2,
           "Lata, Solomon Islands",
           798
          ],
          [
           6.5,
           "Malango, Solomon Islands",
           675
          ],
          [
           8,
           "San Vicente de CaÃ±ete, Peru",
           1385
          ],
          [
           7.5,
           "Rengasdengklok, Indonesia",
           865
          ],
          [
           7.2,
           "Luganville, Vanuatu",
           803
          ],
          [
           6.9,
           "Tobelo, Indonesia",
           734
          ],
          [
           6.8,
           "Mikuni, Japan",
           779
          ],
          [
           6.6,
           "Kashiwazaki, Japan",
           831
          ],
          [
           6.7,
           "Iztapa, Guatemala",
           972
          ],
          [
           6.9,
           "Panguna, Papua New Guinea",
           732
          ],
          [
           6.6,
           "Panguna, Papua New Guinea",
           670
          ],
          [
           8.1,
           "Gizo, Solomon Islands",
           1025
          ],
          [
           6.7,
           "Nanao, Japan",
           782
          ],
          [
           7.1,
           "Isangel, Vanuatu",
           779
          ],
          [
           6.7,
           "S",
           691
          ],
          [
           7.5,
           "Ternate, Indonesia",
           874
          ],
          [
           8.1,
           "the Kuril Islands",
           1034
          ],
          [
           6.9,
           "Hengchun, Taiwan",
           798
          ],
          [
           7.1,
           "Hengchun, Taiwan",
           1023
          ],
          [
           8.3,
           "Kuril Islands",
           1064
          ],
          [
           6.6,
           "Kimbe, Papua New Guinea",
           670
          ],
          [
           6.7,
           "San Vicente de CaÃ±ete, Peru",
           732
          ],
          [
           6.7,
           "Kimbe, Papua New Guinea",
           692
          ],
          [
           6.7,
           "Puako, Hawaii",
           1481
          ],
          [
           6.9,
           "Hihifo, Tonga",
           737
          ],
          [
           6.8,
           "Panguna, Papua New Guinea",
           711
          ],
          [
           6.5,
           "Ozernovskiy, Russia",
           650
          ],
          [
           6.8,
           "Norsup, Vanuatu",
           713
          ],
          [
           7.7,
           "Singaparna, Indonesia",
           947
          ],
          [
           6.5,
           "Kimbe, Papua New Guinea",
           650
          ],
          [
           6.6,
           "Tilichiki, Russia",
           670
          ],
          [
           6.8,
           "Singkil, Indonesia",
           719
          ],
          [
           8,
           "Pangai, Tonga",
           1013
          ],
          [
           8,
           "Pangai, Tonga",
           1026
          ],
          [
           6.5,
           "CopiapÃ³, Chile",
           653
          ],
          [
           6.7,
           "CopiapÃ³, Chile",
           696
          ],
          [
           6.6,
           "Tilichiki, Russia",
           670
          ],
          [
           7.6,
           "Tilichiki, Russia",
           889
          ],
          [
           6.5,
           "Lautoka, Fiji",
           654
          ],
          [
           6.7,
           "Ambon, Indonesia",
           691
          ],
          [
           7,
           "Chipinge, Zimbabwe",
           891
          ],
          [
           6.7,
           "KÃ½thira, Greece",
           934
          ],
          [
           6.6,
           "BahÃ­a de Kino, Mexico",
           703
          ],
          [
           6.5,
           "Ashk?sham, Afghanistan",
           721
          ],
          [
           6.8,
           "Kalemie, Democratic Republic",
           744
          ],
          [
           6.5,
           "Ishinomaki, Japan",
           683
          ],
          [
           6.5,
           "Sinabang, Indonesia",
           651
          ],
          [
           6.8,
           "San Pedro de Atacama, Chile",
           711
          ],
          [
           7.6,
           "Muzaffar?b?d, Pakistan",
           1267
          ],
          [
           6.6,
           "Kokopo, Papua New Guinea",
           670
          ],
          [
           7.5,
           "Yurimaguas, Peru",
           1018
          ],
          [
           7.6,
           "Kokopo, Papua New Guinea",
           891
          ],
          [
           7.2,
           "Ishinomaki, Japan",
           1104
          ],
          [
           7.2,
           "Nicobar Islands, India region",
           808
          ],
          [
           6.7,
           "Singkil, Indonesia",
           693
          ],
          [
           6.6,
           "San Juan del Sur, Nicaragua",
           719
          ],
          [
           7.2,
           "Big Lagoon, California",
           1318
          ],
          [
           7.8,
           "Iquique, Chile",
           1020
          ],
          [
           6.9,
           "Singkil, Indonesia",
           740
          ],
          [
           6.7,
           "Padangsidempuan, Indonesia",
           731
          ],
          [
           6.5,
           "Padang, Indonesia",
           657
          ],
          [
           6.7,
           "Padang, Indonesia",
           717
          ],
          [
           8.6,
           "Singkil, Indonesia",
           1138
          ],
          [
           6.6,
           "Maebaru-ch??, Japan",
           805
          ],
          [
           7.1,
           "Banda Sea",
           776
          ],
          [
           6.8,
           "Sinabang, Indonesia",
           711
          ],
          [
           6.5,
           "Katabu, Indonesia",
           650
          ],
          [
           6.5,
           "Pulau-Pulau Talaud, Indonesia",
           652
          ],
          [
           6.7,
           "Sola, Vanuatu",
           691
          ],
          [
           7.1,
           "Palimbang, Philippines",
           782
          ],
          [
           6.6,
           "Katsuura, Japan",
           676
          ],
          [
           6.6,
           "Nicobar Islands, India region",
           670
          ],
          [
           7.2,
           "Sabang, Indonesia",
           802
          ],
          [
           9.1,
           "2004 Sumatra - Andaman Islands Earthquake",
           1274
          ],
          [
           8.1,
           "Macquarie Island",
           1009
          ],
          [
           6.8,
           "George Town, Cayman Islands",
           858
          ],
          [
           6.8,
           "Nemuro, Japan",
           724
          ],
          [
           7,
           "Nemuro, Japan",
           771
          ],
          [
           7.1,
           "Nabire, Indonesia",
           776
          ],
          [
           7.1,
           "Riverton, New Zealand",
           782
          ],
          [
           7.2,
           "Pizarro, Colombia",
           820
          ],
          [
           7.5,
           "Maubara, Timor Leste",
           870
          ],
          [
           6.7,
           "Kirakira, Solomon Islands",
           691
          ],
          [
           6.7,
           "Port McNeill, Canada",
           703
          ],
          [
           6.6,
           "Ojiya, Japan",
           670
          ],
          [
           6.7,
           "Yonakuni, Japan",
           705
          ],
          [
           7,
           "Masachapa, Nicaragua",
           754
          ],
          [
           6.5,
           "Talisay, Philippines",
           665
          ],
          [
           6.8,
           "Kirakira, Solomon Islands",
           711
          ],
          [
           6.6,
           "Shing?, Japan",
           670
          ],
          [
           7.4,
           "Shing?, Japan",
           842
          ],
          [
           7.2,
           "Shing?, Japan",
           798
          ],
          [
           6.5,
           "Teno, Chile",
           650
          ],
          [
           6.5,
           "Manokwari, Indonesia",
           650
          ],
          [
           6.9,
           "Atlasovo, Russia",
           732
          ],
          [
           6.6,
           "CaÃ±ete, Chile",
           670
          ],
          [
           6.7,
           "Naisano Dua, Indonesia",
           691
          ],
          [
           6.5,
           "Sola, Vanuatu",
           650
          ],
          [
           6.6,
           "Afghanistan-Tajikistan-Pakistan region",
           670
          ],
          [
           6.7,
           "Nabire, Indonesia",
           691
          ],
          [
           7.3,
           "Papua, Indonesia",
           820
          ],
          [
           7,
           "Nabire, Indonesia",
           754
          ],
          [
           6.7,
           "Ambon, Indonesia",
           691
          ],
          [
           7.3,
           "Tadine, New Caledonia",
           820
          ],
          [
           6.6,
           "Bam, Iran",
           670
          ],
          [
           6.5,
           "Progreso, Panama",
           650
          ],
          [
           6.5,
           "San Simeon, California",
           1390
          ],
          [
           6.8,
           "Yujing, Taiwan",
           711
          ],
          [
           6.6,
           "Kimbe, Papua New Guinea",
           670
          ],
          [
           6.5,
           "Can-Avid, Philippines",
           650
          ],
          [
           6.6,
           "Isangel, Vanuatu",
           670
          ],
          [
           7,
           "Ishinomaki, Japan",
           754
          ],
          [
           6.7,
           "Kushiro, Japan",
           691
          ],
          [
           6.7,
           "Aktash, Russia",
           691
          ],
          [
           6.5,
           "Kushiro, Japan",
           650
          ],
          [
           7.3,
           "Aktash, Russia",
           820
          ],
          [
           7.4,
           "Shizunai-furukawach?, Japan",
           842
          ],
          [
           8.16,
           "Kushiro, Japan",
           1024
          ],
          [
           6.6,
           "Taungdwingyi, Myanmar",
           670
          ],
          [
           7.2,
           "Te Anau, New Zealand",
           798
          ],
          [
           7.6,
           "Scotia Sea",
           889
          ],
          [
           6.5,
           "Rabaul, Papua New Guinea",
           650
          ],
          [
           6.8,
           "Ovalle, Chile",
           711
          ],
          [
           6.9,
           "Atlasovo, Russia",
           732
          ],
          [
           6.6,
           "Kokopo, Papua New Guinea",
           670
          ],
          [
           7,
           "Tobelo, Indonesia",
           754
          ],
          [
           7,
           "?funato, Japan",
           754
          ],
          [
           6.8,
           "Dellys, Algeria",
           711
          ],
          [
           6.5,
           "Ruteng, Indonesia",
           650
          ],
          [
           6.8,
           "Kokopo, Papua New Guinea",
           711
          ],
          [
           7.6,
           "CuyutlÃ¡n, Mexico",
           889
          ],
          [
           6.5,
           "Puerto San JosÃ©, Guatemala",
           650
          ],
          [
           7.3,
           "Kirakira, Solomon Islands",
           820
          ],
          [
           6.7,
           "Kokopo, Papua New Guinea",
           691
          ],
          [
           6.7,
           "New Ireland region, Papua New Guinea",
           691
          ],
          [
           7.9,
           "Cantwell, Alaska",
           1750
          ],
          [
           7.4,
           "Sinabang, Indonesia",
           842
          ],
          [
           6.6,
           "Cantwell, Alaska",
           670
          ],
          [
           6.7,
           "Manokwari, Indonesia",
           691
          ],
          [
           7.6,
           "Manokwari, Indonesia",
           889
          ],
          [
           6.5,
           "Bamboo Flat, India",
           650
          ],
          [
           7.6,
           "Aitape, Papua New Guinea",
           889
          ],
          [
           6.5,
           "San Jose Village, Northern Mariana Islands",
           650
          ],
          [
           6.5,
           "Punta de Burica, Panama",
           650
          ],
          [
           6.5,
           "Abhar, Iran",
           650
          ],
          [
           6.6,
           "Monte Patria, Chile",
           670
          ],
          [
           6.7,
           "Sola, Vanuatu",
           691
          ],
          [
           7.1,
           "Merizo Village, Guam",
           776
          ],
          [
           6.7,
           "CopiapÃ³, Chile",
           691
          ],
          [
           6.8,
           "Nuxco, Mexico",
           711
          ],
          [
           7.1,
           "Hualien City, Taiwan",
           776
          ],
          [
           6.5,
           "Calama, Chile",
           650
          ],
          [
           7.5,
           "Mindanao, Philippines",
           865
          ],
          [
           7.4,
           "Jurm, Afghanistan",
           842
          ],
          [
           6.6,
           "Kimbe, Papua New Guinea",
           670
          ],
          [
           6.5,
           "Sultanda??, Turkey",
           650
          ],
          [
           6.7,
           "Aitape, Papua New Guinea",
           691
          ],
          [
           6.6,
           "Port-Vila, Vanuatu",
           670
          ],
          [
           7.2,
           "Port-Vila, Vanuatu",
           798
          ],
          [
           6.8,
           "Malango, Solomon Islands",
           711
          ],
          [
           6.8,
           "Yonakuni, Japan",
           711
          ],
          [
           6.5,
           "Hanamaki, Japan",
           650
          ],
          [
           7.8,
           "Southern Qinghai, China",
           936
          ],
          [
           7,
           "Kimbe, Papua New Guinea",
           754
          ],
          [
           7.5,
           "Kendari, Indonesia",
           865
          ],
          [
           7,
           "Inarajan Village, Guam",
           754
          ],
          [
           6.5,
           "Manokwari, Indonesia",
           650
          ],
          [
           6.6,
           "Kokhanok, Alaska",
           754
          ],
          [
           6.5,
           "SkÃ½ros, Greece",
           650
          ],
          [
           7.6,
           "Punta de BombÃ³n, Peru",
           889
          ],
          [
           6.6,
           "Achanizo, Peru",
           670
          ],
          [
           6.7,
           "Pacocha, Peru",
           691
          ],
          [
           8.4,
           "Atico, Peru",
           1086
          ],
          [
           6.7,
           "Panguna, Papua New Guinea",
           691
          ],
          [
           6.8,
           "Kure, Japan",
           711
          ],
          [
           6.5,
           "Ambon, Indonesia",
           650
          ],
          [
           6.8,
           "Longbranch, Washington",
           1441
          ],
          [
           7.1,
           "Ternate, Indonesia",
           776
          ],
          [
           7.4,
           "Bengkulu, Indonesia",
           842
          ],
          [
           6.6,
           "Cojutepeque, El Salvador",
           670
          ],
          [
           7.7,
           "Bhach?u, India",
           912
          ],
          [
           6.9,
           "Bengkulu, Indonesia",
           732
          ],
          [
           7.7,
           "Puerto El Triunfo, El Salvador",
           912
          ],
          [
           6.9,
           "Old Harbor, Alaska",
           745
          ],
          [
           7.1,
           "Port-Olry, Vanuatu",
           776
          ],
          [
           6.8,
           "Mindanao, Philippines",
           711
          ],
          [
           7.5,
           "Lukatan, Philippines",
           865
          ]
         ],
         "hovertemplate": "latitude=%{lat}<br>longitude=%{lon}<br>magnitude=%{marker.color}<br>location=%{customdata[1]}<br>sig=%{customdata[2]}<extra></extra>",
         "lat": [
          -9.7963,
          -4.9559,
          -20.0508,
          -19.2918,
          -25.5948,
          -26.0442,
          -25.9678,
          7.6712,
          18.33,
          18.3667,
          23.1444,
          23.029,
          -21.2077,
          -6.2237,
          29.7263,
          -32.6922,
          17.5978,
          -9.0618,
          -14.8628,
          -54.1325,
          -23.6141,
          11.5538,
          -22.5732,
          -22.72,
          23.3421,
          37.7015,
          -0.6831,
          -30.0528,
          -23.7852,
          -4.455,
          -29.535,
          -6.9291,
          52.502,
          52.502,
          52.6252,
          52.48,
          52.48,
          52.6563,
          35.1456,
          37.8167,
          -7.5924,
          -7.6033,
          -4.4898,
          23.5414,
          56.2581,
          -21.1704,
          -21.1036,
          12.1598,
          16.9502,
          -60.3026,
          -60.1023,
          -14.892,
          -58.3814,
          18.3521,
          55.2364,
          55.2657,
          -58.4157,
          -57.5959,
          6.4547,
          55.4742,
          55.3154,
          13.6989,
          7.5904,
          -30.2144,
          -16.4796,
          34.5861,
          0.1684,
          -17.2495,
          38.2296,
          -21.6857,
          -18.9204,
          38.4752,
          54.7018,
          -28.4792,
          -29.7466,
          -29.6131,
          -37.596,
          37.6856,
          -23.2787,
          -61.8484,
          5.0074,
          51.2407,
          -39.3264,
          37.8973,
          54.662,
          0.9604,
          -27.9285,
          -28.013,
          0.8696,
          -6.6704,
          -4.2791,
          -4.3724,
          12.0065,
          55.1079,
          -7.847,
          -5.6368,
          15.9163,
          -33.2938,
          28.9386,
          -23.2966,
          38.1689,
          -12.0662,
          -6.7762,
          34.1818,
          44.4646,
          48.9638,
          45.6161,
          19.4193,
          38.4312,
          6.6969,
          1.6213,
          -21.9449,
          -18.5747,
          6.9098,
          6.7567,
          -35.4758,
          -3.4528,
          -20.3641,
          -60.2152,
          -7.2822,
          -34.2364,
          -16.1985,
          -0.5858,
          -18.2242,
          0.5126,
          35.7695,
          -6.4078,
          -30.6441,
          13.1994,
          -5.8119,
          -4.051,
          -6.9746,
          -1.8146,
          -58.6262,
          -14.7131,
          -2.1862,
          14.6802,
          -43.1219,
          -30.0404,
          -13.336,
          2.258,
          -8.144,
          5.8983,
          55.0999,
          -58.5446,
          -22.0629,
          -21.9496,
          61.3464,
          -17.8735,
          71.6312,
          37.5203,
          49.297,
          49.3346,
          49.2586,
          -21.7427,
          52.8549,
          49.2902,
          -5.7012,
          -18.3604,
          -0.2559,
          -25.415,
          -31.7447,
          -10.0207,
          -18.4743,
          42.6861,
          -22.0295,
          -11.0355,
          -16.0315,
          10.7731,
          -8.319,
          -18.1125,
          -7.3718,
          51.4234,
          -8.2581,
          19.3182,
          -20.6588,
          -5.5321,
          -5.5024,
          -4.3762,
          -6.3043,
          -6.0699,
          16.3855,
          56.0039,
          -15.7675,
          17.4825,
          -7.4921,
          -54.2189,
          -21.3246,
          -21.5027,
          9.5147,
          34.9109,
          -4.2433,
          -15.3197,
          -21.6484,
          -21.6971,
          -7.2168,
          52.3909,
          18.5499,
          15.0222,
          33.1926,
          36.9293,
          54.4434,
          -49.4837,
          11.1269,
          13.7174,
          14.9091,
          54.0312,
          -1.2923,
          -56.414,
          -14.5884,
          5.5043,
          -33.0375,
          -22.6784,
          56.9401,
          -23.2593,
          -19.2814,
          9.9071,
          -6.2464,
          -10.3506,
          4.4782,
          -19.3733,
          -43.4064,
          -7.5082,
          -4.5049,
          -10.749,
          -10.8416,
          -10.6812,
          40.4535,
          5.2834,
          39.2732,
          11.9097,
          37.3931,
          -42.6058,
          -42.3205,
          -42.7373,
          42.8621,
          -4.8626,
          -6.0033,
          -19.7819,
          -37.3586,
          -3.6849,
          20.9228,
          -22.4765,
          18.5429,
          -2.0967,
          -56.2409,
          -21.9724,
          0.4947,
          0.4261,
          -16.0429,
          0.3819,
          32.7906,
          23.0944,
          36.4725,
          -13.9805,
          -14.0683,
          -14.3235,
          -4.9521,
          53.9776,
          59.6204,
          18.8239,
          41.9723,
          3.8965,
          24.8036,
          15.8015,
          -4.1064,
          38.2107,
          -9.1825,
          -10.0598,
          -10.5372,
          -8.8994,
          38.67,
          31.0009,
          -29.5097,
          -29.5067,
          6.8431,
          -30.8796,
          -8.3381,
          36.5244,
          -14.8595,
          -0.6212,
          -31.7275,
          -31.5173,
          -31.4244,
          -31.5622,
          -31.5729,
          24.913,
          -9.3293,
          -9.3438,
          -2.6286,
          52.376,
          -10.4012,
          13.8672,
          -9.307,
          27.7375,
          27.8386,
          56.594,
          -11.1093,
          -11.0559,
          -10.8759,
          38.9056,
          27.8087,
          -7.2175,
          -5.4624,
          -5.2005,
          -5.375,
          27.7711,
          28.2244,
          28.2305,
          -15.8815,
          -15.4994,
          -4.7294,
          -7.2968,
          39.8558,
          -23.1125,
          -17.0309,
          5.9045,
          7.9401,
          -6.5108,
          6.1572,
          1.9604,
          2.2999,
          -37.6478,
          1.8929,
          -5.9873,
          -19.6903,
          12.5262,
          13.7641,
          -14.598,
          0.8295,
          -19.8015,
          37.0052,
          14.724,
          -6.2304,
          -14.9831,
          -55.4703,
          51.8486,
          -29.9414,
          -29.9379,
          -29.9772,
          40.2893,
          7.2096,
          -21.4542,
          49.6388,
          -6.7547,
          -6.6558,
          17.397,
          -11.1284,
          -11.4633,
          -11.2701,
          11.642,
          -6.7878,
          -6.5858,
          -20.5709,
          -20.3113,
          -19.8927,
          -19.6097,
          -19.9807,
          40.8287,
          27.4312,
          14.6682,
          35.9053,
          -15.0691,
          -32.9076,
          -13.8633,
          -17.1171,
          -60.2738,
          -60.2627,
          -30.2921,
          37.1557,
          26.0913,
          -6.4456,
          9.8796,
          35.5142,
          53.1995,
          -30.9255,
          27.1825,
          -15.8385,
          26.951,
          51.5573,
          29.9377,
          -7.44,
          51.537,
          -41.734,
          5.7732,
          -41.704,
          -60.857,
          -6.029,
          -3.917,
          10.701,
          11.763,
          -10.004,
          52.235,
          54.892,
          -23.009,
          18.728,
          -3.898,
          30.308,
          46.221,
          -3.214,
          28.033,
          -6.475,
          -3.517,
          -6.598,
          50.958,
          50.954,
          67.631,
          -10.994,
          1.135,
          -10.928,
          -10.838,
          -10.997,
          -10.499,
          -11.183,
          -10.799,
          42.77,
          -28.094,
          55.228,
          -14.344,
          -6.533,
          37.89,
          14.129,
          23.005,
          13.988,
          52.788,
          10.086,
          -4.892,
          1.929,
          10.085,
          10.811,
          12.139,
          2.19,
          49.8,
          -4.651,
          -18.685,
          -1.617,
          -5.462,
          -32.625,
          28.696,
          18.229,
          0.802,
          2.327,
          -35.2,
          -6.242,
          16.493,
          51.708,
          9.999,
          -17.827,
          2.433,
          51.842,
          -7.551,
          17.986,
          -14.438,
          38.721,
          -6.57,
          27.73,
          40.273,
          2.965,
          -20.671,
          -7.641,
          -18.311,
          -18.308,
          -18.365,
          -3.518,
          -29.539,
          39.955,
          -20.244,
          -10.375,
          37.001,
          38.276,
          17.208,
          20.687,
          39.241,
          36.166,
          38.058,
          36.281,
          38.297,
          38.435,
          -35.38,
          -36.422,
          28.777,
          -20.628,
          -38.355,
          -19.702,
          28.412,
          -6.001,
          -3.487,
          24.696,
          -4.963,
          -43.522,
          -1.266,
          -17.541,
          -5.746,
          -5.486,
          6.497,
          -5.931,
          -5.966,
          -38.067,
          -10.627,
          -2.329,
          -2.174,
          7.881,
          -13.698,
          3.748,
          33.165,
          -10.878,
          2.383,
          32.2862,
          13.667,
          -36.217,
          37.745,
          -34.326,
          -34.29,
          -3.762,
          -36.665,
          -13.571,
          -37.773,
          -36.122,
          25.93,
          18.443,
          40.652,
          -9.019,
          -8.783,
          -8.726,
          -19.394,
          -17.239,
          -8.207,
          29.218,
          -6.133,
          -13.298,
          -13.093,
          -12.517,
          -13.006,
          -2.482,
          -0.72,
          -15.489,
          -7.782,
          -1.479,
          32.821,
          14.099,
          33.167,
          29.039,
          -45.762,
          -5.157,
          16.731,
          -23.043,
          3.886,
          -0.691,
          36.419,
          -0.414,
          1.271,
          14.423,
          39.533,
          41.892,
          1.885,
          -13.501,
          30.901,
          39.802,
          37.552,
          37.55,
          11.005,
          39.03,
          31.002,
          36.164,
          -20.071,
          35.49,
          13.351,
          -2.245,
          -2.332,
          -2.486,
          -2.405,
          2.768,
          36.345,
          36.501,
          16.357,
          -39.011,
          -22.954,
          14.944,
          -10.95,
          -8.224,
          -8.292,
          -5.757,
          -2.312,
          -22.925,
          -22.247,
          -3.899,
          -44.796,
          -4.99,
          -1.999,
          -2.13,
          -1.689,
          -2.625,
          -2.52,
          -4.438,
          2.966,
          -11.61,
          -9.834,
          -13.386,
          -5.859,
          -15.595,
          2.872,
          36.808,
          37.535,
          13.554,
          -7.306,
          -7.169,
          -8.466,
          37.336,
          -20.617,
          -1.034,
          1.065,
          46.243,
          21.974,
          21.799,
          46.592,
          -6.482,
          -13.457,
          -5.881,
          19.877,
          -16.592,
          -6.759,
          51.148,
          -15.798,
          -9.284,
          -5.724,
          60.772,
          0.093,
          -20.187,
          -19.99,
          -27.211,
          -27.017,
          60.491,
          60.949,
          -16.527,
          -3.595,
          -21.324,
          36.311,
          28.164,
          36.357,
          -6.224,
          38.089,
          2.164,
          -22.361,
          34.539,
          -5.437,
          -5.678,
          -4.539,
          38.276,
          7.92,
          1.819,
          11.245,
          41.292,
          -19.987,
          1.989,
          0.587,
          -1.714,
          -1.644,
          2.085,
          33.807,
          -6.527,
          2.908,
          -5.562,
          4.756,
          -14.252,
          5.293,
          34.064,
          8.879,
          6.91,
          3.295,
          -49.312,
          18.958,
          42.9,
          43.006,
          -3.609,
          -46.676,
          4.695,
          -8.152,
          -11.128,
          49.277,
          37.226,
          24.53,
          11.422,
          13.925,
          -10.951,
          33.205,
          33.184,
          33.07,
          -35.173,
          -0.443,
          55.682,
          -37.695,
          -9.362,
          -13.174,
          36.512,
          -3.665,
          -4.003,
          -3.615,
          -3.12,
          -22.015,
          28.995,
          8.416,
          35.7005,
          23.039,
          -5.581,
          12.025,
          -19.262,
          37.812,
          42.648,
          50.211,
          42.45,
          50.038,
          41.774,
          41.815,
          19.917,
          -45.104,
          -60.532,
          -3.828,
          -30.608,
          55.492,
          -5.095,
          2.354,
          38.849,
          36.964,
          -8.294,
          -4.694,
          18.77,
          13.626,
          -10.491,
          -5.311,
          -4.786,
          63.5141,
          2.824,
          63.5144,
          -1.511,
          -1.757,
          13.036,
          -3.302,
          14.101,
          7.929,
          35.626,
          -30.805,
          -12.592,
          13.088,
          -27.535,
          16.985,
          24.279,
          -21.663,
          6.033,
          36.502,
          -5.345,
          38.573,
          -3.212,
          -17.664,
          -17.6,
          -9.613,
          23.954,
          39.402,
          35.946,
          -5.912,
          -4.102,
          12.686,
          -0.578,
          58.775,
          39.059,
          -17.543,
          -16.086,
          -17.745,
          -16.265,
          -7.41,
          34.083,
          -4.029,
          47.149,
          1.271,
          -4.68,
          13.671,
          23.419,
          -4.022,
          13.049,
          56.7744,
          -14.928,
          6.631,
          6.898
         ],
         "legendgroup": "",
         "lon": [
          159.596,
          100.738,
          -178.346,
          -172.129,
          178.278,
          178.381,
          178.363,
          -82.3396,
          -102.913,
          -103.252,
          121.307,
          121.348,
          170.239,
          146.471,
          102.279,
          -178.959,
          120.809,
          -71.1647,
          -70.3081,
          159.027,
          -66.7236,
          -86.9919,
          170.349,
          170.277,
          121.636,
          141.587,
          98.6034,
          -177.74,
          -179.968,
          -76.9395,
          -176.729,
          105.251,
          -168.08,
          -168.08,
          -168.15,
          -167.736,
          -167.736,
          -167.917,
          31.9095,
          101.299,
          127.581,
          122.2,
          -76.8461,
          126.48,
          -156.492,
          174.54,
          174.895,
          -87.8542,
          -99.7877,
          -24.9992,
          -24.4608,
          167.085,
          -23.3318,
          -73.4804,
          -157.707,
          -157.68,
          -25.3206,
          -25.1874,
          126.742,
          -157.917,
          -157.829,
          120.713,
          -82.8813,
          -177.773,
          -177.356,
          98.2551,
          96.6475,
          66.3745,
          141.665,
          -177.064,
          -176.235,
          141.607,
          163.208,
          -176.619,
          -177.224,
          -177.842,
          179.544,
          141.992,
          171.489,
          -55.559,
          127.517,
          100.443,
          -74.9067,
          26.7953,
          -159.675,
          -26.8332,
          -71.3937,
          -71.1958,
          -29.7046,
          123.493,
          101.215,
          101.095,
          124.13,
          -158.477,
          147.755,
          110.678,
          -95.9533,
          -177.838,
          128.262,
          -68.4204,
          -117.85,
          166.648,
          129.785,
          25.7101,
          -115.118,
          157.695,
          148.959,
          -78.756,
          39.0609,
          125.174,
          126.416,
          -179.511,
          -175.272,
          125.178,
          125.008,
          -73.163,
          128.37,
          -178.57,
          -26.5801,
          104.791,
          -72.3102,
          167.998,
          128.034,
          120.358,
          126.189,
          -117.599,
          129.169,
          -178.1,
          -89.3056,
          -75.2697,
          152.597,
          146.449,
          122.58,
          -25.304,
          -70.1546,
          -77.0505,
          -92.4527,
          42.3568,
          -71.3815,
          166.875,
          126.758,
          -71.587,
          126.921,
          164.699,
          -26.3856,
          169.733,
          169.427,
          -149.955,
          -178.927,
          -11.2431,
          20.5565,
          -129.724,
          -129.289,
          -129.412,
          169.522,
          153.243,
          156.297,
          151.205,
          -178.063,
          119.846,
          178.199,
          -179.373,
          161.503,
          179.35,
          141.929,
          170.126,
          -70.8284,
          168.143,
          -62.9019,
          116.627,
          -178.153,
          119.802,
          -178.026,
          116.438,
          -155,
          -63.0058,
          151.5,
          151.402,
          153.2,
          142.612,
          142.754,
          -97.9787,
          -149.166,
          -74.7092,
          -83.52,
          108.174,
          2.1628,
          168.671,
          168.598,
          -84.4865,
          45.9592,
          143.485,
          -173.168,
          168.859,
          169.148,
          123.074,
          176.769,
          -98.4887,
          -93.8993,
          103.855,
          27.4139,
          168.857,
          164.016,
          124.629,
          -90.9718,
          -92.0092,
          170.92,
          120.431,
          -25.7432,
          167.377,
          125.066,
          -72.0617,
          25.1558,
          162.786,
          -178.804,
          -63.9047,
          125.452,
          155.172,
          161.335,
          122.617,
          176.052,
          -73.9413,
          127.921,
          153.522,
          161.132,
          161.314,
          161.327,
          -126.194,
          96.1678,
          73.9776,
          -88.8968,
          141.387,
          173.254,
          173.669,
          173.054,
          13.0961,
          108.163,
          148.887,
          -178.244,
          179.146,
          152.792,
          94.569,
          173.117,
          145.507,
          100.665,
          -26.9353,
          -178.204,
          -79.616,
          -79.7899,
          167.379,
          -79.9218,
          130.754,
          94.8654,
          71.1311,
          166.594,
          166.624,
          166.855,
          94.3299,
          158.546,
          -153.339,
          -106.934,
          142.781,
          126.862,
          93.6505,
          -93.633,
          129.508,
          72.7797,
          -71.2574,
          -71.0184,
          -70.9437,
          158.422,
          20.6,
          128.873,
          -72.0585,
          -72.0068,
          94.648,
          -71.4519,
          124.875,
          70.3676,
          167.303,
          131.262,
          -71.3792,
          -71.804,
          -71.6876,
          -71.4262,
          -71.6744,
          -109.623,
          157.877,
          158.053,
          138.528,
          -169.446,
          165.141,
          -58.5479,
          158.403,
          139.725,
          140.493,
          -156.43,
          163.215,
          163.696,
          164.169,
          142.032,
          86.0655,
          154.557,
          151.875,
          151.777,
          151.771,
          86.0173,
          84.8216,
          84.7314,
          -178.6,
          -173.029,
          152.562,
          122.535,
          142.881,
          -66.688,
          168.52,
          -82.6576,
          -82.6865,
          154.46,
          123.126,
          126.575,
          127.056,
          179.662,
          126.522,
          148.232,
          -177.759,
          -88.1225,
          144.429,
          -73.5714,
          146.169,
          -178.4,
          142.452,
          -92.4614,
          152.807,
          -175.51,
          -28.3669,
          178.735,
          -177.607,
          -177.516,
          -177.725,
          25.3889,
          -82.3045,
          170.355,
          -127.732,
          155.024,
          155.087,
          -100.972,
          162.052,
          162.051,
          162.148,
          -85.8779,
          154.95,
          155.048,
          -70.4931,
          -70.5756,
          -70.9455,
          -70.7691,
          -70.7022,
          -125.134,
          127.367,
          -58.9272,
          82.5864,
          167.372,
          -177.881,
          167.249,
          -176.545,
          -46.4011,
          -47.0621,
          -71.5215,
          144.661,
          -110.321,
          154.931,
          124.117,
          23.2523,
          152.786,
          -178.323,
          65.5052,
          -74.5112,
          65.5009,
          -174.767,
          138.833,
          128.221,
          -175.23,
          174.152,
          -78.1999,
          174.337,
          -25.07,
          149.706,
          153.927,
          -42.594,
          -86.926,
          107.236,
          151.444,
          153.221,
          -177.232,
          145.288,
          152.127,
          102.888,
          150.788,
          142.542,
          61.996,
          154.607,
          138.476,
          148.174,
          157.408,
          157.283,
          142.508,
          165.741,
          -77.393,
          166.018,
          165.969,
          165.655,
          165.588,
          164.882,
          165.114,
          143.092,
          -70.653,
          -134.859,
          167.286,
          129.825,
          143.949,
          -92.164,
          95.885,
          -91.895,
          -132.101,
          -85.298,
          134.03,
          -76.362,
          -85.315,
          126.638,
          -88.59,
          126.837,
          145.064,
          153.173,
          -174.705,
          134.276,
          147.117,
          -71.365,
          -113.104,
          -102.689,
          92.463,
          93.063,
          -72.217,
          145.955,
          -98.231,
          95.991,
          123.206,
          167.133,
          93.21,
          95.911,
          146.809,
          -99.789,
          -75.966,
          43.508,
          147.881,
          88.155,
          142.779,
          97.893,
          169.716,
          -74.525,
          168.218,
          168.156,
          168.143,
          144.828,
          -176.34,
          142.205,
          168.226,
          161.2,
          140.401,
          141.588,
          -94.338,
          99.822,
          142.463,
          141.562,
          144.59,
          141.111,
          142.373,
          142.842,
          -72.834,
          -72.96,
          63.951,
          168.471,
          -73.326,
          167.947,
          59.18,
          149.977,
          100.082,
          -109.156,
          133.76,
          171.83,
          -77.306,
          168.069,
          150.765,
          146.822,
          123.48,
          150.59,
          150.428,
          -73.31,
          161.447,
          136.484,
          136.543,
          91.936,
          166.643,
          96.018,
          96.548,
          161.116,
          97.048,
          -115.295,
          92.831,
          -73.257,
          141.59,
          -71.799,
          -71.891,
          100.991,
          -73.374,
          167.227,
          -75.048,
          -72.898,
          128.425,
          -72.571,
          -124.692,
          157.551,
          157.354,
          157.487,
          -70.321,
          178.331,
          118.631,
          129.782,
          130.385,
          165.91,
          166.497,
          166.382,
          166.51,
          101.524,
          99.867,
          -172.095,
          107.297,
          99.49,
          140.395,
          92.902,
          137.944,
          -112.903,
          166.562,
          153.782,
          -86.217,
          -174.66,
          126.387,
          133.305,
          70.743,
          132.885,
          122.091,
          -92.364,
          73.824,
          143.754,
          127.363,
          166.967,
          83.52,
          141.464,
          142.214,
          142.714,
          91.824,
          140.881,
          103.322,
          141.526,
          168.892,
          81.467,
          125.63,
          99.808,
          99.891,
          99.972,
          99.931,
          95.964,
          21.863,
          21.67,
          -94.304,
          178.291,
          -70.182,
          -61.274,
          162.149,
          118.467,
          118.37,
          147.098,
          -77.838,
          -70.237,
          -69.89,
          101.02,
          167.553,
          153.5,
          100.141,
          99.627,
          99.668,
          100.841,
          100.139,
          101.367,
          -77.963,
          165.762,
          159.465,
          -76.603,
          107.419,
          167.68,
          127.464,
          134.85,
          138.446,
          -90.618,
          155.741,
          155.777,
          157.043,
          136.588,
          169.357,
          126.976,
          126.282,
          154.524,
          120.493,
          120.547,
          153.266,
          151.195,
          -76.677,
          150.982,
          -155.935,
          -172.033,
          155.512,
          157.522,
          167.789,
          107.419,
          151.133,
          165.743,
          97.05,
          -174.123,
          -173.907,
          -71.056,
          -71.022,
          167.516,
          167.089,
          176.989,
          127.214,
          33.583,
          23.212,
          -112.117,
          71.093,
          29.83,
          142.122,
          96.786,
          -67.895,
          73.588,
          151.84,
          -76.398,
          153.474,
          142.039,
          92.19,
          97.082,
          -86.172,
          -125.953,
          -69.197,
          97.041,
          98.459,
          99.779,
          99.607,
          97.108,
          130.131,
          129.933,
          95.592,
          122.129,
          126.421,
          167.259,
          123.337,
          141.491,
          92.375,
          92.958,
          95.982,
          161.345,
          -81.409,
          145.228,
          145.119,
          135.404,
          164.721,
          -77.508,
          124.868,
          162.208,
          -128.772,
          138.779,
          122.694,
          -86.665,
          120.534,
          162.161,
          137.227,
          137.071,
          136.618,
          -70.525,
          133.091,
          160.003,
          -73.406,
          122.839,
          167.198,
          71.029,
          135.339,
          135.023,
          135.538,
          127.4,
          169.766,
          58.311,
          -82.824,
          -121.101,
          121.362,
          150.88,
          125.416,
          168.892,
          142.619,
          144.57,
          87.721,
          144.38,
          87.813,
          143.593,
          143.91,
          95.672,
          167.144,
          -43.411,
          152.174,
          -71.637,
          159.999,
          152.502,
          128.855,
          141.568,
          3.634,
          120.743,
          153.238,
          -104.104,
          -90.774,
          160.77,
          153.701,
          153.275,
          -147.453,
          96.085,
          -147.912,
          133.973,
          134.297,
          93.068,
          142.945,
          146.199,
          -82.793,
          49.047,
          -71.124,
          166.383,
          144.619,
          -70.586,
          -100.865,
          122.179,
          -68.329,
          124.249,
          70.482,
          151.248,
          31.271,
          142.427,
          168.004,
          167.856,
          159.53,
          122.734,
          141.089,
          90.541,
          150.196,
          123.907,
          144.98,
          133.13,
          -154.701,
          24.244,
          -72.077,
          -73.987,
          -71.649,
          -73.641,
          155.865,
          132.526,
          128.02,
          -122.727,
          126.249,
          102.562,
          -88.938,
          70.232,
          101.776,
          -88.66,
          -153.281,
          167.17,
          126.899,
          126.579
         ],
         "marker": {
          "color": [
           7,
           6.9,
           7,
           7.3,
           6.6,
           7,
           6.8,
           6.7,
           6.8,
           7.6,
           6.9,
           6.5,
           7,
           7.6,
           6.6,
           6.6,
           7,
           6.5,
           7.2,
           6.9,
           6.8,
           6.6,
           7,
           6.9,
           6.7,
           7.3,
           6.7,
           6.6,
           6.8,
           6.5,
           6.5,
           6.6,
           6.5,
           6.5,
           6.6,
           6.7,
           6.7,
           6.8,
           6.6,
           6.6,
           7.3,
           7.3,
           7.5,
           6.6,
           6.9,
           6.9,
           7.3,
           6.5,
           7,
           7.1,
           6.6,
           6.9,
           6.9,
           7.2,
           6.9,
           6.9,
           8.1,
           7.5,
           7.1,
           8.2,
           8.2,
           6.7,
           6.7,
           6.5,
           6.5,
           7.3,
           6.7,
           6.7,
           6.9,
           6.5,
           6.5,
           7,
           6.6,
           6.5,
           8.1,
           7.4,
           7.3,
           7.1,
           7.7,
           6.9,
           7,
           6.7,
           6.7,
           7,
           7.6,
           6.9,
           6.5,
           6.8,
           6.5,
           6.9,
           6.9,
           6.8,
           6.6,
           7.8,
           7,
           6.6,
           7.4,
           7.4,
           6.6,
           6.8,
           6.5,
           6.6,
           6.8,
           6.5,
           6.5,
           7.5,
           7,
           7.7,
           6.7,
           6.8,
           7.1,
           6.5,
           6.6,
           6.5,
           6.6,
           6.7,
           6.5,
           6.6,
           6.6,
           6.9,
           6.8,
           6.6,
           7.2,
           6.6,
           6.9,
           7.1,
           7.3,
           7.3,
           6.6,
           8,
           7.6,
           7.1,
           6.8,
           6.5,
           7,
           7.5,
           6.7,
           6.7,
           6.7,
           6.6,
           6.6,
           6.8,
           7,
           7.3,
           7.1,
           6.6,
           7.5,
           7.1,
           6.8,
           6.7,
           6.8,
           6.5,
           6.8,
           6.5,
           6.5,
           6.7,
           6.5,
           7,
           6.7,
           7.5,
           6.5,
           6.9,
           6.5,
           7.9,
           6.6,
           7.1,
           7.1,
           6.5,
           7.3,
           6.9,
           8.2,
           6.5,
           6.5,
           6.9,
           6.9,
           6.8,
           6.9,
           6.7,
           6.8,
           6.7,
           7.5,
           7.2,
           7.9,
           7.1,
           7.5,
           6.5,
           6.5,
           7,
           6.6,
           6.5,
           7.3,
           6.5,
           6.8,
           6.6,
           6.7,
           6.7,
           6.5,
           7.1,
           8.2,
           6.5,
           6.6,
           7.7,
           6.6,
           6.5,
           6.8,
           6.9,
           6.8,
           6.6,
           6.5,
           6.8,
           6.9,
           6.9,
           6.5,
           6.6,
           6.9,
           6.5,
           6.5,
           7.9,
           6.5,
           7.3,
           6.9,
           7.6,
           6.7,
           7.9,
           6.9,
           6.5,
           7.8,
           6.6,
           6.5,
           6.6,
           6.9,
           6.9,
           6.5,
           6.5,
           7.8,
           6.6,
           6.6,
           6.8,
           6.9,
           7,
           6.8,
           6.8,
           7.2,
           7.7,
           6.6,
           7.2,
           6.9,
           6.9,
           6.7,
           7,
           7.8,
           7,
           6.9,
           6.6,
           6.7,
           6.7,
           6.9,
           7.8,
           7.2,
           7.1,
           6.6,
           6.7,
           6.5,
           6.7,
           6.6,
           6.9,
           7.2,
           6.7,
           7.6,
           7.6,
           6.8,
           6.5,
           6.7,
           6.9,
           6.9,
           6.6,
           6.8,
           6.5,
           7.5,
           7.1,
           6.6,
           6.6,
           6.7,
           6.5,
           7,
           8.3,
           6.7,
           6.5,
           6.6,
           7,
           6.9,
           7,
           6.5,
           6.7,
           6.5,
           7.8,
           6.8,
           6.8,
           6.9,
           6.8,
           6.8,
           7.3,
           7.1,
           7.5,
           6.8,
           6.7,
           6.7,
           6.6,
           7.8,
           6.5,
           6.5,
           7.5,
           7,
           6.7,
           6.7,
           6.8,
           6.5,
           6.6,
           6.6,
           6.6,
           6.8,
           6.5,
           6.7,
           7.1,
           6.6,
           7.1,
           7.3,
           6.7,
           6.8,
           6.9,
           6.9,
           6.5,
           6.9,
           6.5,
           6.7,
           6.9,
           7.9,
           6.7,
           6.5,
           6.9,
           6.9,
           6.5,
           6.6,
           6.5,
           7.5,
           6.6,
           7.2,
           6.6,
           7.4,
           7.6,
           6.6,
           6.5,
           7.1,
           7.7,
           6.5,
           6.9,
           8.2,
           6.7,
           6.8,
           6.5,
           6.5,
           6.9,
           6.5,
           6.5,
           6.5,
           6.5,
           7.7,
           6.9,
           6.6,
           7.1,
           6.6,
           6.8,
           7.1,
           6.6,
           6.7,
           6.5,
           6.8,
           7.1,
           7.7,
           6.5,
           6.5,
           6.5,
           7,
           6.5,
           6.7,
           6.5,
           7.3,
           6.6,
           7.3,
           6.6,
           6.5,
           6.7,
           6.7,
           8.3,
           7.4,
           6.8,
           6.5,
           6.6,
           7.2,
           6.6,
           7.7,
           6.6,
           7,
           6.5,
           6.5,
           6.9,
           6.6,
           6.6,
           6.9,
           7.1,
           6.8,
           6.7,
           7,
           7.1,
           8,
           6.9,
           6.8,
           7.5,
           6.7,
           7.1,
           7.3,
           6.5,
           6.8,
           7.4,
           7.8,
           6.5,
           6.6,
           7.3,
           7.6,
           7.6,
           7.3,
           6.6,
           7.7,
           6.5,
           6.6,
           6.7,
           6.8,
           6.7,
           7,
           6.5,
           8.2,
           8.6,
           7.1,
           6.6,
           7.4,
           6.7,
           6.7,
           7.1,
           7.2,
           6.6,
           7.1,
           6.5,
           6.9,
           7.1,
           6.5,
           6.9,
           6.7,
           6.7,
           7,
           7,
           7.1,
           6.5,
           7.2,
           6.6,
           7.6,
           6.7,
           6.8,
           6.8,
           6.6,
           7.1,
           6.6,
           6.9,
           6.6,
           6.5,
           7.7,
           7.9,
           9.1,
           7.3,
           6.7,
           6.9,
           7.2,
           7,
           7.2,
           7.3,
           6.7,
           6.6,
           7.8,
           6.7,
           7,
           7,
           7.1,
           7.3,
           7,
           6.5,
           7.6,
           7.3,
           6.9,
           6.6,
           6.7,
           6.6,
           7,
           7.5,
           7.2,
           7.2,
           6.9,
           6.9,
           7.8,
           7.2,
           6.6,
           6.7,
           6.5,
           7,
           6.9,
           6.8,
           6.6,
           6.5,
           7.4,
           8.8,
           7,
           7,
           6.5,
           6.8,
           7.1,
           6.6,
           6.5,
           7.3,
           6.6,
           6.8,
           6.9,
           6.8,
           7.4,
           7.8,
           7.7,
           6.6,
           7.6,
           8.1,
           7,
           6.7,
           6.6,
           7.5,
           7.1,
           6.9,
           7.8,
           6.7,
           7.3,
           7.6,
           7.2,
           7.4,
           6.6,
           7.7,
           7.4,
           6.7,
           6.7,
           6.8,
           6.6,
           6.9,
           6.7,
           6.8,
           7,
           6.9,
           6.6,
           6.9,
           7.9,
           6.9,
           7.3,
           7.2,
           6.9,
           6.7,
           6.6,
           7.2,
           6.5,
           7.4,
           6.5,
           6.9,
           6.5,
           6.6,
           6.7,
           7.4,
           6.6,
           6.5,
           6.5,
           6.8,
           6.8,
           6.8,
           7.7,
           6.8,
           6.8,
           6.8,
           6.7,
           7,
           6.5,
           7.9,
           7.8,
           8.4,
           6.8,
           7.2,
           6.5,
           8,
           7.5,
           7.2,
           6.9,
           6.8,
           6.6,
           6.7,
           6.9,
           6.6,
           8.1,
           6.7,
           7.1,
           6.7,
           7.5,
           8.1,
           6.9,
           7.1,
           8.3,
           6.6,
           6.7,
           6.7,
           6.7,
           6.9,
           6.8,
           6.5,
           6.8,
           7.7,
           6.5,
           6.6,
           6.8,
           8,
           8,
           6.5,
           6.7,
           6.6,
           7.6,
           6.5,
           6.7,
           7,
           6.7,
           6.6,
           6.5,
           6.8,
           6.5,
           6.5,
           6.8,
           7.6,
           6.6,
           7.5,
           7.6,
           7.2,
           7.2,
           6.7,
           6.6,
           7.2,
           7.8,
           6.9,
           6.7,
           6.5,
           6.7,
           8.6,
           6.6,
           7.1,
           6.8,
           6.5,
           6.5,
           6.7,
           7.1,
           6.6,
           6.6,
           7.2,
           9.1,
           8.1,
           6.8,
           6.8,
           7,
           7.1,
           7.1,
           7.2,
           7.5,
           6.7,
           6.7,
           6.6,
           6.7,
           7,
           6.5,
           6.8,
           6.6,
           7.4,
           7.2,
           6.5,
           6.5,
           6.9,
           6.6,
           6.7,
           6.5,
           6.6,
           6.7,
           7.3,
           7,
           6.7,
           7.3,
           6.6,
           6.5,
           6.5,
           6.8,
           6.6,
           6.5,
           6.6,
           7,
           6.7,
           6.7,
           6.5,
           7.3,
           7.4,
           8.16,
           6.6,
           7.2,
           7.6,
           6.5,
           6.8,
           6.9,
           6.6,
           7,
           7,
           6.8,
           6.5,
           6.8,
           7.6,
           6.5,
           7.3,
           6.7,
           6.7,
           7.9,
           7.4,
           6.6,
           6.7,
           7.6,
           6.5,
           7.6,
           6.5,
           6.5,
           6.5,
           6.6,
           6.7,
           7.1,
           6.7,
           6.8,
           7.1,
           6.5,
           7.5,
           7.4,
           6.6,
           6.5,
           6.7,
           6.6,
           7.2,
           6.8,
           6.8,
           6.5,
           7.8,
           7,
           7.5,
           7,
           6.5,
           6.6,
           6.5,
           7.6,
           6.6,
           6.7,
           8.4,
           6.7,
           6.8,
           6.5,
           6.8,
           7.1,
           7.4,
           6.6,
           7.7,
           6.9,
           7.7,
           6.9,
           7.1,
           6.8,
           7.5
          ],
          "coloraxis": "coloraxis"
         },
         "mode": "markers",
         "name": "",
         "showlegend": false,
         "subplot": "mapbox",
         "type": "scattermapbox"
        }
       ],
       "layout": {
        "autosize": true,
        "coloraxis": {
         "colorbar": {
          "title": {
           "text": "magnitude"
          }
         },
         "colorscale": [
          [
           0,
           "#0d0887"
          ],
          [
           0.1111111111111111,
           "#46039f"
          ],
          [
           0.2222222222222222,
           "#7201a8"
          ],
          [
           0.3333333333333333,
           "#9c179e"
          ],
          [
           0.4444444444444444,
           "#bd3786"
          ],
          [
           0.5555555555555556,
           "#d8576b"
          ],
          [
           0.6666666666666666,
           "#ed7953"
          ],
          [
           0.7777777777777778,
           "#fb9f3a"
          ],
          [
           0.8888888888888888,
           "#fdca26"
          ],
          [
           1,
           "#f0f921"
          ]
         ]
        },
        "legend": {
         "tracegroupgap": 0
        },
        "mapbox": {
         "center": {
          "lat": 3.5380998721227632,
          "lon": 52.60919936061381
         },
         "domain": {
          "x": [
           0,
           1
          ],
          "y": [
           0,
           1
          ]
         },
         "style": "open-street-map",
         "zoom": 1
        },
        "margin": {
         "t": 60
        },
        "template": {
         "data": {
          "bar": [
           {
            "error_x": {
             "color": "#2a3f5f"
            },
            "error_y": {
             "color": "#2a3f5f"
            },
            "marker": {
             "line": {
              "color": "#E5ECF6",
              "width": 0.5
             },
             "pattern": {
              "fillmode": "overlay",
              "size": 10,
              "solidity": 0.2
             }
            },
            "type": "bar"
           }
          ],
          "barpolar": [
           {
            "marker": {
             "line": {
              "color": "#E5ECF6",
              "width": 0.5
             },
             "pattern": {
              "fillmode": "overlay",
              "size": 10,
              "solidity": 0.2
             }
            },
            "type": "barpolar"
           }
          ],
          "carpet": [
           {
            "aaxis": {
             "endlinecolor": "#2a3f5f",
             "gridcolor": "white",
             "linecolor": "white",
             "minorgridcolor": "white",
             "startlinecolor": "#2a3f5f"
            },
            "baxis": {
             "endlinecolor": "#2a3f5f",
             "gridcolor": "white",
             "linecolor": "white",
             "minorgridcolor": "white",
             "startlinecolor": "#2a3f5f"
            },
            "type": "carpet"
           }
          ],
          "choropleth": [
           {
            "colorbar": {
             "outlinewidth": 0,
             "ticks": ""
            },
            "type": "choropleth"
           }
          ],
          "contour": [
           {
            "colorbar": {
             "outlinewidth": 0,
             "ticks": ""
            },
            "colorscale": [
             [
              0,
              "#0d0887"
             ],
             [
              0.1111111111111111,
              "#46039f"
             ],
             [
              0.2222222222222222,
              "#7201a8"
             ],
             [
              0.3333333333333333,
              "#9c179e"
             ],
             [
              0.4444444444444444,
              "#bd3786"
             ],
             [
              0.5555555555555556,
              "#d8576b"
             ],
             [
              0.6666666666666666,
              "#ed7953"
             ],
             [
              0.7777777777777778,
              "#fb9f3a"
             ],
             [
              0.8888888888888888,
              "#fdca26"
             ],
             [
              1,
              "#f0f921"
             ]
            ],
            "type": "contour"
           }
          ],
          "contourcarpet": [
           {
            "colorbar": {
             "outlinewidth": 0,
             "ticks": ""
            },
            "type": "contourcarpet"
           }
          ],
          "heatmap": [
           {
            "colorbar": {
             "outlinewidth": 0,
             "ticks": ""
            },
            "colorscale": [
             [
              0,
              "#0d0887"
             ],
             [
              0.1111111111111111,
              "#46039f"
             ],
             [
              0.2222222222222222,
              "#7201a8"
             ],
             [
              0.3333333333333333,
              "#9c179e"
             ],
             [
              0.4444444444444444,
              "#bd3786"
             ],
             [
              0.5555555555555556,
              "#d8576b"
             ],
             [
              0.6666666666666666,
              "#ed7953"
             ],
             [
              0.7777777777777778,
              "#fb9f3a"
             ],
             [
              0.8888888888888888,
              "#fdca26"
             ],
             [
              1,
              "#f0f921"
             ]
            ],
            "type": "heatmap"
           }
          ],
          "heatmapgl": [
           {
            "colorbar": {
             "outlinewidth": 0,
             "ticks": ""
            },
            "colorscale": [
             [
              0,
              "#0d0887"
             ],
             [
              0.1111111111111111,
              "#46039f"
             ],
             [
              0.2222222222222222,
              "#7201a8"
             ],
             [
              0.3333333333333333,
              "#9c179e"
             ],
             [
              0.4444444444444444,
              "#bd3786"
             ],
             [
              0.5555555555555556,
              "#d8576b"
             ],
             [
              0.6666666666666666,
              "#ed7953"
             ],
             [
              0.7777777777777778,
              "#fb9f3a"
             ],
             [
              0.8888888888888888,
              "#fdca26"
             ],
             [
              1,
              "#f0f921"
             ]
            ],
            "type": "heatmapgl"
           }
          ],
          "histogram": [
           {
            "marker": {
             "pattern": {
              "fillmode": "overlay",
              "size": 10,
              "solidity": 0.2
             }
            },
            "type": "histogram"
           }
          ],
          "histogram2d": [
           {
            "colorbar": {
             "outlinewidth": 0,
             "ticks": ""
            },
            "colorscale": [
             [
              0,
              "#0d0887"
             ],
             [
              0.1111111111111111,
              "#46039f"
             ],
             [
              0.2222222222222222,
              "#7201a8"
             ],
             [
              0.3333333333333333,
              "#9c179e"
             ],
             [
              0.4444444444444444,
              "#bd3786"
             ],
             [
              0.5555555555555556,
              "#d8576b"
             ],
             [
              0.6666666666666666,
              "#ed7953"
             ],
             [
              0.7777777777777778,
              "#fb9f3a"
             ],
             [
              0.8888888888888888,
              "#fdca26"
             ],
             [
              1,
              "#f0f921"
             ]
            ],
            "type": "histogram2d"
           }
          ],
          "histogram2dcontour": [
           {
            "colorbar": {
             "outlinewidth": 0,
             "ticks": ""
            },
            "colorscale": [
             [
              0,
              "#0d0887"
             ],
             [
              0.1111111111111111,
              "#46039f"
             ],
             [
              0.2222222222222222,
              "#7201a8"
             ],
             [
              0.3333333333333333,
              "#9c179e"
             ],
             [
              0.4444444444444444,
              "#bd3786"
             ],
             [
              0.5555555555555556,
              "#d8576b"
             ],
             [
              0.6666666666666666,
              "#ed7953"
             ],
             [
              0.7777777777777778,
              "#fb9f3a"
             ],
             [
              0.8888888888888888,
              "#fdca26"
             ],
             [
              1,
              "#f0f921"
             ]
            ],
            "type": "histogram2dcontour"
           }
          ],
          "mesh3d": [
           {
            "colorbar": {
             "outlinewidth": 0,
             "ticks": ""
            },
            "type": "mesh3d"
           }
          ],
          "parcoords": [
           {
            "line": {
             "colorbar": {
              "outlinewidth": 0,
              "ticks": ""
             }
            },
            "type": "parcoords"
           }
          ],
          "pie": [
           {
            "automargin": true,
            "type": "pie"
           }
          ],
          "scatter": [
           {
            "fillpattern": {
             "fillmode": "overlay",
             "size": 10,
             "solidity": 0.2
            },
            "type": "scatter"
           }
          ],
          "scatter3d": [
           {
            "line": {
             "colorbar": {
              "outlinewidth": 0,
              "ticks": ""
             }
            },
            "marker": {
             "colorbar": {
              "outlinewidth": 0,
              "ticks": ""
             }
            },
            "type": "scatter3d"
           }
          ],
          "scattercarpet": [
           {
            "marker": {
             "colorbar": {
              "outlinewidth": 0,
              "ticks": ""
             }
            },
            "type": "scattercarpet"
           }
          ],
          "scattergeo": [
           {
            "marker": {
             "colorbar": {
              "outlinewidth": 0,
              "ticks": ""
             }
            },
            "type": "scattergeo"
           }
          ],
          "scattergl": [
           {
            "marker": {
             "colorbar": {
              "outlinewidth": 0,
              "ticks": ""
             }
            },
            "type": "scattergl"
           }
          ],
          "scattermapbox": [
           {
            "marker": {
             "colorbar": {
              "outlinewidth": 0,
              "ticks": ""
             }
            },
            "type": "scattermapbox"
           }
          ],
          "scatterpolar": [
           {
            "marker": {
             "colorbar": {
              "outlinewidth": 0,
              "ticks": ""
             }
            },
            "type": "scatterpolar"
           }
          ],
          "scatterpolargl": [
           {
            "marker": {
             "colorbar": {
              "outlinewidth": 0,
              "ticks": ""
             }
            },
            "type": "scatterpolargl"
           }
          ],
          "scatterternary": [
           {
            "marker": {
             "colorbar": {
              "outlinewidth": 0,
              "ticks": ""
             }
            },
            "type": "scatterternary"
           }
          ],
          "surface": [
           {
            "colorbar": {
             "outlinewidth": 0,
             "ticks": ""
            },
            "colorscale": [
             [
              0,
              "#0d0887"
             ],
             [
              0.1111111111111111,
              "#46039f"
             ],
             [
              0.2222222222222222,
              "#7201a8"
             ],
             [
              0.3333333333333333,
              "#9c179e"
             ],
             [
              0.4444444444444444,
              "#bd3786"
             ],
             [
              0.5555555555555556,
              "#d8576b"
             ],
             [
              0.6666666666666666,
              "#ed7953"
             ],
             [
              0.7777777777777778,
              "#fb9f3a"
             ],
             [
              0.8888888888888888,
              "#fdca26"
             ],
             [
              1,
              "#f0f921"
             ]
            ],
            "type": "surface"
           }
          ],
          "table": [
           {
            "cells": {
             "fill": {
              "color": "#EBF0F8"
             },
             "line": {
              "color": "white"
             }
            },
            "header": {
             "fill": {
              "color": "#C8D4E3"
             },
             "line": {
              "color": "white"
             }
            },
            "type": "table"
           }
          ]
         },
         "layout": {
          "annotationdefaults": {
           "arrowcolor": "#2a3f5f",
           "arrowhead": 0,
           "arrowwidth": 1
          },
          "autotypenumbers": "strict",
          "coloraxis": {
           "colorbar": {
            "outlinewidth": 0,
            "ticks": ""
           }
          },
          "colorscale": {
           "diverging": [
            [
             0,
             "#8e0152"
            ],
            [
             0.1,
             "#c51b7d"
            ],
            [
             0.2,
             "#de77ae"
            ],
            [
             0.3,
             "#f1b6da"
            ],
            [
             0.4,
             "#fde0ef"
            ],
            [
             0.5,
             "#f7f7f7"
            ],
            [
             0.6,
             "#e6f5d0"
            ],
            [
             0.7,
             "#b8e186"
            ],
            [
             0.8,
             "#7fbc41"
            ],
            [
             0.9,
             "#4d9221"
            ],
            [
             1,
             "#276419"
            ]
           ],
           "sequential": [
            [
             0,
             "#0d0887"
            ],
            [
             0.1111111111111111,
             "#46039f"
            ],
            [
             0.2222222222222222,
             "#7201a8"
            ],
            [
             0.3333333333333333,
             "#9c179e"
            ],
            [
             0.4444444444444444,
             "#bd3786"
            ],
            [
             0.5555555555555556,
             "#d8576b"
            ],
            [
             0.6666666666666666,
             "#ed7953"
            ],
            [
             0.7777777777777778,
             "#fb9f3a"
            ],
            [
             0.8888888888888888,
             "#fdca26"
            ],
            [
             1,
             "#f0f921"
            ]
           ],
           "sequentialminus": [
            [
             0,
             "#0d0887"
            ],
            [
             0.1111111111111111,
             "#46039f"
            ],
            [
             0.2222222222222222,
             "#7201a8"
            ],
            [
             0.3333333333333333,
             "#9c179e"
            ],
            [
             0.4444444444444444,
             "#bd3786"
            ],
            [
             0.5555555555555556,
             "#d8576b"
            ],
            [
             0.6666666666666666,
             "#ed7953"
            ],
            [
             0.7777777777777778,
             "#fb9f3a"
            ],
            [
             0.8888888888888888,
             "#fdca26"
            ],
            [
             1,
             "#f0f921"
            ]
           ]
          },
          "colorway": [
           "#636efa",
           "#EF553B",
           "#00cc96",
           "#ab63fa",
           "#FFA15A",
           "#19d3f3",
           "#FF6692",
           "#B6E880",
           "#FF97FF",
           "#FECB52"
          ],
          "font": {
           "color": "#2a3f5f"
          },
          "geo": {
           "bgcolor": "white",
           "lakecolor": "white",
           "landcolor": "#E5ECF6",
           "showlakes": true,
           "showland": true,
           "subunitcolor": "white"
          },
          "hoverlabel": {
           "align": "left"
          },
          "hovermode": "closest",
          "mapbox": {
           "style": "light"
          },
          "paper_bgcolor": "white",
          "plot_bgcolor": "#E5ECF6",
          "polar": {
           "angularaxis": {
            "gridcolor": "white",
            "linecolor": "white",
            "ticks": ""
           },
           "bgcolor": "#E5ECF6",
           "radialaxis": {
            "gridcolor": "white",
            "linecolor": "white",
            "ticks": ""
           }
          },
          "scene": {
           "xaxis": {
            "backgroundcolor": "#E5ECF6",
            "gridcolor": "white",
            "gridwidth": 2,
            "linecolor": "white",
            "showbackground": true,
            "ticks": "",
            "zerolinecolor": "white"
           },
           "yaxis": {
            "backgroundcolor": "#E5ECF6",
            "gridcolor": "white",
            "gridwidth": 2,
            "linecolor": "white",
            "showbackground": true,
            "ticks": "",
            "zerolinecolor": "white"
           },
           "zaxis": {
            "backgroundcolor": "#E5ECF6",
            "gridcolor": "white",
            "gridwidth": 2,
            "linecolor": "white",
            "showbackground": true,
            "ticks": "",
            "zerolinecolor": "white"
           }
          },
          "shapedefaults": {
           "line": {
            "color": "#2a3f5f"
           }
          },
          "ternary": {
           "aaxis": {
            "gridcolor": "white",
            "linecolor": "white",
            "ticks": ""
           },
           "baxis": {
            "gridcolor": "white",
            "linecolor": "white",
            "ticks": ""
           },
           "bgcolor": "#E5ECF6",
           "caxis": {
            "gridcolor": "white",
            "linecolor": "white",
            "ticks": ""
           }
          },
          "title": {
           "x": 0.05
          },
          "xaxis": {
           "automargin": true,
           "gridcolor": "white",
           "linecolor": "white",
           "ticks": "",
           "title": {
            "standoff": 15
           },
           "zerolinecolor": "white",
           "zerolinewidth": 2
          },
          "yaxis": {
           "automargin": true,
           "gridcolor": "white",
           "linecolor": "white",
           "ticks": "",
           "title": {
            "standoff": 15
           },
           "zerolinecolor": "white",
           "zerolinewidth": 2
          }
         }
        }
       }
      },
      "image/png": "[encoded data removed]",
      "text/html": [
       "<div>                            <div id=\"4c3870e5-664e-4386-b613-85036050e4f1\" class=\"plotly-graph-div\" style=\"height:525px; width:100%;\"></div>            <script type=\"text/javascript\">                require([\"plotly\"], function(Plotly) {                    window.PLOTLYENV=window.PLOTLYENV || {};                                    if (document.getElementById(\"4c3870e5-664e-4386-b613-85036050e4f1\")) {                    Plotly.newPlot(                        \"4c3870e5-664e-4386-b613-85036050e4f1\",                        [{\"customdata\":[[7.0,\"Malango, Solomon Islands\",768],[6.9,\"Bengkulu, Indonesia\",735],[7.0,null,755],[7.3,\"Neiafu, Tonga\",833],[6.6,null,670],[7.0,\"the Fiji Islands\",755],[6.8,\"the Fiji Islands\",711],[6.7,\"Boca Chica, Panama\",797],[6.8,\"Aguililla, Mexico\",1179],[7.6,\"Aguililla, Mexico\",1799],[6.9,\"Yujing, Taiwan\",887],[6.5,\"Lugu, Taiwan\",756],[7.0,\"Isangel, Vanuatu\",761],[7.6,\"Kainantu, Papua New Guinea\",965],[6.6,\"Kangding, China\",1043],[6.6,\"the Kermadec Islands\",672],[7.0,\"Bantay, Philippines\",1351],[6.5,\"Tarauac\\u00c3\\u00a1, Brazil\",653],[7.2,\"Az\\u00c3\\u00a1ngaro, Peru\",876],[6.9,null,733],[6.8,\"San Antonio de los Cobres, Argentina\",762],[6.6,\"Masachapa, Nicaragua\",762],[7.0,\"the Loyalty Islands\",763],[6.9,\"Tadine, New Caledonia\",738],[6.7,\"Hualien City, Taiwan\",806],[7.3,\"Namie, Japan\",2397],[6.7,\"Pariaman, Indonesia\",708],[6.6,\"Kermadec Islands, New Zealand\",670],[6.8,\"the Fiji Islands\",712],[6.5,\"Barranca, Peru\",690],[6.5,\"Kermadec Islands region\",651],[6.6,\"Labuan, Indonesia\",785],[6.5,\"Nikolski, Alaska\",650],[6.5,\"Nikolski, Alaska\",650],[6.6,\"Nikolski, Alaska\",674],[6.7,\"Nikolski, Alaska\",691],[6.7,\"Nikolski, Alaska\",691],[6.8,\"Nikolski, Alaska\",730],[6.6,\"P\\u00c3\\u00b3lis, Cyprus\",976],[6.6,\"northern Qinghai, China\",1012],[7.3,\"Lospalos, Timor Leste\",921],[7.3,\"Flores Sea\",854],[7.5,\"Barranca, Peru\",1094],[6.6,\"Hirara, Japan\",688],[6.9,\"Chignik, Alaska\",995],[6.9,\"Vanuatu region\",740],[7.3,\"Vanuatu region\",826],[6.5,\"Jiquilillo, Nicaragua\",684],[7.0,\"Acapulco, Mexico\",2504],[7.1,\"South Sandwich Islands region\",776],[6.6,\"South Sandwich Islands region\",670],[6.9,\"Port-Olry, Vanuatu\",741],[6.9,\"South Sandwich Islands region\",734],[7.2,\"Nippes, Haiti\",2331],[6.9,\"Perryville, Alaska\",738],[6.9,\"Perryville, Alaska\",738],[8.1,\"South Sandwich Islands region\",1009],[7.5,\"South Sandwich Islands region\",868],[7.1,\"Pondaguitan, Philippines\",846],[8.2,\"Perryville, Alaska\",1237],[8.2,\"Perryville, Alaska\",1252],[6.7,\"Hukay, Philippines\",935],[6.7,\"Burica, Panama\",830],[6.5,\"Kermadec Islands, New Zealand\",650],[6.5,\"Alo, Wallis and Futuna\",652],[7.3,\"Southern Qinghai, China\",1025],[6.7,\"Sinabang, Indonesia\",698],[6.7,\"Mauritius - Reunion region\",694],[6.9,null,919],[6.5,\"Haveluloto, Tonga\",651],[6.5,\"Pangai, Tonga\",652],[7.0,\"Ishinomaki, Japan\",1052],[6.6,\"Ust\\u00e2\\u0080\\u0099-Kamchatsk Staryy, Russia\",672],[6.5,\"Kermadec Islands region\",650],[8.1,\"Kermadec Islands, New Zealand\",1021],[7.4,\"Kermadec Islands, New Zealand\",843],[7.3,\"Gisborne, New Zealand\",932],[7.1,\"Namie, Japan\",1612],[7.7,\"the Loyalty Islands\",918],[6.9,\"South Shetland Islands\",739],[7.0,\"Pondaguitan, Philippines\",802],[6.7,\"Turt, Mongolia\",776],[6.7,\"Corral, Chile\",776],[7.0,\"N\\u00c3\\u00a9on Karlov\\u00c3\\u00a1sion, Greece\",1527],[7.6,\"Sand Point, Alaska\",1165],[6.9,\"central Mid-Atlantic Ridge\",732],[6.5,\"Vallenar, Chile\",674],[6.8,\"Vallenar, Chile\",824],[6.5,\"central Mid-Atlantic Ridge\",651],[6.9,\"Katabu, Indonesia\",749],[6.9,\"Bengkulu, Indonesia\",735],[6.8,\"Bengkulu, Indonesia\",716],[6.6,\"San Pedro, Philippines\",784],[7.8,\"Perryville, Alaska\",1111],[7.0,\"Popondetta, Papua New Guinea\",820],[6.6,\"Batang, Indonesia\",684],[7.4,\"Santa Mar\\u00c3\\u00ada Xadani, Mexico\",1494],[7.4,\"the Kermadec Islands\",873],[6.6,\"Naze, Japan\",734],[6.8,\"San Pedro de Atacama, Chile\",835],[6.5,\"Monte Cristo Range, NV Earthquake\",1320],[6.6,\"Lata, Solomon Islands\",671],[6.8,\"Banda Sea\",738],[6.5,\"N\\u00c3\\u00a9a Anatol\\u00c3\\u00ad, Greece\",678],[6.5,\"Stanley, Idaho\",1410],[7.5,\"Severo-Kuril\\u00e2\\u0080\\u0099sk, Russia\",879],[7.0,\"Kuril\\u00e2\\u0080\\u0099sk, Russia\",770],[7.7,\"Lucea, Jamaica\",1812],[6.7,\"Do?anyol, Turkey\",1247],[6.8,\"Magsaysay, Philippines\",825],[7.1,\"Bitung, Indonesia\",799],[6.5,\"Ndoi Island, Fiji\",650],[6.6,\"Neiafu, Tonga\",673],[6.5,\"Kisante, Philippines\",733],[6.6,\"Columbio, Philippines\",780],[6.7,\"Constituci\\u00c3\\u00b3n, Chile\",844],[6.5,\"Kairatu, Indonesia\",656],[6.6,\"Ndoi Island, Fiji\",671],[6.6,\"Bristol Island, South Sandwich Islands\",670],[6.9,\"Labuan, Indonesia\",875],[6.8,\"San Antonio, Chile\",947],[6.6,\"Lakatoro, Vanuatu\",670],[7.2,\"Laiwui, Indonesia\",809],[6.6,\"Broome, Australia\",791],[6.9,\"Kota Ternate, Indonesia\",747],[7.1,\"Searles Valley, CA\",1646],[7.3,\"Saumlaki, Indonesia\",952],[7.3,\"L'Esperance Rock, New Zealand\",830],[6.6,\"La Libertad, El Salvador\",886],[8.0,\"Navarro, Peru\",1890],[7.6,\"Namatanai, Papua New Guinea\",929],[7.1,\"Bulolo, Papua New Guinea\",826],[6.8,\"Luwuk, Indonesia\",717],[6.5,\"Bristol Island, South Sandwich Islands\",650],[7.0,\"Az\\u00c3\\u00a1ngaro, Peru\",869],[7.5,\"Palora, Ecuador\",1145],[6.7,\"Puerto Madero, Mexico\",909],[6.7,\"Prince Edward Islands region\",691],[6.7,\"Coquimbo, Chile\",1600],[6.6,\"Sola, Vanuatu\",671],[6.6,\"Molucca Sea\",672],[6.8,\"Tarauaca, Brazil\",715],[7.0,\"Pondaguitan, Philippines\",803],[7.3,\"Ust\\u00e2\\u0080\\u0099-Kamchatsk Staryy, Russia\",822],[7.1,\"South Sandwich Islands region\",776],[6.6,\"Tadine, New Caledonia\",670],[7.5,\"Tadine, New Caledonia\",871],[7.1,\"Point MacKenzie, Alaska\",1790],[6.8,\"Levuka, Fiji\",711],[6.7,\"Olonkinbyen, Svalbard and Jan Mayen\",693],[6.8,\"Lithaki\\u00c3\\u00a1, Greece\",954],[6.5,\"Port McNeill, Canada\",655],[6.8,\"Port McNeill, Canada\",776],[6.5,\"Port McNeill, Canada\",669],[6.5,\"Tadine, New Caledonia\",650],[6.7,\"Ozernovskiy, Russia\",691],[6.5,\"Severo-Kuril\\u00e2\\u0080\\u0099sk, Russia\",650],[7.0,\"Kimbe, Papua New Guinea\",758],[6.7,\"Levuka, Fiji\",691],[7.5,\"Palu, Indonesia\",2026],[6.5,\"the Fiji Islands\",651],[6.9,\"Kermadec Islands region\",735],[6.5,\"Kirakira, Solomon Islands\",651],[7.9,\"Levuka, Fiji\",979],[6.6,\"Chitose, Japan\",1075],[7.1,\"Tadine, New Caledonia\",776],[7.1,\"I\\u00c3\\u00b1apari, Peru\",776],[6.5,\"Lakatoro, Vanuatu\",652],[7.3,\"Car\\u00c3\\u00bapano, Venezuela\",1570],[6.9,\"Labuan Lombok, Indonesia\",1206],[8.2,\"Levuka, Fiji\",1050],[6.5,\"Labuan Bajo, Indonesia\",743],[6.5,\"Adak, Alaska\",655],[6.9,\"Labuan Lombok, Indonesia\",1704],[6.9,\"Leilani Estates, Hawaii\",1392],[6.8,\"Boyuibe, Bolivia\",733],[6.9,\"Kimbe, Papua New Guinea\",741],[6.7,\"Kimbe, Papua New Guinea\",696],[6.8,\"Kokopo, Papua New Guinea\",719],[6.7,\"Tari, Papua New Guinea\",697],[7.5,\"Tari, Papua New Guinea\",943],[7.2,\"Pinotepa de Don Luis, Mexico\",1384],[7.9,\"Chiniak, Alaska\",1870],[7.1,\"Atiquipa, Peru\",1075],[7.5,\"Barra Patuca, Honduras\",1623],[6.5,\"Kawalu, Indonesia\",998],[6.5,\"Bouvet Island region\",651],[7.0,\"Tadine, New Caledonia\",771],[6.6,\"Tadine, New Caledonia\",676],[6.5,\"Parrita, Costa Rica\",1153],[7.3,\"?alabja, Iraq\",2790],[6.5,\"Angoram, Papua New Guinea\",661],[6.8,\"Hihifo, Tonga\",727],[6.6,\"Tadine, New Caledonia\",674],[6.7,\"Tadine, New Caledonia\",691],[6.7,\"Maumere, Indonesia\",694],[6.5,\"Attu Station, Alaska\",651],[7.1,\"Matzaco, Mexico\",1686],[8.2,\"Chiapas, Mexico\",2910],[6.5,\"Mawu, China\",707],[6.6,\"Kos, Greece\",1064],[7.7,\"Komandorskiye Ostrova, Russia region\",918],[6.6,\"Auckland Islands, New Zealand region\",704],[6.5,\"Lim-oo, Philippines\",740],[6.8,\"Puerto San Jos\\u00c3\\u00a9, Guatemala\",1034],[6.9,\"San Pablo, Guatemala\",1188],[6.8,\"Attu Station, Alaska\",711],[6.6,\"Poso, Indonesia\",678],[6.5,\"South Sandwich Islands region\",650],[6.8,\"Port-Olry, Vanuatu\",713],[6.9,\"Burias, Philippines\",814],[6.9,\"Valpara\\u00c3\\u00adso, Chile\",1642],[6.5,\"Moijabana, Botswana\",1297],[6.6,\"Ust\\u00e2\\u0080\\u0099-Kamchatsk Staryy, Russia\",671],[6.9,\"the Fiji Islands\",733],[6.5,\"Padilla, Bolivia\",653],[6.5,\"Mabua, Philippines\",718],[7.9,\"Panguna, Papua New Guinea\",987],[6.5,\"Kirakira, Solomon Islands\",654],[7.3,\"Tabiauan, Philippines\",849],[6.9,\"Nadi, Fiji\",742],[7.6,\"Quell\\u00c3\\u00b3n, Chile\",1152],[6.7,\"Lospalos, Timor Leste\",726],[7.9,\"Kokopo, Papua New Guinea\",972],[6.9,\"Kirakira, Solomon Islands\",737],[6.5,\"Kirakira, Solomon Islands\",650],[7.8,\"Kirakira, Solomon Islands\",961],[6.6,\"Ferndale, California\",1120],[6.5,\"Reuleuet, Indonesia\",731],[6.6,\"Murghob, Tajikistan\",693],[6.9,\"Puerto El Triunfo, El Salvador\",855],[6.9,\"Namie, Japan\",1144],[6.5,\"Amberley, New Zealand\",664],[6.5,\"Blenheim, New Zealand\",656],[7.8,\"Amberley, New Zealand\",1545],[6.6,\"Preci, Italy\",2840],[6.6,\"Pamanukan, Indonesia\",677],[6.8,\"Kandrian, Papua New Guinea\",716],[6.9,\"Fiji region\",733],[7.0,\"Gisborne, New Zealand\",897],[6.8,\"Rabaul, Papua New Guinea\",713],[6.8,\"Chauk, Myanmar\",981],[7.2,\"the Loyalty Islands\",799],[7.7,\"Pagan region, Northern Mariana Islands\",971],[6.6,\"Sungai Penuh, Indonesia\",671],[7.2,\"South Sandwich Islands region\",798],[6.9,null,733],[6.9,\"Rosa Zarate, Ecuador\",780],[6.7,\"Muisne, Ecuador\",744],[7.0,\"Norsup, Vanuatu\",755],[7.8,\"Muisne, Ecuador\",1163],[7.0,\"Kumamoto, Japan\",2074],[6.9,\"Mawlaik, Myanmar\",903],[6.6,\"Ashk?sham, Afghanistan\",738],[6.7,\"Sola, Vanuatu\",692],[6.7,\"Sola, Vanuatu\",691],[6.9,\"Port-Olry, Vanuatu\",734],[7.8,\"Sumatra, Indonesia\",948],[7.2,\"Mil\\u00e2\\u0080\\u0099kovo, Russia\",799],[7.1,\"Pedro Bay, Alaska\",1496],[6.6,\"La Cruz de Loreto, Mexico\",673],[6.7,\"Shizunai-furukawach?, Japan\",717],[6.5,\"Sarangani, Philippines\",651],[6.7,\"Imph?l, India\",1515],[6.6,\"Manuel \\u00c3\\u0081vila Camacho (Ponte Duro), Mexico\",765],[6.9,\"Amahai, Indonesia\",738],[7.2,\"Murghob, Tajikistan\",827],[6.7,\"Tarauac\\u00c3\\u00a1, Brazil\",691],[7.6,\"I\\u00c3\\u00b1apari, Peru\",896],[7.6,\"I\\u00c3\\u00b1apari, Peru\",957],[6.8,\"Buala, Solomon Islands\",715],[6.5,\"Lefk\\u00c3\\u00a1da, Greece\",1018],[6.7,\"Makurazaki, Japan\",702],[6.9,\"Coquimbo, Chile\",744],[6.9,\"Coquimbo, Chile\",761],[6.6,\"Nicobar Islands, India region\",675],[6.8,\"Ovalle, Chile\",841],[6.5,\"Maubara, Timor Leste\",657],[7.5,\"Hindu Kush region, Afghanistan\",1448],[7.1,\"Port-Olry, Vanuatu\",780],[6.6,\"Sorong, Indonesia\",671],[6.6,\"Illapel, Chile\",820],[6.7,\"Illapel, Chile\",718],[6.5,\"Illapel, Chile\",657],[7.0,\"Illapel, Chile\",799],[8.3,\"Illapel, Chile\",1960],[6.7,\"Topolobampo, Mexico\",708],[6.5,\"Gizo, Solomon Islands\",650],[6.6,\"Malango, Solomon Islands\",671],[7.0,\"Abepura, Indonesia\",762],[6.9,\"Fox Islands, Aleutian Islands, Alaska\",734],[7.0,\"Lata, Solomon Islands\",759],[6.5,\"Bathsheba, Barbados\",686],[6.7,\"Malango, Solomon Islands\",691],[6.5,\"Bonin Islands, Japan region\",652],[7.8,\"Bonin Islands, Japan region\",1151],[6.8,\"Ugashik, Alaska\",762],[6.8,\"Kirakira, Solomon Islands\",711],[6.9,\"Kirakira, Solomon Islands\",732],[6.8,\"Lata, Solomon Islands\",711],[6.8,\"?funato, Japan\",831],[7.3,\"Nepal\",1563],[7.1,\"Panguna, Papua New Guinea\",776],[7.5,\"Kokopo, Papua New Guinea\",869],[6.8,\"Kokopo, Papua New Guinea\",714],[6.7,\"Kokopo, Papua New Guinea\",692],[6.7,\"Kod?ri??, Nepal\",1016],[6.6,\"Bharatpur, Nepal\",733],[7.8,\"Bharatpur, Nepal\",2820],[6.5,\"Alo, Wallis and Futuna\",650],[6.5,\"Hihifo, Tonga\",650],[7.5,\"Kokopo, Papua New Guinea\",872],[7.0,\"Maumere, Indonesia\",760],[6.7,\"Miyako, Japan\",714],[6.7,\"El Aguilar, Argentina\",700],[6.8,\"Port-Vila, Vanuatu\",711],[6.5,\"Punta de Burica, Panama\",650],[6.6,\"Punta de Burica, Panama\",709],[6.6,\"Panguna, Papua New Guinea\",670],[6.6,\"Sangay, Philippines\",670],[6.8,\"Ternate, Indonesia\",713],[6.5,\"Tobelo, Indonesia\",652],[6.7,\"Gisborne, New Zealand\",698],[7.1,\"Ternate, Indonesia\",779],[6.6,\"Finschhafen, Papua New Guinea\",671],[7.1,\"Fiji region\",776],[7.3,\"Intipuc\\u00c3\\u00a1, El Salvador\",982],[6.7,\"Piti Village, Guam\",724],[6.8,\"Aniso, Peru\",741],[6.9,\"Micronesia region\",732],[6.9,\"Fiji region\",732],[6.5,\"Namie, Japan\",706],[6.9,\"Puerto Madero, Mexico\",1079],[6.5,\"Kokopo, Papua New Guinea\",650],[6.7,\"Mata-Utu, Wallis and Futuna\",691],[6.9,\"South Sandwich Islands region\",732],[7.9,\"Rat Islands, Aleutian Islands, Alaska\",963],[6.7,\"Kermadec Islands, New Zealand\",691],[6.5,\"Kermadec Islands, New Zealand\",650],[6.9,\"Kermadec Islands, New Zealand\",732],[6.9,\"Kamari\\u00c3\\u00b3tissa, Greece\",951],[6.5,\"Punta de Burica, Panama\",694],[6.6,\"Isangel, Vanuatu\",670],[6.5,\"Vernon, Canada\",838],[7.5,\"Panguna, Papua New Guinea\",865],[6.6,\"Panguna, Papua New Guinea\",670],[7.2,\"Coyuquilla Norte, Mexico\",1017],[6.6,\"Kirakira, Solomon Islands\",670],[7.4,\"Kirakira, Solomon Islands\",842],[7.6,\"Kirakira, Solomon Islands\",889],[6.6,\"Bel\\u00c3\\u00a9n, Nicaragua\",677],[6.5,\"Panguna, Papua New Guinea\",650],[7.1,\"Panguna, Papua New Guinea\",776],[7.7,\"Iquique, Chile\",1057],[6.5,\"Iquique, Chile\",670],[6.9,\"Iquique, Chile\",732],[8.2,\"Iquique, Chile\",1332],[6.7,\"Iquique, Chile\",718],[6.8,\"Indianola, California\",1211],[6.5,\"Nago, Japan\",668],[6.5,\"Greenland, Barbados\",681],[6.9,\"Hotan, China\",733],[6.5,\"Port-Olry, Vanuatu\",650],[6.5,\"the Kermadec Islands\",650],[6.5,\"Sola, Vanuatu\",650],[6.5,\"Fiji region\",651],[7.7,\"Scotia Sea\",912],[6.9,\"Scotia Sea\",732],[6.6,\"Coquimbo, Chile\",723],[7.1,\"off the east coast of Honshu, Japan\",872],[6.6,\"Etchoropo, Mexico\",692],[6.8,\"Panguna, Papua New Guinea\",711],[7.1,\"Sagbayan, Philippines\",1092],[6.6,\"K\\u00c3\\u00adssamos, Greece\",691],[6.7,\"Okhotsk\",691],[6.5,\"Kermadec Islands, New Zealand\",650],[6.8,\"Khuzdar, Pakistan\",1005],[7.1,\"Atiquipa, Peru\",843],[7.7,\"Bela, Pakistan\",2015],[6.5,\"Atka, Alaska\",650],[6.5,\"Izu Islands, Japan region\",739],[6.5,\"Lospalos, Timor Leste\",668],[7.0,\"Atka, Alaska\",758],[6.5,\"Blenheim, New Zealand\",690],[6.7,\"Bah\\u00c3\\u00ada Solano, Colombia\",715],[6.5,\"Blenheim, New Zealand\",693],[7.3,\"South Sandwich Islands region\",820],[6.6,\"Kandrian, Papua New Guinea\",674],[7.3,\"Kokopo, Papua New Guinea\",820],[6.6,\"northern Mid-Atlantic Ridge\",670],[6.5,\"Masachapa, Nicaragua\",679],[6.7,\"Java, Indonesia\",710],[6.7,\"Okhotsk\",691],[8.3,\"Okhotsk\",1115],[7.4,\"Vaini, Tonga\",842],[6.8,\"Pagan region, Northern Mariana Islands\",711],[6.5,\"Rabaul, Papua New Guinea\",650],[6.6,\"Linqiong, China\",2083],[7.2,\"Kuril\\u00e2\\u0080\\u0099sk, Russia\",804],[6.6,\"Aitape, Papua New Guinea\",672],[7.7,\"Kh?sh, Iran\",1421],[6.6,\"Panguna, Papua New Guinea\",670],[7.0,\"Abepura, Indonesia\",755],[6.5,\"Finschhafen, Papua New Guinea\",650],[6.5,\"Ozernovskiy, Russia\",651],[6.9,\"Ozernovskiy, Russia\",736],[6.6,\"Belaya Gora, Russia\",670],[6.6,\"Lata, Solomon Islands\",670],[6.9,\"Yacuanquer, Colombia\",904],[7.1,\"Lata, Solomon Islands\",780],[6.8,\"Lata, Solomon Islands\",711],[6.7,\"Lata, Solomon Islands\",691],[7.0,\"Lata, Solomon Islands\",754],[7.1,\"Lata, Solomon Islands\",776],[8.0,\"Lata, Solomon Islands\",993],[6.9,\"Obihiro, Japan\",814],[6.8,\"Vallenar, Chile\",771],[7.5,\"Edna Bay, Alaska\",1425],[6.7,\"Sola, Vanuatu\",691],[7.1,\"Banda Sea\",843],[7.3,\"?funato, Japan\",1014],[6.5,\"Champerico, Guatemala\",708],[6.8,\"Shwebo, Myanmar\",795],[7.4,\"Champerico, Guatemala\",1455],[7.8,\"Prince Rupert, Canada\",1726],[6.5,\"Costa Rica\",745],[6.6,\"Tual, Indonesia\",675],[7.3,\"San Agust\\u00c3\\u00adn, Colombia\",1221],[7.6,\"Hojancha, Costa Rica\",1555],[7.6,\"Sulangan, Philippines\",1115],[7.3,\"Puerto El Triunfo, El Salvador\",994],[6.6,\"Tobelo, Indonesia\",678],[7.7,\"Poronaysk, Russia\",941],[6.5,\"Kokopo, Papua New Guinea\",653],[6.6,\"Neiafu, Tonga\",675],[6.7,\"Manokwari, Indonesia\",691],[6.8,\"Lae, Papua New Guinea\",732],[6.7,\"Hacienda La Calera, Chile\",691],[7.0,\"San Luis, Mexico\",1000],[6.5,\"El Habillal, Mexico\",1171],[8.2,\"off the west coast of northern Sumatra\",1213],[8.6,\"off the west coast of northern Sumatra\",2048],[7.1,\"Constituci\\u00c3\\u00b3n, Chile\",1496],[6.6,\"Kainantu, Papua New Guinea\",709],[7.4,\"Santiago Llano Grande, Mexico\",1752],[6.7,\"Saryg-Sep, Russia\",833],[6.7,\"Jimalalud, Philippines\",1551],[7.1,\"Port-Vila, Vanuatu\",793],[7.2,\"off the west coast of northern Sumatra\",838],[6.6,\"Saryg-Sep, Russia\",670],[7.1,\"Wau, Papua New Guinea\",834],[6.5,\"Nuevo Balsas, Mexico\",1400],[6.9,\"Santiago, Peru\",847],[7.1,\"Van, Turkey\",1096],[6.5,\"Finschhafen, Papua New Guinea\",655],[6.9,\"Mangan, India\",1562],[6.7,\"Miyako, Japan\",712],[6.7,\"Kabanjahe, Indonesia\",915],[7.0,\"Isangel, Vanuatu\",761],[7.0,\"Contamana, Peru\",913],[7.1,\"Port-Vila, Vanuatu\",787],[6.5,\"Port-Vila, Vanuatu\",650],[7.2,\"Port-Vila, Vanuatu\",813],[6.6,\"Angoram, Papua New Guinea\",674],[7.6,\"Kermadec Islands region\",893],[6.7,\"Miyako, Japan\",749],[6.8,\"W\\u00c3\\u00a9, New Caledonia\",734],[6.8,\"Kirakira, Solomon Islands\",719],[6.6,\"Ishikawa, Japan\",822],[7.1,\"Ishinomaki, Japan\",1114],[6.6,\"Helio Garc\\u00c3\\u00ada Alfaro, Mexico\",897],[6.9,\"Tachilek, Myanmar\",1154],[6.6,\"?tsuchi, Japan\",673],[6.5,\"Hasaki, Japan\",650],[7.7,\"Kamaishi, Japan\",931],[7.9,\"?arai, Japan\",1140],[9.1,\"2011 Great Tohoku Earthquake, Japan\",2184],[7.3,\"?funato, Japan\",972],[6.7,\"Constituci\\u00c3\\u00b3n, Chile\",731],[6.9,\"Tom\\u00c3\\u00a9, Chile\",988],[7.2,\"Dalbandin, Pakistan\",1449],[7.0,\"Tadine, New Caledonia\",755],[7.2,\"Carahue, Chile\",1054],[7.3,\"Isangel, Vanuatu\",820],[6.7,\"Bam, Iran\",708],[6.6,\"Kandrian, Papua New Guinea\",670],[7.8,\"Sungai Penuh, Indonesia\",946],[6.7,\"El Huitusi, Mexico\",776],[7.0,\"Papua, Indonesia\",772],[7.0,\"Methven, New Zealand\",1245],[7.1,\"Ecuador\",945],[7.3,\"Port-Vila, Vanuatu\",850],[7.0,\"Kimbe, Papua New Guinea\",757],[6.5,\"Madang, Papua New Guinea\",659],[7.6,\"Bantogon, Philippines\",902],[7.3,\"New Britain region, Papua New Guinea\",831],[6.9,\"Kimbe, Papua New Guinea\",737],[6.6,\"Ca\\u00c3\\u00b1ete, Chile\",753],[6.7,\"Kirakira, Solomon Islands\",696],[6.6,\"Biak, Indonesia\",670],[7.0,\"Biak, Indonesia\",755],[7.5,\"Nicobar Islands, India region\",1144],[7.2,\"Sola, Vanuatu\",804],[7.2,\"Meulaboh, Indonesia\",918],[6.9,\"Qamdo, China\",773],[6.9,\"Kirakira, Solomon Islands\",740],[7.8,\"Sinabang, Indonesia\",936],[7.2,\"Delta, B.C., MX\",2910],[6.6,\"Bamboo Flat, India\",701],[6.7,\"Tom\\u00c3\\u00a9, Chile\",856],[6.5,\"Namie, Japan\",810],[7.0,\"Santa Cruz, Chile\",874],[6.9,\"Santa Cruz, Chile\",1280],[6.8,\"Bengkulu, Indonesia\",717],[6.6,\"Talcahuano, Chile\",736],[6.5,\"Sola, Vanuatu\",650],[7.4,\"Lebu, Chile\",842],[8.8,\"Quirihue, Chile\",1991],[7.0,\"Katsuren-haebaru, Japan\",1180],[7.0,\"L\\u00c3\\u00a9og\\u00c3\\u00a2ne, Haiti\",1623],[6.5,\"Ferndale, California\",1360],[6.8,\"Gizo, Solomon Islands\",713],[7.1,\"Gizo, Solomon Islands\",780],[6.6,\"Gizo, Solomon Islands\",672],[6.5,\"Iquique, Chile\",698],[7.3,\"Ba, Fiji\",820],[6.6,\"Bima, Indonesia\",677],[6.8,\"Naze, Japan\",711],[6.9,\"Tual, Indonesia\",972],[6.8,\"Sola, Vanuatu\",711],[7.4,\"Sola, Vanuatu\",842],[7.8,\"Sola, Vanuatu\",936],[7.7,\"Sola, Vanuatu\",916],[6.6,\"Sungai Penuh, Indonesia\",787],[7.6,\"Pariaman, Indonesia\",1639],[8.1,\"Matavai, Samoa\",1055],[7.0,\"Banjar, Indonesia\",1175],[6.7,\"Padang, Indonesia\",753],[6.6,\"Tateyama, Japan\",703],[7.5,\"Bamboo Flat, India\",1248],[7.1,\"?yama, Japan\",1005],[6.9,\"Bah\\u00c3\\u00ada de Kino, Mexico\",1202],[7.8,\"Te Anau, New Zealand\",1165],[6.7,\"Kokopo, Papua New Guinea\",693],[7.3,\"Guanaja, Honduras\",1560],[7.6,\"\\u00e2\\u0080\\u0098Ohonua, Tonga\",916],[7.2,\"Sarangani, Philippines\",802],[7.4,\"Manokwari, Indonesia\",846],[6.6,\"Jurm, Afghanistan\",765],[7.7,\"Manokwari, Indonesia\",918],[7.4,\"Gorontalo, Indonesia\",848],[6.7,\"Brisas Barra de Suchiate, Mexico\",731],[6.7,\"Nookat, Kyrgyzstan\",691],[6.8,\"Obihiro, Japan\",711],[6.6,\"Tobelo, Indonesia\",670],[6.9,\"Sola, Vanuatu\",732],[6.7,\"Jumla, Nepal\",692],[6.8,\"Morioka, Japan\",1046],[7.0,\"Namie, Japan\",840],[6.9,\"Namie, Japan\",825],[6.6,\"Bamboo Flat, India\",680],[6.9,\"Mizusawa, Japan\",888],[7.9,\"Tianpeng, China\",1870],[6.9,\"Hasaki, Japan\",910],[7.3,\"Isangel, Vanuatu\",820],[7.2,\"Hotan, China\",798],[6.9,\"Philippine Islands region\",740],[6.7,\"Padang, Indonesia\",696],[6.6,\"Padang, Indonesia\",674],[7.2,\"Sungai Penuh, Indonesia\",832],[6.5,\"Sungai Penuh, Indonesia\",654],[7.4,\"Sinabang, Indonesia\",914],[6.5,\"Kor\\u00c3\\u00b3ni, Greece\",692],[6.9,\"Meth\\u00c3\\u00b3ni, Greece\",941],[6.5,\"General Pascual Fentes, Mexico\",723],[6.6,\"Gisborne, New Zealand\",808],[6.7,\"Ant\",704],[7.4,\"Basse-Pointe, Martinique\",1542],[6.6,\"Kirakira, Solomon Islands\",672],[6.5,\"Dompu, Indonesia\",653],[6.5,\"Dompu, Indonesia\",657],[6.8,\"Lae, Papua New Guinea\",722],[6.8,\"Macas, Ecuador\",790],[6.8,\"Ant\",716],[7.7,\"Tocopilla, Chile\",995],[6.8,\"Bengkulu, Indonesia\",713],[6.8,\"Te Anau, New Zealand\",744],[6.8,\"Kokopo, Papua New Guinea\",713],[6.7,\"Padang, Indonesia\",696],[7.0,\"Padang, Indonesia\",768],[6.5,\"Kepulauan Mentawai region, Indonesia\",650],[7.9,\"Sungai Penuh, Indonesia\",1133],[7.8,\"Sungai Penuh, Indonesia\",1152],[8.4,\"Bengkulu, Indonesia\",1086],[6.8,\"Timbiqu\\u00c3\\u00ad, Colombia\",747],[7.2,\"Lata, Solomon Islands\",798],[6.5,\"Malango, Solomon Islands\",675],[8.0,\"San Vicente de Ca\\u00c3\\u00b1ete, Peru\",1385],[7.5,\"Rengasdengklok, Indonesia\",865],[7.2,\"Luganville, Vanuatu\",803],[6.9,\"Tobelo, Indonesia\",734],[6.8,\"Mikuni, Japan\",779],[6.6,\"Kashiwazaki, Japan\",831],[6.7,\"Iztapa, Guatemala\",972],[6.9,\"Panguna, Papua New Guinea\",732],[6.6,\"Panguna, Papua New Guinea\",670],[8.1,\"Gizo, Solomon Islands\",1025],[6.7,\"Nanao, Japan\",782],[7.1,\"Isangel, Vanuatu\",779],[6.7,\"S\",691],[7.5,\"Ternate, Indonesia\",874],[8.1,\"the Kuril Islands\",1034],[6.9,\"Hengchun, Taiwan\",798],[7.1,\"Hengchun, Taiwan\",1023],[8.3,\"Kuril Islands\",1064],[6.6,\"Kimbe, Papua New Guinea\",670],[6.7,\"San Vicente de Ca\\u00c3\\u00b1ete, Peru\",732],[6.7,\"Kimbe, Papua New Guinea\",692],[6.7,\"Puako, Hawaii\",1481],[6.9,\"Hihifo, Tonga\",737],[6.8,\"Panguna, Papua New Guinea\",711],[6.5,\"Ozernovskiy, Russia\",650],[6.8,\"Norsup, Vanuatu\",713],[7.7,\"Singaparna, Indonesia\",947],[6.5,\"Kimbe, Papua New Guinea\",650],[6.6,\"Tilichiki, Russia\",670],[6.8,\"Singkil, Indonesia\",719],[8.0,\"Pangai, Tonga\",1013],[8.0,\"Pangai, Tonga\",1026],[6.5,\"Copiap\\u00c3\\u00b3, Chile\",653],[6.7,\"Copiap\\u00c3\\u00b3, Chile\",696],[6.6,\"Tilichiki, Russia\",670],[7.6,\"Tilichiki, Russia\",889],[6.5,\"Lautoka, Fiji\",654],[6.7,\"Ambon, Indonesia\",691],[7.0,\"Chipinge, Zimbabwe\",891],[6.7,\"K\\u00c3\\u00bdthira, Greece\",934],[6.6,\"Bah\\u00c3\\u00ada de Kino, Mexico\",703],[6.5,\"Ashk?sham, Afghanistan\",721],[6.8,\"Kalemie, Democratic Republic\",744],[6.5,\"Ishinomaki, Japan\",683],[6.5,\"Sinabang, Indonesia\",651],[6.8,\"San Pedro de Atacama, Chile\",711],[7.6,\"Muzaffar?b?d, Pakistan\",1267],[6.6,\"Kokopo, Papua New Guinea\",670],[7.5,\"Yurimaguas, Peru\",1018],[7.6,\"Kokopo, Papua New Guinea\",891],[7.2,\"Ishinomaki, Japan\",1104],[7.2,\"Nicobar Islands, India region\",808],[6.7,\"Singkil, Indonesia\",693],[6.6,\"San Juan del Sur, Nicaragua\",719],[7.2,\"Big Lagoon, California\",1318],[7.8,\"Iquique, Chile\",1020],[6.9,\"Singkil, Indonesia\",740],[6.7,\"Padangsidempuan, Indonesia\",731],[6.5,\"Padang, Indonesia\",657],[6.7,\"Padang, Indonesia\",717],[8.6,\"Singkil, Indonesia\",1138],[6.6,\"Maebaru-ch??, Japan\",805],[7.1,\"Banda Sea\",776],[6.8,\"Sinabang, Indonesia\",711],[6.5,\"Katabu, Indonesia\",650],[6.5,\"Pulau-Pulau Talaud, Indonesia\",652],[6.7,\"Sola, Vanuatu\",691],[7.1,\"Palimbang, Philippines\",782],[6.6,\"Katsuura, Japan\",676],[6.6,\"Nicobar Islands, India region\",670],[7.2,\"Sabang, Indonesia\",802],[9.1,\"2004 Sumatra - Andaman Islands Earthquake\",1274],[8.1,\"Macquarie Island\",1009],[6.8,\"George Town, Cayman Islands\",858],[6.8,\"Nemuro, Japan\",724],[7.0,\"Nemuro, Japan\",771],[7.1,\"Nabire, Indonesia\",776],[7.1,\"Riverton, New Zealand\",782],[7.2,\"Pizarro, Colombia\",820],[7.5,\"Maubara, Timor Leste\",870],[6.7,\"Kirakira, Solomon Islands\",691],[6.7,\"Port McNeill, Canada\",703],[6.6,\"Ojiya, Japan\",670],[6.7,\"Yonakuni, Japan\",705],[7.0,\"Masachapa, Nicaragua\",754],[6.5,\"Talisay, Philippines\",665],[6.8,\"Kirakira, Solomon Islands\",711],[6.6,\"Shing?, Japan\",670],[7.4,\"Shing?, Japan\",842],[7.2,\"Shing?, Japan\",798],[6.5,\"Teno, Chile\",650],[6.5,\"Manokwari, Indonesia\",650],[6.9,\"Atlasovo, Russia\",732],[6.6,\"Ca\\u00c3\\u00b1ete, Chile\",670],[6.7,\"Naisano Dua, Indonesia\",691],[6.5,\"Sola, Vanuatu\",650],[6.6,\"Afghanistan-Tajikistan-Pakistan region\",670],[6.7,\"Nabire, Indonesia\",691],[7.3,\"Papua, Indonesia\",820],[7.0,\"Nabire, Indonesia\",754],[6.7,\"Ambon, Indonesia\",691],[7.3,\"Tadine, New Caledonia\",820],[6.6,\"Bam, Iran\",670],[6.5,\"Progreso, Panama\",650],[6.5,\"San Simeon, California\",1390],[6.8,\"Yujing, Taiwan\",711],[6.6,\"Kimbe, Papua New Guinea\",670],[6.5,\"Can-Avid, Philippines\",650],[6.6,\"Isangel, Vanuatu\",670],[7.0,\"Ishinomaki, Japan\",754],[6.7,\"Kushiro, Japan\",691],[6.7,\"Aktash, Russia\",691],[6.5,\"Kushiro, Japan\",650],[7.3,\"Aktash, Russia\",820],[7.4,\"Shizunai-furukawach?, Japan\",842],[8.16,\"Kushiro, Japan\",1024],[6.6,\"Taungdwingyi, Myanmar\",670],[7.2,\"Te Anau, New Zealand\",798],[7.6,\"Scotia Sea\",889],[6.5,\"Rabaul, Papua New Guinea\",650],[6.8,\"Ovalle, Chile\",711],[6.9,\"Atlasovo, Russia\",732],[6.6,\"Kokopo, Papua New Guinea\",670],[7.0,\"Tobelo, Indonesia\",754],[7.0,\"?funato, Japan\",754],[6.8,\"Dellys, Algeria\",711],[6.5,\"Ruteng, Indonesia\",650],[6.8,\"Kokopo, Papua New Guinea\",711],[7.6,\"Cuyutl\\u00c3\\u00a1n, Mexico\",889],[6.5,\"Puerto San Jos\\u00c3\\u00a9, Guatemala\",650],[7.3,\"Kirakira, Solomon Islands\",820],[6.7,\"Kokopo, Papua New Guinea\",691],[6.7,\"New Ireland region, Papua New Guinea\",691],[7.9,\"Cantwell, Alaska\",1750],[7.4,\"Sinabang, Indonesia\",842],[6.6,\"Cantwell, Alaska\",670],[6.7,\"Manokwari, Indonesia\",691],[7.6,\"Manokwari, Indonesia\",889],[6.5,\"Bamboo Flat, India\",650],[7.6,\"Aitape, Papua New Guinea\",889],[6.5,\"San Jose Village, Northern Mariana Islands\",650],[6.5,\"Punta de Burica, Panama\",650],[6.5,\"Abhar, Iran\",650],[6.6,\"Monte Patria, Chile\",670],[6.7,\"Sola, Vanuatu\",691],[7.1,\"Merizo Village, Guam\",776],[6.7,\"Copiap\\u00c3\\u00b3, Chile\",691],[6.8,\"Nuxco, Mexico\",711],[7.1,\"Hualien City, Taiwan\",776],[6.5,\"Calama, Chile\",650],[7.5,\"Mindanao, Philippines\",865],[7.4,\"Jurm, Afghanistan\",842],[6.6,\"Kimbe, Papua New Guinea\",670],[6.5,\"Sultanda??, Turkey\",650],[6.7,\"Aitape, Papua New Guinea\",691],[6.6,\"Port-Vila, Vanuatu\",670],[7.2,\"Port-Vila, Vanuatu\",798],[6.8,\"Malango, Solomon Islands\",711],[6.8,\"Yonakuni, Japan\",711],[6.5,\"Hanamaki, Japan\",650],[7.8,\"Southern Qinghai, China\",936],[7.0,\"Kimbe, Papua New Guinea\",754],[7.5,\"Kendari, Indonesia\",865],[7.0,\"Inarajan Village, Guam\",754],[6.5,\"Manokwari, Indonesia\",650],[6.6,\"Kokhanok, Alaska\",754],[6.5,\"Sk\\u00c3\\u00bdros, Greece\",650],[7.6,\"Punta de Bomb\\u00c3\\u00b3n, Peru\",889],[6.6,\"Achanizo, Peru\",670],[6.7,\"Pacocha, Peru\",691],[8.4,\"Atico, Peru\",1086],[6.7,\"Panguna, Papua New Guinea\",691],[6.8,\"Kure, Japan\",711],[6.5,\"Ambon, Indonesia\",650],[6.8,\"Longbranch, Washington\",1441],[7.1,\"Ternate, Indonesia\",776],[7.4,\"Bengkulu, Indonesia\",842],[6.6,\"Cojutepeque, El Salvador\",670],[7.7,\"Bhach?u, India\",912],[6.9,\"Bengkulu, Indonesia\",732],[7.7,\"Puerto El Triunfo, El Salvador\",912],[6.9,\"Old Harbor, Alaska\",745],[7.1,\"Port-Olry, Vanuatu\",776],[6.8,\"Mindanao, Philippines\",711],[7.5,\"Lukatan, Philippines\",865]],\"hovertemplate\":\"latitude=%{lat}\\u003cbr\\u003elongitude=%{lon}\\u003cbr\\u003emagnitude=%{marker.color}\\u003cbr\\u003elocation=%{customdata[1]}\\u003cbr\\u003esig=%{customdata[2]}\\u003cextra\\u003e\\u003c\\u002fextra\\u003e\",\"lat\":[-9.7963,-4.9559,-20.0508,-19.2918,-25.5948,-26.0442,-25.9678,7.6712,18.33,18.3667,23.1444,23.029,-21.2077,-6.2237,29.7263,-32.6922,17.5978,-9.0618,-14.8628,-54.1325,-23.6141,11.5538,-22.5732,-22.72,23.3421,37.7015,-0.6831,-30.0528,-23.7852,-4.455,-29.535,-6.9291,52.502,52.502,52.6252,52.48,52.48,52.6563,35.1456,37.8167,-7.5924,-7.6033,-4.4898,23.5414,56.2581,-21.1704,-21.1036,12.1598,16.9502,-60.3026,-60.1023,-14.892,-58.3814,18.3521,55.2364,55.2657,-58.4157,-57.5959,6.4547,55.4742,55.3154,13.6989,7.5904,-30.2144,-16.4796,34.5861,0.1684,-17.2495,38.2296,-21.6857,-18.9204,38.4752,54.7018,-28.4792,-29.7466,-29.6131,-37.596,37.6856,-23.2787,-61.8484,5.0074,51.2407,-39.3264,37.8973,54.662,0.9604,-27.9285,-28.013,0.8696,-6.6704,-4.2791,-4.3724,12.0065,55.1079,-7.847,-5.6368,15.9163,-33.2938,28.9386,-23.2966,38.1689,-12.0662,-6.7762,34.1818,44.4646,48.9638,45.6161,19.4193,38.4312,6.6969,1.6213,-21.9449,-18.5747,6.9098,6.7567,-35.4758,-3.4528,-20.3641,-60.2152,-7.2822,-34.2364,-16.1985,-0.5858,-18.2242,0.5126,35.7695,-6.4078,-30.6441,13.1994,-5.8119,-4.051,-6.9746,-1.8146,-58.6262,-14.7131,-2.1862,14.6802,-43.1219,-30.0404,-13.336,2.258,-8.144,5.8983,55.0999,-58.5446,-22.0629,-21.9496,61.3464,-17.8735,71.6312,37.5203,49.297,49.3346,49.2586,-21.7427,52.8549,49.2902,-5.7012,-18.3604,-0.2559,-25.415,-31.7447,-10.0207,-18.4743,42.6861,-22.0295,-11.0355,-16.0315,10.7731,-8.319,-18.1125,-7.3718,51.4234,-8.2581,19.3182,-20.6588,-5.5321,-5.5024,-4.3762,-6.3043,-6.0699,16.3855,56.0039,-15.7675,17.4825,-7.4921,-54.2189,-21.3246,-21.5027,9.5147,34.9109,-4.2433,-15.3197,-21.6484,-21.6971,-7.2168,52.3909,18.5499,15.0222,33.1926,36.9293,54.4434,-49.4837,11.1269,13.7174,14.9091,54.0312,-1.2923,-56.414,-14.5884,5.5043,-33.0375,-22.6784,56.9401,-23.2593,-19.2814,9.9071,-6.2464,-10.3506,4.4782,-19.3733,-43.4064,-7.5082,-4.5049,-10.749,-10.8416,-10.6812,40.4535,5.2834,39.2732,11.9097,37.3931,-42.6058,-42.3205,-42.7373,42.8621,-4.8626,-6.0033,-19.7819,-37.3586,-3.6849,20.9228,-22.4765,18.5429,-2.0967,-56.2409,-21.9724,0.4947,0.4261,-16.0429,0.3819,32.7906,23.0944,36.4725,-13.9805,-14.0683,-14.3235,-4.9521,53.9776,59.6204,18.8239,41.9723,3.8965,24.8036,15.8015,-4.1064,38.2107,-9.1825,-10.0598,-10.5372,-8.8994,38.67,31.0009,-29.5097,-29.5067,6.8431,-30.8796,-8.3381,36.5244,-14.8595,-0.6212,-31.7275,-31.5173,-31.4244,-31.5622,-31.5729,24.913,-9.3293,-9.3438,-2.6286,52.376,-10.4012,13.8672,-9.307,27.7375,27.8386,56.594,-11.1093,-11.0559,-10.8759,38.9056,27.8087,-7.2175,-5.4624,-5.2005,-5.375,27.7711,28.2244,28.2305,-15.8815,-15.4994,-4.7294,-7.2968,39.8558,-23.1125,-17.0309,5.9045,7.9401,-6.5108,6.1572,1.9604,2.2999,-37.6478,1.8929,-5.9873,-19.6903,12.5262,13.7641,-14.598,0.8295,-19.8015,37.0052,14.724,-6.2304,-14.9831,-55.4703,51.8486,-29.9414,-29.9379,-29.9772,40.2893,7.2096,-21.4542,49.6388,-6.7547,-6.6558,17.397,-11.1284,-11.4633,-11.2701,11.642,-6.7878,-6.5858,-20.5709,-20.3113,-19.8927,-19.6097,-19.9807,40.8287,27.4312,14.6682,35.9053,-15.0691,-32.9076,-13.8633,-17.1171,-60.2738,-60.2627,-30.2921,37.1557,26.0913,-6.4456,9.8796,35.5142,53.1995,-30.9255,27.1825,-15.8385,26.951,51.5573,29.9377,-7.44,51.537,-41.734,5.7732,-41.704,-60.857,-6.029,-3.917,10.701,11.763,-10.004,52.235,54.892,-23.009,18.728,-3.898,30.308,46.221,-3.214,28.033,-6.475,-3.517,-6.598,50.958,50.954,67.631,-10.994,1.135,-10.928,-10.838,-10.997,-10.499,-11.183,-10.799,42.77,-28.094,55.228,-14.344,-6.533,37.89,14.129,23.005,13.988,52.788,10.086,-4.892,1.929,10.085,10.811,12.139,2.19,49.8,-4.651,-18.685,-1.617,-5.462,-32.625,28.696,18.229,0.802,2.327,-35.2,-6.242,16.493,51.708,9.999,-17.827,2.433,51.842,-7.551,17.986,-14.438,38.721,-6.57,27.73,40.273,2.965,-20.671,-7.641,-18.311,-18.308,-18.365,-3.518,-29.539,39.955,-20.244,-10.375,37.001,38.276,17.208,20.687,39.241,36.166,38.058,36.281,38.297,38.435,-35.38,-36.422,28.777,-20.628,-38.355,-19.702,28.412,-6.001,-3.487,24.696,-4.963,-43.522,-1.266,-17.541,-5.746,-5.486,6.497,-5.931,-5.966,-38.067,-10.627,-2.329,-2.174,7.881,-13.698,3.748,33.165,-10.878,2.383,32.2862,13.667,-36.217,37.745,-34.326,-34.29,-3.762,-36.665,-13.571,-37.773,-36.122,25.93,18.443,40.652,-9.019,-8.783,-8.726,-19.394,-17.239,-8.207,29.218,-6.133,-13.298,-13.093,-12.517,-13.006,-2.482,-0.72,-15.489,-7.782,-1.479,32.821,14.099,33.167,29.039,-45.762,-5.157,16.731,-23.043,3.886,-0.691,36.419,-0.414,1.271,14.423,39.533,41.892,1.885,-13.501,30.901,39.802,37.552,37.55,11.005,39.03,31.002,36.164,-20.071,35.49,13.351,-2.245,-2.332,-2.486,-2.405,2.768,36.345,36.501,16.357,-39.011,-22.954,14.944,-10.95,-8.224,-8.292,-5.757,-2.312,-22.925,-22.247,-3.899,-44.796,-4.99,-1.999,-2.13,-1.689,-2.625,-2.52,-4.438,2.966,-11.61,-9.834,-13.386,-5.859,-15.595,2.872,36.808,37.535,13.554,-7.306,-7.169,-8.466,37.336,-20.617,-1.034,1.065,46.243,21.974,21.799,46.592,-6.482,-13.457,-5.881,19.877,-16.592,-6.759,51.148,-15.798,-9.284,-5.724,60.772,0.093,-20.187,-19.99,-27.211,-27.017,60.491,60.949,-16.527,-3.595,-21.324,36.311,28.164,36.357,-6.224,38.089,2.164,-22.361,34.539,-5.437,-5.678,-4.539,38.276,7.92,1.819,11.245,41.292,-19.987,1.989,0.587,-1.714,-1.644,2.085,33.807,-6.527,2.908,-5.562,4.756,-14.252,5.293,34.064,8.879,6.91,3.295,-49.312,18.958,42.9,43.006,-3.609,-46.676,4.695,-8.152,-11.128,49.277,37.226,24.53,11.422,13.925,-10.951,33.205,33.184,33.07,-35.173,-0.443,55.682,-37.695,-9.362,-13.174,36.512,-3.665,-4.003,-3.615,-3.12,-22.015,28.995,8.416,35.7005,23.039,-5.581,12.025,-19.262,37.812,42.648,50.211,42.45,50.038,41.774,41.815,19.917,-45.104,-60.532,-3.828,-30.608,55.492,-5.095,2.354,38.849,36.964,-8.294,-4.694,18.77,13.626,-10.491,-5.311,-4.786,63.5141,2.824,63.5144,-1.511,-1.757,13.036,-3.302,14.101,7.929,35.626,-30.805,-12.592,13.088,-27.535,16.985,24.279,-21.663,6.033,36.502,-5.345,38.573,-3.212,-17.664,-17.6,-9.613,23.954,39.402,35.946,-5.912,-4.102,12.686,-0.578,58.775,39.059,-17.543,-16.086,-17.745,-16.265,-7.41,34.083,-4.029,47.149,1.271,-4.68,13.671,23.419,-4.022,13.049,56.7744,-14.928,6.631,6.898],\"legendgroup\":\"\",\"lon\":[159.596,100.738,-178.346,-172.129,178.278,178.381,178.363,-82.3396,-102.913,-103.252,121.307,121.348,170.239,146.471,102.279,-178.959,120.809,-71.1647,-70.3081,159.027,-66.7236,-86.9919,170.349,170.277,121.636,141.587,98.6034,-177.74,-179.968,-76.9395,-176.729,105.251,-168.08,-168.08,-168.15,-167.736,-167.736,-167.917,31.9095,101.299,127.581,122.2,-76.8461,126.48,-156.492,174.54,174.895,-87.8542,-99.7877,-24.9992,-24.4608,167.085,-23.3318,-73.4804,-157.707,-157.68,-25.3206,-25.1874,126.742,-157.917,-157.829,120.713,-82.8813,-177.773,-177.356,98.2551,96.6475,66.3745,141.665,-177.064,-176.235,141.607,163.208,-176.619,-177.224,-177.842,179.544,141.992,171.489,-55.559,127.517,100.443,-74.9067,26.7953,-159.675,-26.8332,-71.3937,-71.1958,-29.7046,123.493,101.215,101.095,124.13,-158.477,147.755,110.678,-95.9533,-177.838,128.262,-68.4204,-117.85,166.648,129.785,25.7101,-115.118,157.695,148.959,-78.756,39.0609,125.174,126.416,-179.511,-175.272,125.178,125.008,-73.163,128.37,-178.57,-26.5801,104.791,-72.3102,167.998,128.034,120.358,126.189,-117.599,129.169,-178.1,-89.3056,-75.2697,152.597,146.449,122.58,-25.304,-70.1546,-77.0505,-92.4527,42.3568,-71.3815,166.875,126.758,-71.587,126.921,164.699,-26.3856,169.733,169.427,-149.955,-178.927,-11.2431,20.5565,-129.724,-129.289,-129.412,169.522,153.243,156.297,151.205,-178.063,119.846,178.199,-179.373,161.503,179.35,141.929,170.126,-70.8284,168.143,-62.9019,116.627,-178.153,119.802,-178.026,116.438,-155.0,-63.0058,151.5,151.402,153.2,142.612,142.754,-97.9787,-149.166,-74.7092,-83.52,108.174,2.1628,168.671,168.598,-84.4865,45.9592,143.485,-173.168,168.859,169.148,123.074,176.769,-98.4887,-93.8993,103.855,27.4139,168.857,164.016,124.629,-90.9718,-92.0092,170.92,120.431,-25.7432,167.377,125.066,-72.0617,25.1558,162.786,-178.804,-63.9047,125.452,155.172,161.335,122.617,176.052,-73.9413,127.921,153.522,161.132,161.314,161.327,-126.194,96.1678,73.9776,-88.8968,141.387,173.254,173.669,173.054,13.0961,108.163,148.887,-178.244,179.146,152.792,94.569,173.117,145.507,100.665,-26.9353,-178.204,-79.616,-79.7899,167.379,-79.9218,130.754,94.8654,71.1311,166.594,166.624,166.855,94.3299,158.546,-153.339,-106.934,142.781,126.862,93.6505,-93.633,129.508,72.7797,-71.2574,-71.0184,-70.9437,158.422,20.6,128.873,-72.0585,-72.0068,94.648,-71.4519,124.875,70.3676,167.303,131.262,-71.3792,-71.804,-71.6876,-71.4262,-71.6744,-109.623,157.877,158.053,138.528,-169.446,165.141,-58.5479,158.403,139.725,140.493,-156.43,163.215,163.696,164.169,142.032,86.0655,154.557,151.875,151.777,151.771,86.0173,84.8216,84.7314,-178.6,-173.029,152.562,122.535,142.881,-66.688,168.52,-82.6576,-82.6865,154.46,123.126,126.575,127.056,179.662,126.522,148.232,-177.759,-88.1225,144.429,-73.5714,146.169,-178.4,142.452,-92.4614,152.807,-175.51,-28.3669,178.735,-177.607,-177.516,-177.725,25.3889,-82.3045,170.355,-127.732,155.024,155.087,-100.972,162.052,162.051,162.148,-85.8779,154.95,155.048,-70.4931,-70.5756,-70.9455,-70.7691,-70.7022,-125.134,127.367,-58.9272,82.5864,167.372,-177.881,167.249,-176.545,-46.4011,-47.0621,-71.5215,144.661,-110.321,154.931,124.117,23.2523,152.786,-178.323,65.5052,-74.5112,65.5009,-174.767,138.833,128.221,-175.23,174.152,-78.1999,174.337,-25.07,149.706,153.927,-42.594,-86.926,107.236,151.444,153.221,-177.232,145.288,152.127,102.888,150.788,142.542,61.996,154.607,138.476,148.174,157.408,157.283,142.508,165.741,-77.393,166.018,165.969,165.655,165.588,164.882,165.114,143.092,-70.653,-134.859,167.286,129.825,143.949,-92.164,95.885,-91.895,-132.101,-85.298,134.03,-76.362,-85.315,126.638,-88.59,126.837,145.064,153.173,-174.705,134.276,147.117,-71.365,-113.104,-102.689,92.463,93.063,-72.217,145.955,-98.231,95.991,123.206,167.133,93.21,95.911,146.809,-99.789,-75.966,43.508,147.881,88.155,142.779,97.893,169.716,-74.525,168.218,168.156,168.143,144.828,-176.34,142.205,168.226,161.2,140.401,141.588,-94.338,99.822,142.463,141.562,144.59,141.111,142.373,142.842,-72.834,-72.96,63.951,168.471,-73.326,167.947,59.18,149.977,100.082,-109.156,133.76,171.83,-77.306,168.069,150.765,146.822,123.48,150.59,150.428,-73.31,161.447,136.484,136.543,91.936,166.643,96.018,96.548,161.116,97.048,-115.295,92.831,-73.257,141.59,-71.799,-71.891,100.991,-73.374,167.227,-75.048,-72.898,128.425,-72.571,-124.692,157.551,157.354,157.487,-70.321,178.331,118.631,129.782,130.385,165.91,166.497,166.382,166.51,101.524,99.867,-172.095,107.297,99.49,140.395,92.902,137.944,-112.903,166.562,153.782,-86.217,-174.66,126.387,133.305,70.743,132.885,122.091,-92.364,73.824,143.754,127.363,166.967,83.52,141.464,142.214,142.714,91.824,140.881,103.322,141.526,168.892,81.467,125.63,99.808,99.891,99.972,99.931,95.964,21.863,21.67,-94.304,178.291,-70.182,-61.274,162.149,118.467,118.37,147.098,-77.838,-70.237,-69.89,101.02,167.553,153.5,100.141,99.627,99.668,100.841,100.139,101.367,-77.963,165.762,159.465,-76.603,107.419,167.68,127.464,134.85,138.446,-90.618,155.741,155.777,157.043,136.588,169.357,126.976,126.282,154.524,120.493,120.547,153.266,151.195,-76.677,150.982,-155.935,-172.033,155.512,157.522,167.789,107.419,151.133,165.743,97.05,-174.123,-173.907,-71.056,-71.022,167.516,167.089,176.989,127.214,33.583,23.212,-112.117,71.093,29.83,142.122,96.786,-67.895,73.588,151.84,-76.398,153.474,142.039,92.19,97.082,-86.172,-125.953,-69.197,97.041,98.459,99.779,99.607,97.108,130.131,129.933,95.592,122.129,126.421,167.259,123.337,141.491,92.375,92.958,95.982,161.345,-81.409,145.228,145.119,135.404,164.721,-77.508,124.868,162.208,-128.772,138.779,122.694,-86.665,120.534,162.161,137.227,137.071,136.618,-70.525,133.091,160.003,-73.406,122.839,167.198,71.029,135.339,135.023,135.538,127.4,169.766,58.311,-82.824,-121.101,121.362,150.88,125.416,168.892,142.619,144.57,87.721,144.38,87.813,143.593,143.91,95.672,167.144,-43.411,152.174,-71.637,159.999,152.502,128.855,141.568,3.634,120.743,153.238,-104.104,-90.774,160.77,153.701,153.275,-147.453,96.085,-147.912,133.973,134.297,93.068,142.945,146.199,-82.793,49.047,-71.124,166.383,144.619,-70.586,-100.865,122.179,-68.329,124.249,70.482,151.248,31.271,142.427,168.004,167.856,159.53,122.734,141.089,90.541,150.196,123.907,144.98,133.13,-154.701,24.244,-72.077,-73.987,-71.649,-73.641,155.865,132.526,128.02,-122.727,126.249,102.562,-88.938,70.232,101.776,-88.66,-153.281,167.17,126.899,126.579],\"marker\":{\"color\":[7.0,6.9,7.0,7.3,6.6,7.0,6.8,6.7,6.8,7.6,6.9,6.5,7.0,7.6,6.6,6.6,7.0,6.5,7.2,6.9,6.8,6.6,7.0,6.9,6.7,7.3,6.7,6.6,6.8,6.5,6.5,6.6,6.5,6.5,6.6,6.7,6.7,6.8,6.6,6.6,7.3,7.3,7.5,6.6,6.9,6.9,7.3,6.5,7.0,7.1,6.6,6.9,6.9,7.2,6.9,6.9,8.1,7.5,7.1,8.2,8.2,6.7,6.7,6.5,6.5,7.3,6.7,6.7,6.9,6.5,6.5,7.0,6.6,6.5,8.1,7.4,7.3,7.1,7.7,6.9,7.0,6.7,6.7,7.0,7.6,6.9,6.5,6.8,6.5,6.9,6.9,6.8,6.6,7.8,7.0,6.6,7.4,7.4,6.6,6.8,6.5,6.6,6.8,6.5,6.5,7.5,7.0,7.7,6.7,6.8,7.1,6.5,6.6,6.5,6.6,6.7,6.5,6.6,6.6,6.9,6.8,6.6,7.2,6.6,6.9,7.1,7.3,7.3,6.6,8.0,7.6,7.1,6.8,6.5,7.0,7.5,6.7,6.7,6.7,6.6,6.6,6.8,7.0,7.3,7.1,6.6,7.5,7.1,6.8,6.7,6.8,6.5,6.8,6.5,6.5,6.7,6.5,7.0,6.7,7.5,6.5,6.9,6.5,7.9,6.6,7.1,7.1,6.5,7.3,6.9,8.2,6.5,6.5,6.9,6.9,6.8,6.9,6.7,6.8,6.7,7.5,7.2,7.9,7.1,7.5,6.5,6.5,7.0,6.6,6.5,7.3,6.5,6.8,6.6,6.7,6.7,6.5,7.1,8.2,6.5,6.6,7.7,6.6,6.5,6.8,6.9,6.8,6.6,6.5,6.8,6.9,6.9,6.5,6.6,6.9,6.5,6.5,7.9,6.5,7.3,6.9,7.6,6.7,7.9,6.9,6.5,7.8,6.6,6.5,6.6,6.9,6.9,6.5,6.5,7.8,6.6,6.6,6.8,6.9,7.0,6.8,6.8,7.2,7.7,6.6,7.2,6.9,6.9,6.7,7.0,7.8,7.0,6.9,6.6,6.7,6.7,6.9,7.8,7.2,7.1,6.6,6.7,6.5,6.7,6.6,6.9,7.2,6.7,7.6,7.6,6.8,6.5,6.7,6.9,6.9,6.6,6.8,6.5,7.5,7.1,6.6,6.6,6.7,6.5,7.0,8.3,6.7,6.5,6.6,7.0,6.9,7.0,6.5,6.7,6.5,7.8,6.8,6.8,6.9,6.8,6.8,7.3,7.1,7.5,6.8,6.7,6.7,6.6,7.8,6.5,6.5,7.5,7.0,6.7,6.7,6.8,6.5,6.6,6.6,6.6,6.8,6.5,6.7,7.1,6.6,7.1,7.3,6.7,6.8,6.9,6.9,6.5,6.9,6.5,6.7,6.9,7.9,6.7,6.5,6.9,6.9,6.5,6.6,6.5,7.5,6.6,7.2,6.6,7.4,7.6,6.6,6.5,7.1,7.7,6.5,6.9,8.2,6.7,6.8,6.5,6.5,6.9,6.5,6.5,6.5,6.5,7.7,6.9,6.6,7.1,6.6,6.8,7.1,6.6,6.7,6.5,6.8,7.1,7.7,6.5,6.5,6.5,7.0,6.5,6.7,6.5,7.3,6.6,7.3,6.6,6.5,6.7,6.7,8.3,7.4,6.8,6.5,6.6,7.2,6.6,7.7,6.6,7.0,6.5,6.5,6.9,6.6,6.6,6.9,7.1,6.8,6.7,7.0,7.1,8.0,6.9,6.8,7.5,6.7,7.1,7.3,6.5,6.8,7.4,7.8,6.5,6.6,7.3,7.6,7.6,7.3,6.6,7.7,6.5,6.6,6.7,6.8,6.7,7.0,6.5,8.2,8.6,7.1,6.6,7.4,6.7,6.7,7.1,7.2,6.6,7.1,6.5,6.9,7.1,6.5,6.9,6.7,6.7,7.0,7.0,7.1,6.5,7.2,6.6,7.6,6.7,6.8,6.8,6.6,7.1,6.6,6.9,6.6,6.5,7.7,7.9,9.1,7.3,6.7,6.9,7.2,7.0,7.2,7.3,6.7,6.6,7.8,6.7,7.0,7.0,7.1,7.3,7.0,6.5,7.6,7.3,6.9,6.6,6.7,6.6,7.0,7.5,7.2,7.2,6.9,6.9,7.8,7.2,6.6,6.7,6.5,7.0,6.9,6.8,6.6,6.5,7.4,8.8,7.0,7.0,6.5,6.8,7.1,6.6,6.5,7.3,6.6,6.8,6.9,6.8,7.4,7.8,7.7,6.6,7.6,8.1,7.0,6.7,6.6,7.5,7.1,6.9,7.8,6.7,7.3,7.6,7.2,7.4,6.6,7.7,7.4,6.7,6.7,6.8,6.6,6.9,6.7,6.8,7.0,6.9,6.6,6.9,7.9,6.9,7.3,7.2,6.9,6.7,6.6,7.2,6.5,7.4,6.5,6.9,6.5,6.6,6.7,7.4,6.6,6.5,6.5,6.8,6.8,6.8,7.7,6.8,6.8,6.8,6.7,7.0,6.5,7.9,7.8,8.4,6.8,7.2,6.5,8.0,7.5,7.2,6.9,6.8,6.6,6.7,6.9,6.6,8.1,6.7,7.1,6.7,7.5,8.1,6.9,7.1,8.3,6.6,6.7,6.7,6.7,6.9,6.8,6.5,6.8,7.7,6.5,6.6,6.8,8.0,8.0,6.5,6.7,6.6,7.6,6.5,6.7,7.0,6.7,6.6,6.5,6.8,6.5,6.5,6.8,7.6,6.6,7.5,7.6,7.2,7.2,6.7,6.6,7.2,7.8,6.9,6.7,6.5,6.7,8.6,6.6,7.1,6.8,6.5,6.5,6.7,7.1,6.6,6.6,7.2,9.1,8.1,6.8,6.8,7.0,7.1,7.1,7.2,7.5,6.7,6.7,6.6,6.7,7.0,6.5,6.8,6.6,7.4,7.2,6.5,6.5,6.9,6.6,6.7,6.5,6.6,6.7,7.3,7.0,6.7,7.3,6.6,6.5,6.5,6.8,6.6,6.5,6.6,7.0,6.7,6.7,6.5,7.3,7.4,8.16,6.6,7.2,7.6,6.5,6.8,6.9,6.6,7.0,7.0,6.8,6.5,6.8,7.6,6.5,7.3,6.7,6.7,7.9,7.4,6.6,6.7,7.6,6.5,7.6,6.5,6.5,6.5,6.6,6.7,7.1,6.7,6.8,7.1,6.5,7.5,7.4,6.6,6.5,6.7,6.6,7.2,6.8,6.8,6.5,7.8,7.0,7.5,7.0,6.5,6.6,6.5,7.6,6.6,6.7,8.4,6.7,6.8,6.5,6.8,7.1,7.4,6.6,7.7,6.9,7.7,6.9,7.1,6.8,7.5],\"coloraxis\":\"coloraxis\"},\"mode\":\"markers\",\"name\":\"\",\"showlegend\":false,\"subplot\":\"mapbox\",\"type\":\"scattermapbox\"}],                        {\"template\":{\"data\":{\"histogram2dcontour\":[{\"type\":\"histogram2dcontour\",\"colorbar\":{\"outlinewidth\":0,\"ticks\":\"\"},\"colorscale\":[[0.0,\"#0d0887\"],[0.1111111111111111,\"#46039f\"],[0.2222222222222222,\"#7201a8\"],[0.3333333333333333,\"#9c179e\"],[0.4444444444444444,\"#bd3786\"],[0.5555555555555556,\"#d8576b\"],[0.6666666666666666,\"#ed7953\"],[0.7777777777777778,\"#fb9f3a\"],[0.8888888888888888,\"#fdca26\"],[1.0,\"#f0f921\"]]}],\"choropleth\":[{\"type\":\"choropleth\",\"colorbar\":{\"outlinewidth\":0,\"ticks\":\"\"}}],\"histogram2d\":[{\"type\":\"histogram2d\",\"colorbar\":{\"outlinewidth\":0,\"ticks\":\"\"},\"colorscale\":[[0.0,\"#0d0887\"],[0.1111111111111111,\"#46039f\"],[0.2222222222222222,\"#7201a8\"],[0.3333333333333333,\"#9c179e\"],[0.4444444444444444,\"#bd3786\"],[0.5555555555555556,\"#d8576b\"],[0.6666666666666666,\"#ed7953\"],[0.7777777777777778,\"#fb9f3a\"],[0.8888888888888888,\"#fdca26\"],[1.0,\"#f0f921\"]]}],\"heatmap\":[{\"type\":\"heatmap\",\"colorbar\":{\"outlinewidth\":0,\"ticks\":\"\"},\"colorscale\":[[0.0,\"#0d0887\"],[0.1111111111111111,\"#46039f\"],[0.2222222222222222,\"#7201a8\"],[0.3333333333333333,\"#9c179e\"],[0.4444444444444444,\"#bd3786\"],[0.5555555555555556,\"#d8576b\"],[0.6666666666666666,\"#ed7953\"],[0.7777777777777778,\"#fb9f3a\"],[0.8888888888888888,\"#fdca26\"],[1.0,\"#f0f921\"]]}],\"heatmapgl\":[{\"type\":\"heatmapgl\",\"colorbar\":{\"outlinewidth\":0,\"ticks\":\"\"},\"colorscale\":[[0.0,\"#0d0887\"],[0.1111111111111111,\"#46039f\"],[0.2222222222222222,\"#7201a8\"],[0.3333333333333333,\"#9c179e\"],[0.4444444444444444,\"#bd3786\"],[0.5555555555555556,\"#d8576b\"],[0.6666666666666666,\"#ed7953\"],[0.7777777777777778,\"#fb9f3a\"],[0.8888888888888888,\"#fdca26\"],[1.0,\"#f0f921\"]]}],\"contourcarpet\":[{\"type\":\"contourcarpet\",\"colorbar\":{\"outlinewidth\":0,\"ticks\":\"\"}}],\"contour\":[{\"type\":\"contour\",\"colorbar\":{\"outlinewidth\":0,\"ticks\":\"\"},\"colorscale\":[[0.0,\"#0d0887\"],[0.1111111111111111,\"#46039f\"],[0.2222222222222222,\"#7201a8\"],[0.3333333333333333,\"#9c179e\"],[0.4444444444444444,\"#bd3786\"],[0.5555555555555556,\"#d8576b\"],[0.6666666666666666,\"#ed7953\"],[0.7777777777777778,\"#fb9f3a\"],[0.8888888888888888,\"#fdca26\"],[1.0,\"#f0f921\"]]}],\"surface\":[{\"type\":\"surface\",\"colorbar\":{\"outlinewidth\":0,\"ticks\":\"\"},\"colorscale\":[[0.0,\"#0d0887\"],[0.1111111111111111,\"#46039f\"],[0.2222222222222222,\"#7201a8\"],[0.3333333333333333,\"#9c179e\"],[0.4444444444444444,\"#bd3786\"],[0.5555555555555556,\"#d8576b\"],[0.6666666666666666,\"#ed7953\"],[0.7777777777777778,\"#fb9f3a\"],[0.8888888888888888,\"#fdca26\"],[1.0,\"#f0f921\"]]}],\"mesh3d\":[{\"type\":\"mesh3d\",\"colorbar\":{\"outlinewidth\":0,\"ticks\":\"\"}}],\"scatter\":[{\"fillpattern\":{\"fillmode\":\"overlay\",\"size\":10,\"solidity\":0.2},\"type\":\"scatter\"}],\"parcoords\":[{\"type\":\"parcoords\",\"line\":{\"colorbar\":{\"outlinewidth\":0,\"ticks\":\"\"}}}],\"scatterpolargl\":[{\"type\":\"scatterpolargl\",\"marker\":{\"colorbar\":{\"outlinewidth\":0,\"ticks\":\"\"}}}],\"bar\":[{\"error_x\":{\"color\":\"#2a3f5f\"},\"error_y\":{\"color\":\"#2a3f5f\"},\"marker\":{\"line\":{\"color\":\"#E5ECF6\",\"width\":0.5},\"pattern\":{\"fillmode\":\"overlay\",\"size\":10,\"solidity\":0.2}},\"type\":\"bar\"}],\"scattergeo\":[{\"type\":\"scattergeo\",\"marker\":{\"colorbar\":{\"outlinewidth\":0,\"ticks\":\"\"}}}],\"scatterpolar\":[{\"type\":\"scatterpolar\",\"marker\":{\"colorbar\":{\"outlinewidth\":0,\"ticks\":\"\"}}}],\"histogram\":[{\"marker\":{\"pattern\":{\"fillmode\":\"overlay\",\"size\":10,\"solidity\":0.2}},\"type\":\"histogram\"}],\"scattergl\":[{\"type\":\"scattergl\",\"marker\":{\"colorbar\":{\"outlinewidth\":0,\"ticks\":\"\"}}}],\"scatter3d\":[{\"type\":\"scatter3d\",\"line\":{\"colorbar\":{\"outlinewidth\":0,\"ticks\":\"\"}},\"marker\":{\"colorbar\":{\"outlinewidth\":0,\"ticks\":\"\"}}}],\"scattermapbox\":[{\"type\":\"scattermapbox\",\"marker\":{\"colorbar\":{\"outlinewidth\":0,\"ticks\":\"\"}}}],\"scatterternary\":[{\"type\":\"scatterternary\",\"marker\":{\"colorbar\":{\"outlinewidth\":0,\"ticks\":\"\"}}}],\"scattercarpet\":[{\"type\":\"scattercarpet\",\"marker\":{\"colorbar\":{\"outlinewidth\":0,\"ticks\":\"\"}}}],\"carpet\":[{\"aaxis\":{\"endlinecolor\":\"#2a3f5f\",\"gridcolor\":\"white\",\"linecolor\":\"white\",\"minorgridcolor\":\"white\",\"startlinecolor\":\"#2a3f5f\"},\"baxis\":{\"endlinecolor\":\"#2a3f5f\",\"gridcolor\":\"white\",\"linecolor\":\"white\",\"minorgridcolor\":\"white\",\"startlinecolor\":\"#2a3f5f\"},\"type\":\"carpet\"}],\"table\":[{\"cells\":{\"fill\":{\"color\":\"#EBF0F8\"},\"line\":{\"color\":\"white\"}},\"header\":{\"fill\":{\"color\":\"#C8D4E3\"},\"line\":{\"color\":\"white\"}},\"type\":\"table\"}],\"barpolar\":[{\"marker\":{\"line\":{\"color\":\"#E5ECF6\",\"width\":0.5},\"pattern\":{\"fillmode\":\"overlay\",\"size\":10,\"solidity\":0.2}},\"type\":\"barpolar\"}],\"pie\":[{\"automargin\":true,\"type\":\"pie\"}]},\"layout\":{\"autotypenumbers\":\"strict\",\"colorway\":[\"#636efa\",\"#EF553B\",\"#00cc96\",\"#ab63fa\",\"#FFA15A\",\"#19d3f3\",\"#FF6692\",\"#B6E880\",\"#FF97FF\",\"#FECB52\"],\"font\":{\"color\":\"#2a3f5f\"},\"hovermode\":\"closest\",\"hoverlabel\":{\"align\":\"left\"},\"paper_bgcolor\":\"white\",\"plot_bgcolor\":\"#E5ECF6\",\"polar\":{\"bgcolor\":\"#E5ECF6\",\"angularaxis\":{\"gridcolor\":\"white\",\"linecolor\":\"white\",\"ticks\":\"\"},\"radialaxis\":{\"gridcolor\":\"white\",\"linecolor\":\"white\",\"ticks\":\"\"}},\"ternary\":{\"bgcolor\":\"#E5ECF6\",\"aaxis\":{\"gridcolor\":\"white\",\"linecolor\":\"white\",\"ticks\":\"\"},\"baxis\":{\"gridcolor\":\"white\",\"linecolor\":\"white\",\"ticks\":\"\"},\"caxis\":{\"gridcolor\":\"white\",\"linecolor\":\"white\",\"ticks\":\"\"}},\"coloraxis\":{\"colorbar\":{\"outlinewidth\":0,\"ticks\":\"\"}},\"colorscale\":{\"sequential\":[[0.0,\"#0d0887\"],[0.1111111111111111,\"#46039f\"],[0.2222222222222222,\"#7201a8\"],[0.3333333333333333,\"#9c179e\"],[0.4444444444444444,\"#bd3786\"],[0.5555555555555556,\"#d8576b\"],[0.6666666666666666,\"#ed7953\"],[0.7777777777777778,\"#fb9f3a\"],[0.8888888888888888,\"#fdca26\"],[1.0,\"#f0f921\"]],\"sequentialminus\":[[0.0,\"#0d0887\"],[0.1111111111111111,\"#46039f\"],[0.2222222222222222,\"#7201a8\"],[0.3333333333333333,\"#9c179e\"],[0.4444444444444444,\"#bd3786\"],[0.5555555555555556,\"#d8576b\"],[0.6666666666666666,\"#ed7953\"],[0.7777777777777778,\"#fb9f3a\"],[0.8888888888888888,\"#fdca26\"],[1.0,\"#f0f921\"]],\"diverging\":[[0,\"#8e0152\"],[0.1,\"#c51b7d\"],[0.2,\"#de77ae\"],[0.3,\"#f1b6da\"],[0.4,\"#fde0ef\"],[0.5,\"#f7f7f7\"],[0.6,\"#e6f5d0\"],[0.7,\"#b8e186\"],[0.8,\"#7fbc41\"],[0.9,\"#4d9221\"],[1,\"#276419\"]]},\"xaxis\":{\"gridcolor\":\"white\",\"linecolor\":\"white\",\"ticks\":\"\",\"title\":{\"standoff\":15},\"zerolinecolor\":\"white\",\"automargin\":true,\"zerolinewidth\":2},\"yaxis\":{\"gridcolor\":\"white\",\"linecolor\":\"white\",\"ticks\":\"\",\"title\":{\"standoff\":15},\"zerolinecolor\":\"white\",\"automargin\":true,\"zerolinewidth\":2},\"scene\":{\"xaxis\":{\"backgroundcolor\":\"#E5ECF6\",\"gridcolor\":\"white\",\"linecolor\":\"white\",\"showbackground\":true,\"ticks\":\"\",\"zerolinecolor\":\"white\",\"gridwidth\":2},\"yaxis\":{\"backgroundcolor\":\"#E5ECF6\",\"gridcolor\":\"white\",\"linecolor\":\"white\",\"showbackground\":true,\"ticks\":\"\",\"zerolinecolor\":\"white\",\"gridwidth\":2},\"zaxis\":{\"backgroundcolor\":\"#E5ECF6\",\"gridcolor\":\"white\",\"linecolor\":\"white\",\"showbackground\":true,\"ticks\":\"\",\"zerolinecolor\":\"white\",\"gridwidth\":2}},\"shapedefaults\":{\"line\":{\"color\":\"#2a3f5f\"}},\"annotationdefaults\":{\"arrowcolor\":\"#2a3f5f\",\"arrowhead\":0,\"arrowwidth\":1},\"geo\":{\"bgcolor\":\"white\",\"landcolor\":\"#E5ECF6\",\"subunitcolor\":\"white\",\"showland\":true,\"showlakes\":true,\"lakecolor\":\"white\"},\"title\":{\"x\":0.05},\"mapbox\":{\"style\":\"light\"}}},\"mapbox\":{\"domain\":{\"x\":[0.0,1.0],\"y\":[0.0,1.0]},\"center\":{\"lat\":3.5380998721227632,\"lon\":52.60919936061381},\"zoom\":1.0,\"style\":\"open-street-map\"},\"coloraxis\":{\"colorbar\":{\"title\":{\"text\":\"magnitude\"}},\"colorscale\":[[0.0,\"#0d0887\"],[0.1111111111111111,\"#46039f\"],[0.2222222222222222,\"#7201a8\"],[0.3333333333333333,\"#9c179e\"],[0.4444444444444444,\"#bd3786\"],[0.5555555555555556,\"#d8576b\"],[0.6666666666666666,\"#ed7953\"],[0.7777777777777778,\"#fb9f3a\"],[0.8888888888888888,\"#fdca26\"],[1.0,\"#f0f921\"]]},\"legend\":{\"tracegroupgap\":0},\"margin\":{\"t\":60}},                        {\"responsive\": true}                    ).then(function(){\n",
       "                            \n",
       "var gd = document.getElementById('4c3870e5-664e-4386-b613-85036050e4f1');\n",
       "var x = new MutationObserver(function (mutations, observer) {{\n",
       "        var display = window.getComputedStyle(gd).display;\n",
       "        if (!display || display === 'none') {{\n",
       "            console.log([gd, 'removed!']);\n",
       "            Plotly.purge(gd);\n",
       "            observer.disconnect();\n",
       "        }}\n",
       "}});\n",
       "\n",
       "// Listen for the removal of the full notebook cells\n",
       "var notebookContainer = gd.closest('#notebook-container');\n",
       "if (notebookContainer) {{\n",
       "    x.observe(notebookContainer, {childList: true});\n",
       "}}\n",
       "\n",
       "// Listen for the clearing of the current output cell\n",
       "var outputEl = gd.closest('.output');\n",
       "if (outputEl) {{\n",
       "    x.observe(outputEl, {childList: true});\n",
       "}}\n",
       "\n",
       "                        })                };                });            </script>        </div>"
      ]
     },
     "metadata": {},
     "output_type": "display_data"
    }
   ],
   "source": [
    "import plotly.express as px \n",
    "\n",
    "fig = px.scatter_mapbox(earthquake_df, lat=\"latitude\", lon=\"longitude\", color=\"magnitude\",  hover_data=['magnitude', 'location','sig'],\n",
    "                        mapbox_style=\"open-street-map\", zoom = 1.0, color_continuous_scale = 'Plasma')\n",
    "fig.show()"
   ]
  }
 ],
 "metadata": {
  "kernelspec": {
   "display_name": "Python 3",
   "language": "python",
   "name": "python3"
  },
  "language_info": {
   "codemirror_mode": {
    "name": "ipython",
    "version": 3
   },
   "file_extension": ".py",
   "mimetype": "text/x-python",
   "name": "python",
   "nbconvert_exporter": "python",
   "pygments_lexer": "ipython3",
   "version": "3.8.8"
  }
 },
 "nbformat": 4,
 "nbformat_minor": 5
}
